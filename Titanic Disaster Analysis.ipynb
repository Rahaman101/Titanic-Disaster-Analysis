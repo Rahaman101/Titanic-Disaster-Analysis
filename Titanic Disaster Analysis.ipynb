{
 "cells": [
  {
   "cell_type": "markdown",
   "id": "5538103a",
   "metadata": {
    "papermill": {
     "duration": 0.02354,
     "end_time": "2023-07-06T18:59:32.667599",
     "exception": false,
     "start_time": "2023-07-06T18:59:32.644059",
     "status": "completed"
    },
    "tags": []
   },
   "source": [
    "### <div style=\"padding: 35px;color:Black;margin:10;font-size:200%;text-align:center;display:fill;border-radius:10px;overflow:hidden;background-image: url(https://images.definition.org/wp-content/uploads/2018/04/Titanic_11.jpg)\"><b><span style='color:#404040'>Titanic model 🚢🌊 Getting Started.. </span></b> </div>\n",
    "\n",
    "<br>\n",
    "\n",
    "In this kernel I will create a machine learning model on the famous Titanic dataset, which is used by many people all over the world. The objective of this project is to build a model to predict whether passengers on the Titanic would survive or not based on pattern extracted from analysing features.\n",
    "\n",
    "<br>\n",
    "\n",
    "<p style=\"text-align:center; \">\n",
    "<img src=\"https://cf.ltkcdn.net/kids/images/std/236793-1600x1200-titanic.jpg\" style='width: 500px; height: 350px;'>\n",
    "</p>\n",
    "\n",
    "<br>\n",
    "\n",
    "### <b><span style='color:#0077b3'>|</span> Domain Knowledge</b>\n",
    "\n",
    "<br>\n",
    "\n",
    "* `survival`: Target column has two values (0 = No, 1 = Yes).\n",
    "* `pclass`:\tTicket class (1 = 1st, 2 = 2nd, 3 = 3rd).\n",
    "* `sex`: male or female.\n",
    "* `Age`: Age of passengers in years.\t\n",
    "* `sibsp`: number of siblings / spouses aboard the Titanic.\t\n",
    "* `parch`: number of parents / children aboard the Titanic.\n",
    "* `ticket`:\tTicket number.\n",
    "* `fare`: Passenger fare.\n",
    "* `cabin`: Cabin number.\t\n",
    "* `embarked`: Port of Embarkation has three values (C = Cherbourg, Q = Queenstown, S = Southampton)   \n",
    "\n",
    "✔️ **These variables, in combination with appropriate statistical and machine learning techniques, can help predict whether passengers would survive or not.**\n",
    "\n",
    "<br>\n",
    "\n",
    "<div style=\"padding: 20px;color:Black;margin:10;font-size:170%;text-align:center;display:fill;border-radius:10px;overflow:hidden;background-image: url(https://images.definition.org/wp-content/uploads/2018/04/Titanic_11.jpg)\"><b><span style='color:#404040'> Table of contents </span></b> </div>\n",
    "\n",
    "    \n",
    "|No  | Contents |\n",
    "|:---| :---     |\n",
    "|1   | [<font color=\"#1c1c1c\"> Introduction </font>](#1)                   \n",
    "|2   | [<font color=\"#1c1c1c\"> Data Review </font>](#2)                         \n",
    "|3   | [<font color=\"#1c1c1c\"> Explore data analysis </font>](#3)                     \n",
    "|4   | [<font color=\"#1c1c1c\"> data preprocessing </font>](#4)                       \n",
    "|5   | [<font color=\"#1c1c1c\"> Modeling </font>](#5)      \n",
    "|6   | [<font color=\"#1c1c1c\"> Evaluate </font>](#6)              \n",
    "|7   | [<font color=\"#1c1c1c\"> Submission </font>](#7)              \n",
    "|8   | [<font color=\"#1c1c1c\"> Conclusion </font>](#8)              \n",
    "   "
   ]
  },
  {
   "cell_type": "markdown",
   "id": "4a1eff20",
   "metadata": {
    "papermill": {
     "duration": 0.028697,
     "end_time": "2023-07-06T18:59:32.720255",
     "exception": false,
     "start_time": "2023-07-06T18:59:32.691558",
     "status": "completed"
    },
    "tags": []
   },
   "source": [
    "# <a id=\"1\"></a>\n",
    "<div style=\"padding: 30px;color:white;margin:10;font-size:170%;text-align:left;display:fill;border-radius:10px;background-color:#F1C40F;overflow:hidden;background-image: url(https://th.bing.com/th/id/R.3be5e39321febd4c1f758691e109c8bd?rik=lkhAzU4ulIuL0Q&riu=http%3a%2f%2fupload.wikimedia.org%2fwikipedia%2fcommons%2f5%2f56%2fRMS_Titanic_2.jpg&ehk=VbIvq0%2b63pXvH%2bl3Ln4tlz%2bwppwyoN%2fUTZDuGVYTHiQ%3d&risl=&pid=ImgRaw&r=0)\"><b><span style='color:#404040'>0 | Introduction </span></b> </div>\n",
    "\n",
    "## <b>I <span style='color:#595959'>|</span> Import libraries</b> "
   ]
  },
  {
   "cell_type": "code",
   "execution_count": 1,
   "id": "0e553552",
   "metadata": {
    "execution": {
     "iopub.execute_input": "2023-07-06T18:59:32.771744Z",
     "iopub.status.busy": "2023-07-06T18:59:32.771117Z",
     "iopub.status.idle": "2023-07-06T18:59:35.132646Z",
     "shell.execute_reply": "2023-07-06T18:59:35.131420Z"
    },
    "papermill": {
     "duration": 2.389718,
     "end_time": "2023-07-06T18:59:35.135575",
     "exception": false,
     "start_time": "2023-07-06T18:59:32.745857",
     "status": "completed"
    },
    "tags": []
   },
   "outputs": [
    {
     "name": "stderr",
     "output_type": "stream",
     "text": [
      "/var/folders/ms/g5dss8lj7h9dp49v7kvt1hl00000gq/T/ipykernel_3049/2287212041.py:35: UserWarning: once\n",
      "  warnings.warn(\"once\")\n"
     ]
    }
   ],
   "source": [
    "# linear algebra\n",
    "import numpy as np \n",
    "\n",
    "# data processing\n",
    "import pandas as pd \n",
    "import re\n",
    "\n",
    "# data visualization\n",
    "import seaborn as sns\n",
    "from matplotlib import pyplot as plt\n",
    "from matplotlib import style\n",
    "\n",
    "#machine learning libraries:\n",
    "from sklearn.ensemble import RandomForestClassifier, GradientBoostingClassifier\n",
    "from sklearn.tree import DecisionTreeClassifier\n",
    "from xgboost import XGBClassifier\n",
    "from sklearn.neighbors import KNeighborsClassifier\n",
    "from sklearn.linear_model import LogisticRegression\n",
    "from sklearn.svm import SVC\n",
    "from sklearn.model_selection import GridSearchCV, train_test_split\n",
    "from sklearn.model_selection import cross_val_score, cross_val_predict\n",
    "\n",
    "#evaluation\n",
    "from sklearn.metrics import accuracy_score, confusion_matrix\n",
    "from sklearn.metrics import roc_auc_score, roc_curve \n",
    "from sklearn.metrics import r2_score,f1_score, precision_score, recall_score\n",
    "from sklearn.metrics import precision_recall_curve\n",
    "\n",
    "import os\n",
    "os.environ['PYTHONWARNINGS']='ignore::FutureWarning'\n",
    "\n",
    "import warnings\n",
    "from sklearn.exceptions import DataConversionWarning\n",
    "warnings.filterwarnings('ignore', category=DataConversionWarning)\n",
    "warnings.warn(\"once\")"
   ]
  },
  {
   "cell_type": "markdown",
   "id": "22ee77f2",
   "metadata": {
    "papermill": {
     "duration": 0.023292,
     "end_time": "2023-07-06T18:59:35.182500",
     "exception": false,
     "start_time": "2023-07-06T18:59:35.159208",
     "status": "completed"
    },
    "tags": []
   },
   "source": [
    "## <b>II <span style='color:#595959'>|</span> Import data</b> "
   ]
  },
  {
   "cell_type": "code",
   "execution_count": 2,
   "id": "a42f2dc4",
   "metadata": {
    "execution": {
     "iopub.execute_input": "2023-07-06T18:59:35.231169Z",
     "iopub.status.busy": "2023-07-06T18:59:35.230742Z",
     "iopub.status.idle": "2023-07-06T18:59:35.268036Z",
     "shell.execute_reply": "2023-07-06T18:59:35.266891Z"
    },
    "papermill": {
     "duration": 0.064817,
     "end_time": "2023-07-06T18:59:35.270709",
     "exception": false,
     "start_time": "2023-07-06T18:59:35.205892",
     "status": "completed"
    },
    "tags": []
   },
   "outputs": [],
   "source": [
    "train_df = pd.read_csv(\"train.csv\")\n",
    "test_df = pd.read_csv(\"test.csv\")"
   ]
  },
  {
   "cell_type": "code",
   "execution_count": 3,
   "id": "5debd767",
   "metadata": {
    "execution": {
     "iopub.execute_input": "2023-07-06T18:59:35.318857Z",
     "iopub.status.busy": "2023-07-06T18:59:35.318473Z",
     "iopub.status.idle": "2023-07-06T18:59:35.355495Z",
     "shell.execute_reply": "2023-07-06T18:59:35.354257Z"
    },
    "papermill": {
     "duration": 0.063854,
     "end_time": "2023-07-06T18:59:35.357874",
     "exception": false,
     "start_time": "2023-07-06T18:59:35.294020",
     "status": "completed"
    },
    "scrolled": true,
    "tags": []
   },
   "outputs": [
    {
     "data": {
      "text/html": [
       "<div>\n",
       "<style scoped>\n",
       "    .dataframe tbody tr th:only-of-type {\n",
       "        vertical-align: middle;\n",
       "    }\n",
       "\n",
       "    .dataframe tbody tr th {\n",
       "        vertical-align: top;\n",
       "    }\n",
       "\n",
       "    .dataframe thead th {\n",
       "        text-align: right;\n",
       "    }\n",
       "</style>\n",
       "<table border=\"1\" class=\"dataframe\">\n",
       "  <thead>\n",
       "    <tr style=\"text-align: right;\">\n",
       "      <th></th>\n",
       "      <th>PassengerId</th>\n",
       "      <th>Survived</th>\n",
       "      <th>Pclass</th>\n",
       "      <th>Name</th>\n",
       "      <th>Sex</th>\n",
       "      <th>Age</th>\n",
       "      <th>SibSp</th>\n",
       "      <th>Parch</th>\n",
       "      <th>Ticket</th>\n",
       "      <th>Fare</th>\n",
       "      <th>Cabin</th>\n",
       "      <th>Embarked</th>\n",
       "    </tr>\n",
       "  </thead>\n",
       "  <tbody>\n",
       "    <tr>\n",
       "      <th>0</th>\n",
       "      <td>1</td>\n",
       "      <td>0</td>\n",
       "      <td>3</td>\n",
       "      <td>Braund, Mr. Owen Harris</td>\n",
       "      <td>male</td>\n",
       "      <td>22.0</td>\n",
       "      <td>1</td>\n",
       "      <td>0</td>\n",
       "      <td>A/5 21171</td>\n",
       "      <td>7.2500</td>\n",
       "      <td>NaN</td>\n",
       "      <td>S</td>\n",
       "    </tr>\n",
       "    <tr>\n",
       "      <th>1</th>\n",
       "      <td>2</td>\n",
       "      <td>1</td>\n",
       "      <td>1</td>\n",
       "      <td>Cumings, Mrs. John Bradley (Florence Briggs Th...</td>\n",
       "      <td>female</td>\n",
       "      <td>38.0</td>\n",
       "      <td>1</td>\n",
       "      <td>0</td>\n",
       "      <td>PC 17599</td>\n",
       "      <td>71.2833</td>\n",
       "      <td>C85</td>\n",
       "      <td>C</td>\n",
       "    </tr>\n",
       "    <tr>\n",
       "      <th>2</th>\n",
       "      <td>3</td>\n",
       "      <td>1</td>\n",
       "      <td>3</td>\n",
       "      <td>Heikkinen, Miss. Laina</td>\n",
       "      <td>female</td>\n",
       "      <td>26.0</td>\n",
       "      <td>0</td>\n",
       "      <td>0</td>\n",
       "      <td>STON/O2. 3101282</td>\n",
       "      <td>7.9250</td>\n",
       "      <td>NaN</td>\n",
       "      <td>S</td>\n",
       "    </tr>\n",
       "    <tr>\n",
       "      <th>3</th>\n",
       "      <td>4</td>\n",
       "      <td>1</td>\n",
       "      <td>1</td>\n",
       "      <td>Futrelle, Mrs. Jacques Heath (Lily May Peel)</td>\n",
       "      <td>female</td>\n",
       "      <td>35.0</td>\n",
       "      <td>1</td>\n",
       "      <td>0</td>\n",
       "      <td>113803</td>\n",
       "      <td>53.1000</td>\n",
       "      <td>C123</td>\n",
       "      <td>S</td>\n",
       "    </tr>\n",
       "    <tr>\n",
       "      <th>4</th>\n",
       "      <td>5</td>\n",
       "      <td>0</td>\n",
       "      <td>3</td>\n",
       "      <td>Allen, Mr. William Henry</td>\n",
       "      <td>male</td>\n",
       "      <td>35.0</td>\n",
       "      <td>0</td>\n",
       "      <td>0</td>\n",
       "      <td>373450</td>\n",
       "      <td>8.0500</td>\n",
       "      <td>NaN</td>\n",
       "      <td>S</td>\n",
       "    </tr>\n",
       "  </tbody>\n",
       "</table>\n",
       "</div>"
      ],
      "text/plain": [
       "   PassengerId  Survived  Pclass  \\\n",
       "0            1         0       3   \n",
       "1            2         1       1   \n",
       "2            3         1       3   \n",
       "3            4         1       1   \n",
       "4            5         0       3   \n",
       "\n",
       "                                                Name     Sex   Age  SibSp  \\\n",
       "0                            Braund, Mr. Owen Harris    male  22.0      1   \n",
       "1  Cumings, Mrs. John Bradley (Florence Briggs Th...  female  38.0      1   \n",
       "2                             Heikkinen, Miss. Laina  female  26.0      0   \n",
       "3       Futrelle, Mrs. Jacques Heath (Lily May Peel)  female  35.0      1   \n",
       "4                           Allen, Mr. William Henry    male  35.0      0   \n",
       "\n",
       "   Parch            Ticket     Fare Cabin Embarked  \n",
       "0      0         A/5 21171   7.2500   NaN        S  \n",
       "1      0          PC 17599  71.2833   C85        C  \n",
       "2      0  STON/O2. 3101282   7.9250   NaN        S  \n",
       "3      0            113803  53.1000  C123        S  \n",
       "4      0            373450   8.0500   NaN        S  "
      ]
     },
     "execution_count": 3,
     "metadata": {},
     "output_type": "execute_result"
    }
   ],
   "source": [
    "train_df.head(5)"
   ]
  },
  {
   "cell_type": "markdown",
   "id": "00eedf42",
   "metadata": {
    "papermill": {
     "duration": 0.022999,
     "end_time": "2023-07-06T18:59:35.405335",
     "exception": false,
     "start_time": "2023-07-06T18:59:35.382336",
     "status": "completed"
    },
    "tags": []
   },
   "source": [
    "# <a id=\"2\"></a>\n",
    "<div style=\"padding: 30px;color:white;margin:10;font-size:170%;text-align:left;display:fill;border-radius:10px;background-color:#F1C40F;overflow:hidden;background-image: url(https://th.bing.com/th/id/R.3be5e39321febd4c1f758691e109c8bd?rik=lkhAzU4ulIuL0Q&riu=http%3a%2f%2fupload.wikimedia.org%2fwikipedia%2fcommons%2f5%2f56%2fRMS_Titanic_2.jpg&ehk=VbIvq0%2b63pXvH%2bl3Ln4tlz%2bwppwyoN%2fUTZDuGVYTHiQ%3d&risl=&pid=ImgRaw&r=0)\"><b><span style='color:#404040'>1 | Data Review </span></b> </div>"
   ]
  },
  {
   "cell_type": "code",
   "execution_count": 4,
   "id": "3858c495",
   "metadata": {
    "execution": {
     "iopub.execute_input": "2023-07-06T18:59:35.454615Z",
     "iopub.status.busy": "2023-07-06T18:59:35.453821Z",
     "iopub.status.idle": "2023-07-06T18:59:35.460288Z",
     "shell.execute_reply": "2023-07-06T18:59:35.459079Z"
    },
    "papermill": {
     "duration": 0.0336,
     "end_time": "2023-07-06T18:59:35.462516",
     "exception": false,
     "start_time": "2023-07-06T18:59:35.428916",
     "status": "completed"
    },
    "tags": []
   },
   "outputs": [
    {
     "name": "stdout",
     "output_type": "stream",
     "text": [
      "The shape of data:\n",
      "\n",
      "1) training: (891, 12)\n",
      "2) testing: (418, 11)\n",
      "\n"
     ]
    }
   ],
   "source": [
    "print(f'''The shape of data:\n",
    "\n",
    "1) training: {train_df.shape}\n",
    "2) testing: {test_df.shape}\n",
    "''')"
   ]
  },
  {
   "cell_type": "code",
   "execution_count": 5,
   "id": "2bb16c63",
   "metadata": {
    "execution": {
     "iopub.execute_input": "2023-07-06T18:59:35.511748Z",
     "iopub.status.busy": "2023-07-06T18:59:35.510881Z",
     "iopub.status.idle": "2023-07-06T18:59:35.538113Z",
     "shell.execute_reply": "2023-07-06T18:59:35.536426Z"
    },
    "papermill": {
     "duration": 0.054412,
     "end_time": "2023-07-06T18:59:35.540477",
     "exception": false,
     "start_time": "2023-07-06T18:59:35.486065",
     "status": "completed"
    },
    "tags": []
   },
   "outputs": [
    {
     "name": "stdout",
     "output_type": "stream",
     "text": [
      "<class 'pandas.core.frame.DataFrame'>\n",
      "RangeIndex: 891 entries, 0 to 890\n",
      "Data columns (total 12 columns):\n",
      " #   Column       Non-Null Count  Dtype  \n",
      "---  ------       --------------  -----  \n",
      " 0   PassengerId  891 non-null    int64  \n",
      " 1   Survived     891 non-null    int64  \n",
      " 2   Pclass       891 non-null    int64  \n",
      " 3   Name         891 non-null    object \n",
      " 4   Sex          891 non-null    object \n",
      " 5   Age          714 non-null    float64\n",
      " 6   SibSp        891 non-null    int64  \n",
      " 7   Parch        891 non-null    int64  \n",
      " 8   Ticket       891 non-null    object \n",
      " 9   Fare         891 non-null    float64\n",
      " 10  Cabin        204 non-null    object \n",
      " 11  Embarked     889 non-null    object \n",
      "dtypes: float64(2), int64(5), object(5)\n",
      "memory usage: 83.7+ KB\n",
      "None\n"
     ]
    }
   ],
   "source": [
    "print(train_df.info())"
   ]
  },
  {
   "cell_type": "code",
   "execution_count": 6,
   "id": "cc0db8a8",
   "metadata": {
    "execution": {
     "iopub.execute_input": "2023-07-06T18:59:35.590058Z",
     "iopub.status.busy": "2023-07-06T18:59:35.589080Z",
     "iopub.status.idle": "2023-07-06T18:59:35.621444Z",
     "shell.execute_reply": "2023-07-06T18:59:35.620276Z"
    },
    "papermill": {
     "duration": 0.059486,
     "end_time": "2023-07-06T18:59:35.623726",
     "exception": false,
     "start_time": "2023-07-06T18:59:35.564240",
     "status": "completed"
    },
    "tags": []
   },
   "outputs": [
    {
     "data": {
      "text/html": [
       "<div>\n",
       "<style scoped>\n",
       "    .dataframe tbody tr th:only-of-type {\n",
       "        vertical-align: middle;\n",
       "    }\n",
       "\n",
       "    .dataframe tbody tr th {\n",
       "        vertical-align: top;\n",
       "    }\n",
       "\n",
       "    .dataframe thead th {\n",
       "        text-align: right;\n",
       "    }\n",
       "</style>\n",
       "<table border=\"1\" class=\"dataframe\">\n",
       "  <thead>\n",
       "    <tr style=\"text-align: right;\">\n",
       "      <th></th>\n",
       "      <th>PassengerId</th>\n",
       "      <th>Survived</th>\n",
       "      <th>Pclass</th>\n",
       "      <th>Age</th>\n",
       "      <th>SibSp</th>\n",
       "      <th>Parch</th>\n",
       "      <th>Fare</th>\n",
       "    </tr>\n",
       "  </thead>\n",
       "  <tbody>\n",
       "    <tr>\n",
       "      <th>count</th>\n",
       "      <td>891.000000</td>\n",
       "      <td>891.000000</td>\n",
       "      <td>891.000000</td>\n",
       "      <td>714.000000</td>\n",
       "      <td>891.000000</td>\n",
       "      <td>891.000000</td>\n",
       "      <td>891.000000</td>\n",
       "    </tr>\n",
       "    <tr>\n",
       "      <th>mean</th>\n",
       "      <td>446.000000</td>\n",
       "      <td>0.383838</td>\n",
       "      <td>2.308642</td>\n",
       "      <td>29.699118</td>\n",
       "      <td>0.523008</td>\n",
       "      <td>0.381594</td>\n",
       "      <td>32.204208</td>\n",
       "    </tr>\n",
       "    <tr>\n",
       "      <th>std</th>\n",
       "      <td>257.353842</td>\n",
       "      <td>0.486592</td>\n",
       "      <td>0.836071</td>\n",
       "      <td>14.526497</td>\n",
       "      <td>1.102743</td>\n",
       "      <td>0.806057</td>\n",
       "      <td>49.693429</td>\n",
       "    </tr>\n",
       "    <tr>\n",
       "      <th>min</th>\n",
       "      <td>1.000000</td>\n",
       "      <td>0.000000</td>\n",
       "      <td>1.000000</td>\n",
       "      <td>0.420000</td>\n",
       "      <td>0.000000</td>\n",
       "      <td>0.000000</td>\n",
       "      <td>0.000000</td>\n",
       "    </tr>\n",
       "    <tr>\n",
       "      <th>25%</th>\n",
       "      <td>223.500000</td>\n",
       "      <td>0.000000</td>\n",
       "      <td>2.000000</td>\n",
       "      <td>20.125000</td>\n",
       "      <td>0.000000</td>\n",
       "      <td>0.000000</td>\n",
       "      <td>7.910400</td>\n",
       "    </tr>\n",
       "    <tr>\n",
       "      <th>50%</th>\n",
       "      <td>446.000000</td>\n",
       "      <td>0.000000</td>\n",
       "      <td>3.000000</td>\n",
       "      <td>28.000000</td>\n",
       "      <td>0.000000</td>\n",
       "      <td>0.000000</td>\n",
       "      <td>14.454200</td>\n",
       "    </tr>\n",
       "    <tr>\n",
       "      <th>75%</th>\n",
       "      <td>668.500000</td>\n",
       "      <td>1.000000</td>\n",
       "      <td>3.000000</td>\n",
       "      <td>38.000000</td>\n",
       "      <td>1.000000</td>\n",
       "      <td>0.000000</td>\n",
       "      <td>31.000000</td>\n",
       "    </tr>\n",
       "    <tr>\n",
       "      <th>max</th>\n",
       "      <td>891.000000</td>\n",
       "      <td>1.000000</td>\n",
       "      <td>3.000000</td>\n",
       "      <td>80.000000</td>\n",
       "      <td>8.000000</td>\n",
       "      <td>6.000000</td>\n",
       "      <td>512.329200</td>\n",
       "    </tr>\n",
       "  </tbody>\n",
       "</table>\n",
       "</div>"
      ],
      "text/plain": [
       "       PassengerId    Survived      Pclass         Age       SibSp  \\\n",
       "count   891.000000  891.000000  891.000000  714.000000  891.000000   \n",
       "mean    446.000000    0.383838    2.308642   29.699118    0.523008   \n",
       "std     257.353842    0.486592    0.836071   14.526497    1.102743   \n",
       "min       1.000000    0.000000    1.000000    0.420000    0.000000   \n",
       "25%     223.500000    0.000000    2.000000   20.125000    0.000000   \n",
       "50%     446.000000    0.000000    3.000000   28.000000    0.000000   \n",
       "75%     668.500000    1.000000    3.000000   38.000000    1.000000   \n",
       "max     891.000000    1.000000    3.000000   80.000000    8.000000   \n",
       "\n",
       "            Parch        Fare  \n",
       "count  891.000000  891.000000  \n",
       "mean     0.381594   32.204208  \n",
       "std      0.806057   49.693429  \n",
       "min      0.000000    0.000000  \n",
       "25%      0.000000    7.910400  \n",
       "50%      0.000000   14.454200  \n",
       "75%      0.000000   31.000000  \n",
       "max      6.000000  512.329200  "
      ]
     },
     "execution_count": 6,
     "metadata": {},
     "output_type": "execute_result"
    }
   ],
   "source": [
    "train_df.describe()"
   ]
  },
  {
   "cell_type": "code",
   "execution_count": 7,
   "id": "27985763",
   "metadata": {
    "execution": {
     "iopub.execute_input": "2023-07-06T18:59:35.673579Z",
     "iopub.status.busy": "2023-07-06T18:59:35.673178Z",
     "iopub.status.idle": "2023-07-06T18:59:35.695313Z",
     "shell.execute_reply": "2023-07-06T18:59:35.694165Z"
    },
    "papermill": {
     "duration": 0.049913,
     "end_time": "2023-07-06T18:59:35.697733",
     "exception": false,
     "start_time": "2023-07-06T18:59:35.647820",
     "status": "completed"
    },
    "tags": []
   },
   "outputs": [
    {
     "data": {
      "text/html": [
       "<div>\n",
       "<style scoped>\n",
       "    .dataframe tbody tr th:only-of-type {\n",
       "        vertical-align: middle;\n",
       "    }\n",
       "\n",
       "    .dataframe tbody tr th {\n",
       "        vertical-align: top;\n",
       "    }\n",
       "\n",
       "    .dataframe thead th {\n",
       "        text-align: right;\n",
       "    }\n",
       "</style>\n",
       "<table border=\"1\" class=\"dataframe\">\n",
       "  <thead>\n",
       "    <tr style=\"text-align: right;\">\n",
       "      <th></th>\n",
       "      <th>Name</th>\n",
       "      <th>Sex</th>\n",
       "      <th>Ticket</th>\n",
       "      <th>Cabin</th>\n",
       "      <th>Embarked</th>\n",
       "    </tr>\n",
       "  </thead>\n",
       "  <tbody>\n",
       "    <tr>\n",
       "      <th>count</th>\n",
       "      <td>891</td>\n",
       "      <td>891</td>\n",
       "      <td>891</td>\n",
       "      <td>204</td>\n",
       "      <td>889</td>\n",
       "    </tr>\n",
       "    <tr>\n",
       "      <th>unique</th>\n",
       "      <td>891</td>\n",
       "      <td>2</td>\n",
       "      <td>681</td>\n",
       "      <td>147</td>\n",
       "      <td>3</td>\n",
       "    </tr>\n",
       "    <tr>\n",
       "      <th>top</th>\n",
       "      <td>Braund, Mr. Owen Harris</td>\n",
       "      <td>male</td>\n",
       "      <td>347082</td>\n",
       "      <td>B96 B98</td>\n",
       "      <td>S</td>\n",
       "    </tr>\n",
       "    <tr>\n",
       "      <th>freq</th>\n",
       "      <td>1</td>\n",
       "      <td>577</td>\n",
       "      <td>7</td>\n",
       "      <td>4</td>\n",
       "      <td>644</td>\n",
       "    </tr>\n",
       "  </tbody>\n",
       "</table>\n",
       "</div>"
      ],
      "text/plain": [
       "                           Name   Sex  Ticket    Cabin Embarked\n",
       "count                       891   891     891      204      889\n",
       "unique                      891     2     681      147        3\n",
       "top     Braund, Mr. Owen Harris  male  347082  B96 B98        S\n",
       "freq                          1   577       7        4      644"
      ]
     },
     "execution_count": 7,
     "metadata": {},
     "output_type": "execute_result"
    }
   ],
   "source": [
    "train_df.describe(include=['O'])"
   ]
  },
  {
   "cell_type": "code",
   "execution_count": 8,
   "id": "5f281c48",
   "metadata": {
    "execution": {
     "iopub.execute_input": "2023-07-06T18:59:35.748293Z",
     "iopub.status.busy": "2023-07-06T18:59:35.747897Z",
     "iopub.status.idle": "2023-07-06T18:59:35.754331Z",
     "shell.execute_reply": "2023-07-06T18:59:35.753586Z"
    },
    "papermill": {
     "duration": 0.034572,
     "end_time": "2023-07-06T18:59:35.756415",
     "exception": false,
     "start_time": "2023-07-06T18:59:35.721843",
     "status": "completed"
    },
    "tags": []
   },
   "outputs": [
    {
     "data": {
      "text/plain": [
       "38.38"
      ]
     },
     "execution_count": 8,
     "metadata": {},
     "output_type": "execute_result"
    }
   ],
   "source": [
    "round(train_df['Survived'].mean()*100,2)"
   ]
  },
  {
   "cell_type": "code",
   "execution_count": 9,
   "id": "310a4e99",
   "metadata": {
    "execution": {
     "iopub.execute_input": "2023-07-06T18:59:35.807427Z",
     "iopub.status.busy": "2023-07-06T18:59:35.806243Z",
     "iopub.status.idle": "2023-07-06T18:59:35.814650Z",
     "shell.execute_reply": "2023-07-06T18:59:35.813496Z"
    },
    "papermill": {
     "duration": 0.036446,
     "end_time": "2023-07-06T18:59:35.816885",
     "exception": false,
     "start_time": "2023-07-06T18:59:35.780439",
     "status": "completed"
    },
    "tags": []
   },
   "outputs": [
    {
     "name": "stdout",
     "output_type": "stream",
     "text": [
      "PassengerId      int64\n",
      "Survived         int64\n",
      "Pclass           int64\n",
      "Name            object\n",
      "Sex             object\n",
      "Age            float64\n",
      "SibSp            int64\n",
      "Parch            int64\n",
      "Ticket          object\n",
      "Fare           float64\n",
      "Cabin           object\n",
      "Embarked        object\n",
      "dtype: object\n",
      "\n",
      "Number of float features: 2\n",
      "Number of int features: 5\n",
      "Number of object features: 5\n",
      "\n"
     ]
    }
   ],
   "source": [
    "print(train_df.dtypes)\n",
    "print(f\"\"\"\n",
    "Number of float features: {len(train_df.select_dtypes('float').columns)}\n",
    "Number of int features: {len(train_df.select_dtypes('int').columns)}\n",
    "Number of object features: {len(train_df.select_dtypes('object').columns)}\n",
    "\"\"\")"
   ]
  },
  {
   "cell_type": "markdown",
   "id": "1dfa6f83",
   "metadata": {
    "papermill": {
     "duration": 0.024195,
     "end_time": "2023-07-06T18:59:35.865810",
     "exception": false,
     "start_time": "2023-07-06T18:59:35.841615",
     "status": "completed"
    },
    "tags": []
   },
   "source": [
    "### **<mark style=\"color:white;border-radius:5px;opacity:1.0;background-image: url(https://th.bing.com/th/id/R.3be5e39321febd4c1f758691e109c8bd?rik=lkhAzU4ulIuL0Q&riu=http%3a%2f%2fupload.wikimedia.org%2fwikipedia%2fcommons%2f5%2f56%2fRMS_Titanic_2.jpg&ehk=VbIvq0%2b63pXvH%2bl3Ln4tlz%2bwppwyoN%2fUTZDuGVYTHiQ%3d&risl=&pid=ImgRaw&r=0)\"> Note that </mark>**\n",
    "you should put in your mind:\n",
    "\n",
    "**<mark style=\"background-color:#595959;color:white;border-radius:2px;opacity:1.0\">1</mark>** Which numerical features are `discrete` or `continuous`?\n",
    "\n",
    "**<mark style=\"background-color:#595959;color:white;border-radius:2px;opacity:1.0\">2</mark>** Which categorical features are `nominal`, `ordinal` or `ratio`?\n",
    "\n",
    "**<mark style=\"background-color:#595959;color:white;border-radius:2px;opacity:1.0\">3</mark>** Which features are mixed data types?\n",
    "\n",
    "\n",
    "This can help us select the appropriate and suitable plots for visualization."
   ]
  },
  {
   "cell_type": "code",
   "execution_count": 10,
   "id": "64b437cd",
   "metadata": {
    "execution": {
     "iopub.execute_input": "2023-07-06T18:59:35.916864Z",
     "iopub.status.busy": "2023-07-06T18:59:35.916461Z",
     "iopub.status.idle": "2023-07-06T18:59:35.932892Z",
     "shell.execute_reply": "2023-07-06T18:59:35.932048Z"
    },
    "papermill": {
     "duration": 0.044685,
     "end_time": "2023-07-06T18:59:35.935100",
     "exception": false,
     "start_time": "2023-07-06T18:59:35.890415",
     "status": "completed"
    },
    "tags": []
   },
   "outputs": [
    {
     "data": {
      "text/html": [
       "<div>\n",
       "<style scoped>\n",
       "    .dataframe tbody tr th:only-of-type {\n",
       "        vertical-align: middle;\n",
       "    }\n",
       "\n",
       "    .dataframe tbody tr th {\n",
       "        vertical-align: top;\n",
       "    }\n",
       "\n",
       "    .dataframe thead th {\n",
       "        text-align: right;\n",
       "    }\n",
       "</style>\n",
       "<table border=\"1\" class=\"dataframe\">\n",
       "  <thead>\n",
       "    <tr style=\"text-align: right;\">\n",
       "      <th></th>\n",
       "      <th>mean of nulls</th>\n",
       "      <th>number_of_nulls</th>\n",
       "    </tr>\n",
       "  </thead>\n",
       "  <tbody>\n",
       "    <tr>\n",
       "      <th>Cabin</th>\n",
       "      <td>0.771044</td>\n",
       "      <td>687</td>\n",
       "    </tr>\n",
       "    <tr>\n",
       "      <th>Age</th>\n",
       "      <td>0.198653</td>\n",
       "      <td>177</td>\n",
       "    </tr>\n",
       "    <tr>\n",
       "      <th>Embarked</th>\n",
       "      <td>0.002245</td>\n",
       "      <td>2</td>\n",
       "    </tr>\n",
       "  </tbody>\n",
       "</table>\n",
       "</div>"
      ],
      "text/plain": [
       "          mean of nulls  number_of_nulls\n",
       "Cabin          0.771044              687\n",
       "Age            0.198653              177\n",
       "Embarked       0.002245                2"
      ]
     },
     "execution_count": 10,
     "metadata": {},
     "output_type": "execute_result"
    }
   ],
   "source": [
    "# columns which have nulls and the percentage of nulls in each column\n",
    "\n",
    "train_data_na = (train_df.isnull().sum() / len(train_df)) \n",
    "train_data_na = train_data_na.drop(train_data_na[train_data_na == 0].index).sort_values(ascending=False)\n",
    "train_missing_data = pd.DataFrame({'mean of nulls' :train_data_na , \"number_of_nulls\" : train_df[train_data_na.index].isna().sum()})\n",
    "train_missing_data"
   ]
  },
  {
   "cell_type": "code",
   "execution_count": 11,
   "id": "8c6b7744",
   "metadata": {
    "execution": {
     "iopub.execute_input": "2023-07-06T18:59:35.987099Z",
     "iopub.status.busy": "2023-07-06T18:59:35.986465Z",
     "iopub.status.idle": "2023-07-06T18:59:36.000648Z",
     "shell.execute_reply": "2023-07-06T18:59:35.999869Z"
    },
    "papermill": {
     "duration": 0.04279,
     "end_time": "2023-07-06T18:59:36.002824",
     "exception": false,
     "start_time": "2023-07-06T18:59:35.960034",
     "status": "completed"
    },
    "tags": []
   },
   "outputs": [
    {
     "data": {
      "text/html": [
       "<div>\n",
       "<style scoped>\n",
       "    .dataframe tbody tr th:only-of-type {\n",
       "        vertical-align: middle;\n",
       "    }\n",
       "\n",
       "    .dataframe tbody tr th {\n",
       "        vertical-align: top;\n",
       "    }\n",
       "\n",
       "    .dataframe thead th {\n",
       "        text-align: right;\n",
       "    }\n",
       "</style>\n",
       "<table border=\"1\" class=\"dataframe\">\n",
       "  <thead>\n",
       "    <tr style=\"text-align: right;\">\n",
       "      <th></th>\n",
       "      <th>mean of nulls</th>\n",
       "      <th>number_of_nulls</th>\n",
       "    </tr>\n",
       "  </thead>\n",
       "  <tbody>\n",
       "    <tr>\n",
       "      <th>Cabin</th>\n",
       "      <td>0.782297</td>\n",
       "      <td>327</td>\n",
       "    </tr>\n",
       "    <tr>\n",
       "      <th>Age</th>\n",
       "      <td>0.205742</td>\n",
       "      <td>86</td>\n",
       "    </tr>\n",
       "    <tr>\n",
       "      <th>Fare</th>\n",
       "      <td>0.002392</td>\n",
       "      <td>1</td>\n",
       "    </tr>\n",
       "  </tbody>\n",
       "</table>\n",
       "</div>"
      ],
      "text/plain": [
       "       mean of nulls  number_of_nulls\n",
       "Cabin       0.782297              327\n",
       "Age         0.205742               86\n",
       "Fare        0.002392                1"
      ]
     },
     "execution_count": 11,
     "metadata": {},
     "output_type": "execute_result"
    }
   ],
   "source": [
    "test_data_na = (test_df.isnull().sum() / len(test_df)) \n",
    "test_data_na = test_data_na.drop(test_data_na[test_data_na == 0].index).sort_values(ascending=False)\n",
    "test_missing_data = pd.DataFrame({'mean of nulls' :test_data_na, \"number_of_nulls\" : test_df[test_data_na.index].isna().sum()})\n",
    "test_missing_data"
   ]
  },
  {
   "cell_type": "code",
   "execution_count": 12,
   "id": "e457e982",
   "metadata": {
    "execution": {
     "iopub.execute_input": "2023-07-06T18:59:36.054943Z",
     "iopub.status.busy": "2023-07-06T18:59:36.054291Z",
     "iopub.status.idle": "2023-07-06T18:59:36.062016Z",
     "shell.execute_reply": "2023-07-06T18:59:36.060801Z"
    },
    "papermill": {
     "duration": 0.036117,
     "end_time": "2023-07-06T18:59:36.064152",
     "exception": false,
     "start_time": "2023-07-06T18:59:36.028035",
     "status": "completed"
    },
    "tags": []
   },
   "outputs": [
    {
     "data": {
      "text/plain": [
       "23.56902356902357"
      ]
     },
     "execution_count": 12,
     "metadata": {},
     "output_type": "execute_result"
    }
   ],
   "source": [
    "train_df[['Ticket']].duplicated().sum()/len(train_df)*100"
   ]
  },
  {
   "cell_type": "markdown",
   "id": "23043855",
   "metadata": {
    "papermill": {
     "duration": 0.02449,
     "end_time": "2023-07-06T18:59:36.114235",
     "exception": false,
     "start_time": "2023-07-06T18:59:36.089745",
     "status": "completed"
    },
    "tags": []
   },
   "source": [
    "## <b><span style='color:#595959'>|</span> Observations </b> \n",
    "\n",
    "* The training-set has 891 rows and 11 features + `survived` column (target feature).\n",
    "<br>\n",
    "\n",
    "* `Categorical` columns: Survived, Sex, and Embarked. `Ordinal` columns: Pclass.\n",
    "\n",
    "* `Continous` columns: Age, Fare. `Discrete` columns: SibSp, Parch.\n",
    "\n",
    "* `alphanumeric` columns: Ticket and Cabin.\n",
    "<br>\n",
    "\n",
    "* Around `38.38%` of the training-set survived the Titanic.\n",
    "\n",
    "* The passenger ages range from 0.4 to 80.\n",
    "\n",
    "* `Sex` column has two values with `65%` male (freq=577/count=891).\n",
    "\n",
    "* `Embarked` column has three values. port S used by `72.4%` of passengers.\n",
    "\n",
    "* `Ticket` column contains high ratio of duplicates (`23.5%`). we might want to drop it.\n",
    "<br>\n",
    "\n",
    "* There are three columns in our data have missing values: \n",
    "    * `Cabin` column have almost `77%` null values of its data. we might want to drop it.\n",
    "    * 177 value in `Age` column are missed, Around `19%` of its data.\n",
    "    * Just two values in `Embarked` are missing, which can easily be filled.\n",
    "<br>\n",
    "\n",
    "\n",
    "* `SibSp` and `Parch` These features have zero correlation for certain values. We might derive a feature or a set of features from these individual features. \n"
   ]
  },
  {
   "cell_type": "markdown",
   "id": "ae80ab75",
   "metadata": {
    "papermill": {
     "duration": 0.024329,
     "end_time": "2023-07-06T18:59:36.163457",
     "exception": false,
     "start_time": "2023-07-06T18:59:36.139128",
     "status": "completed"
    },
    "tags": []
   },
   "source": [
    "# <a id=\"3\"></a>\n",
    "<div style=\"padding: 30px;color:white;margin:10;font-size:170%;text-align:left;display:fill;border-radius:10px;background-color:#F1C40F;overflow:hidden;background-image: url(https://th.bing.com/th/id/R.3be5e39321febd4c1f758691e109c8bd?rik=lkhAzU4ulIuL0Q&riu=http%3a%2f%2fupload.wikimedia.org%2fwikipedia%2fcommons%2f5%2f56%2fRMS_Titanic_2.jpg&ehk=VbIvq0%2b63pXvH%2bl3Ln4tlz%2bwppwyoN%2fUTZDuGVYTHiQ%3d&risl=&pid=ImgRaw&r=0)\"><b><span style='color:#404040'>2 | Explore data analysis </span></b> </div>\n",
    "\n",
    "<br>\n",
    "\n",
    "## **<mark style=\"color:#404040;border-radius:5px;opacity:1.0;background-image: url(https://th.bing.com/th/id/R.3be5e39321febd4c1f758691e109c8bd?rik=lkhAzU4ulIuL0Q&riu=http%3a%2f%2fupload.wikimedia.org%2fwikipedia%2fcommons%2f5%2f56%2fRMS_Titanic_2.jpg&ehk=VbIvq0%2b63pXvH%2bl3Ln4tlz%2bwppwyoN%2fUTZDuGVYTHiQ%3d&risl=&pid=ImgRaw&r=0)\"> 1-  Univariative Analysis </mark>**\n",
    "\n",
    "<br>\n"
   ]
  },
  {
   "cell_type": "code",
   "execution_count": 13,
   "id": "eceb7987",
   "metadata": {
    "execution": {
     "iopub.execute_input": "2023-07-06T18:59:36.216240Z",
     "iopub.status.busy": "2023-07-06T18:59:36.215830Z",
     "iopub.status.idle": "2023-07-06T18:59:36.222840Z",
     "shell.execute_reply": "2023-07-06T18:59:36.221700Z"
    },
    "papermill": {
     "duration": 0.036146,
     "end_time": "2023-07-06T18:59:36.225093",
     "exception": false,
     "start_time": "2023-07-06T18:59:36.188947",
     "status": "completed"
    },
    "tags": []
   },
   "outputs": [],
   "source": [
    "# Add labels to the end of each bar in a bar chart.\n",
    "\n",
    "def add_value_labels(ax, spacing=5):\n",
    "\n",
    "    # For each bar: Place a label    \n",
    "    for rect in ax.patches:\n",
    "        \n",
    "        # Get X and Y placement of label from rect.\n",
    "        x = rect.get_x() + rect.get_width() / 2\n",
    "        y = rect.get_height()-3\n",
    "\n",
    "        # Determine vertical alignment for positive and negative values\n",
    "        va = 'bottom' if y >= 0 else 'top'\n",
    "\n",
    "        # Format the label to one decimal place\n",
    "        label = \"{}\".format(y)\n",
    "\n",
    "        # Determine the vertical shift of the label\n",
    "        # based on the sign of the y value and the spacing parameter\n",
    "        y_shift = spacing * (1 if y >= 0 else -1)\n",
    "\n",
    "        # Create the annotation\n",
    "        ax.annotate(label, (x, y), xytext=(0, y_shift),\n",
    "                    textcoords=\"offset points\", ha='center', va=va)"
   ]
  },
  {
   "cell_type": "markdown",
   "id": "826c6a19",
   "metadata": {
    "papermill": {
     "duration": 0.02568,
     "end_time": "2023-07-06T18:59:36.275917",
     "exception": false,
     "start_time": "2023-07-06T18:59:36.250237",
     "status": "completed"
    },
    "tags": []
   },
   "source": [
    "## <b>I <span style='color:#595959'>|</span> Analysis categorical columns separately</b> "
   ]
  },
  {
   "cell_type": "code",
   "execution_count": 14,
   "id": "1969426f",
   "metadata": {
    "execution": {
     "iopub.execute_input": "2023-07-06T18:59:36.327191Z",
     "iopub.status.busy": "2023-07-06T18:59:36.326791Z",
     "iopub.status.idle": "2023-07-06T18:59:37.069885Z",
     "shell.execute_reply": "2023-07-06T18:59:37.068752Z"
    },
    "papermill": {
     "duration": 0.771901,
     "end_time": "2023-07-06T18:59:37.072460",
     "exception": false,
     "start_time": "2023-07-06T18:59:36.300559",
     "status": "completed"
    },
    "tags": []
   },
   "outputs": [
    {
     "data": {
      "image/png": "[encoded data removed]",
      "text/plain": [
       "<Figure size 1300x500 with 3 Axes>"
      ]
     },
     "metadata": {},
     "output_type": "display_data"
    }
   ],
   "source": [
    "plt.figure(figsize=(13,5))\n",
    "\n",
    "plt.subplot(1,3,1)\n",
    "plt.title('Survived countplot', size=15)\n",
    "plot= sns.countplot(data=train_df, x='Survived' ,palette=\"Set2\")\n",
    "add_value_labels(plot)\n",
    "\n",
    "plt.subplot(1,3,2)\n",
    "plt.title('Pclass countplot', size=13)\n",
    "plot= sns.countplot(data=train_df, x='Pclass', palette=\"Set2\")\n",
    "add_value_labels(plot)\n",
    "\n",
    "plt.subplot(1,3,3)\n",
    "plt.title('Sex countplot', size=13)\n",
    "plot= sns.countplot(data=train_df, x='Sex', palette='Set2')\n",
    "add_value_labels(plot)\n",
    "\n",
    "plt.tight_layout()"
   ]
  },
  {
   "cell_type": "code",
   "execution_count": 15,
   "id": "34849438",
   "metadata": {
    "execution": {
     "iopub.execute_input": "2023-07-06T18:59:37.125658Z",
     "iopub.status.busy": "2023-07-06T18:59:37.125248Z",
     "iopub.status.idle": "2023-07-06T18:59:37.954273Z",
     "shell.execute_reply": "2023-07-06T18:59:37.953129Z"
    },
    "papermill": {
     "duration": 0.858497,
     "end_time": "2023-07-06T18:59:37.956917",
     "exception": false,
     "start_time": "2023-07-06T18:59:37.098420",
     "status": "completed"
    },
    "tags": []
   },
   "outputs": [
    {
     "data": {
      "image/png": "[encoded data removed]",
      "text/plain": [
       "<Figure size 1300x500 with 3 Axes>"
      ]
     },
     "metadata": {},
     "output_type": "display_data"
    }
   ],
   "source": [
    "plt.figure(figsize=(13,5))\n",
    "\n",
    "plt.subplot(1,3,1)\n",
    "plt.title('Pclass-Survived plot', size=15)\n",
    "plot= sns.countplot(data=train_df, x='Pclass',hue='Survived' ,palette=\"Blues\")\n",
    "add_value_labels(plot)\n",
    "\n",
    "plt.subplot(1,3,2)\n",
    "plt.title('Sex-Survived plot', size=15)\n",
    "plot= sns.countplot(data=train_df, x='Sex', hue='Survived' ,palette=\"Greens\")\n",
    "add_value_labels(plot)\n",
    "\n",
    "plt.subplot(1,3,3)\n",
    "plt.title('Embarked-Survived plot', size=15)\n",
    "plot= sns.countplot(data=train_df, x='Embarked',hue='Survived' ,palette=\"Reds\")\n",
    "add_value_labels(plot)"
   ]
  },
  {
   "cell_type": "code",
   "execution_count": 16,
   "id": "c79722fa",
   "metadata": {
    "execution": {
     "iopub.execute_input": "2023-07-06T18:59:38.015670Z",
     "iopub.status.busy": "2023-07-06T18:59:38.015283Z",
     "iopub.status.idle": "2023-07-06T18:59:38.030669Z",
     "shell.execute_reply": "2023-07-06T18:59:38.029486Z"
    },
    "papermill": {
     "duration": 0.049505,
     "end_time": "2023-07-06T18:59:38.032879",
     "exception": false,
     "start_time": "2023-07-06T18:59:37.983374",
     "status": "completed"
    },
    "tags": []
   },
   "outputs": [
    {
     "data": {
      "text/html": [
       "<div>\n",
       "<style scoped>\n",
       "    .dataframe tbody tr th:only-of-type {\n",
       "        vertical-align: middle;\n",
       "    }\n",
       "\n",
       "    .dataframe tbody tr th {\n",
       "        vertical-align: top;\n",
       "    }\n",
       "\n",
       "    .dataframe thead th {\n",
       "        text-align: right;\n",
       "    }\n",
       "</style>\n",
       "<table border=\"1\" class=\"dataframe\">\n",
       "  <thead>\n",
       "    <tr style=\"text-align: right;\">\n",
       "      <th></th>\n",
       "      <th>Pclass</th>\n",
       "      <th>Survived</th>\n",
       "    </tr>\n",
       "  </thead>\n",
       "  <tbody>\n",
       "    <tr>\n",
       "      <th>0</th>\n",
       "      <td>1</td>\n",
       "      <td>0.629630</td>\n",
       "    </tr>\n",
       "    <tr>\n",
       "      <th>1</th>\n",
       "      <td>2</td>\n",
       "      <td>0.472826</td>\n",
       "    </tr>\n",
       "    <tr>\n",
       "      <th>2</th>\n",
       "      <td>3</td>\n",
       "      <td>0.242363</td>\n",
       "    </tr>\n",
       "  </tbody>\n",
       "</table>\n",
       "</div>"
      ],
      "text/plain": [
       "   Pclass  Survived\n",
       "0       1  0.629630\n",
       "1       2  0.472826\n",
       "2       3  0.242363"
      ]
     },
     "execution_count": 16,
     "metadata": {},
     "output_type": "execute_result"
    }
   ],
   "source": [
    "train_df[['Pclass', 'Survived']].groupby(['Pclass'], as_index=False).mean()"
   ]
  },
  {
   "cell_type": "code",
   "execution_count": 17,
   "id": "f2ab7301",
   "metadata": {
    "execution": {
     "iopub.execute_input": "2023-07-06T18:59:38.089339Z",
     "iopub.status.busy": "2023-07-06T18:59:38.088902Z",
     "iopub.status.idle": "2023-07-06T18:59:38.103395Z",
     "shell.execute_reply": "2023-07-06T18:59:38.102429Z"
    },
    "papermill": {
     "duration": 0.044999,
     "end_time": "2023-07-06T18:59:38.105579",
     "exception": false,
     "start_time": "2023-07-06T18:59:38.060580",
     "status": "completed"
    },
    "tags": []
   },
   "outputs": [
    {
     "data": {
      "text/html": [
       "<div>\n",
       "<style scoped>\n",
       "    .dataframe tbody tr th:only-of-type {\n",
       "        vertical-align: middle;\n",
       "    }\n",
       "\n",
       "    .dataframe tbody tr th {\n",
       "        vertical-align: top;\n",
       "    }\n",
       "\n",
       "    .dataframe thead th {\n",
       "        text-align: right;\n",
       "    }\n",
       "</style>\n",
       "<table border=\"1\" class=\"dataframe\">\n",
       "  <thead>\n",
       "    <tr style=\"text-align: right;\">\n",
       "      <th></th>\n",
       "      <th>Sex</th>\n",
       "      <th>Survived</th>\n",
       "    </tr>\n",
       "  </thead>\n",
       "  <tbody>\n",
       "    <tr>\n",
       "      <th>0</th>\n",
       "      <td>female</td>\n",
       "      <td>0.742038</td>\n",
       "    </tr>\n",
       "    <tr>\n",
       "      <th>1</th>\n",
       "      <td>male</td>\n",
       "      <td>0.188908</td>\n",
       "    </tr>\n",
       "  </tbody>\n",
       "</table>\n",
       "</div>"
      ],
      "text/plain": [
       "      Sex  Survived\n",
       "0  female  0.742038\n",
       "1    male  0.188908"
      ]
     },
     "execution_count": 17,
     "metadata": {},
     "output_type": "execute_result"
    }
   ],
   "source": [
    "train_df[[\"Sex\", \"Survived\"]].groupby(['Sex'], as_index=False).mean()"
   ]
  },
  {
   "cell_type": "markdown",
   "id": "2c7e17c8",
   "metadata": {
    "papermill": {
     "duration": 0.027651,
     "end_time": "2023-07-06T18:59:38.160536",
     "exception": false,
     "start_time": "2023-07-06T18:59:38.132885",
     "status": "completed"
    },
    "tags": []
   },
   "source": [
    "## <b>I <span style='color:#595959'>|</span> Analysis Age column </b> "
   ]
  },
  {
   "cell_type": "code",
   "execution_count": 18,
   "id": "f94fad29",
   "metadata": {
    "execution": {
     "iopub.execute_input": "2023-07-06T18:59:38.217773Z",
     "iopub.status.busy": "2023-07-06T18:59:38.216955Z",
     "iopub.status.idle": "2023-07-06T18:59:38.223693Z",
     "shell.execute_reply": "2023-07-06T18:59:38.222642Z"
    },
    "papermill": {
     "duration": 0.038,
     "end_time": "2023-07-06T18:59:38.226025",
     "exception": false,
     "start_time": "2023-07-06T18:59:38.188025",
     "status": "completed"
    },
    "tags": []
   },
   "outputs": [],
   "source": [
    "#survived passengers\n",
    "survived_df= train_df[train_df['Survived']==1]\n",
    "\n",
    "#non-survived passengers\n",
    "unsurvived_df= train_df[train_df['Survived']==0]"
   ]
  },
  {
   "cell_type": "code",
   "execution_count": 19,
   "id": "0e74c438",
   "metadata": {
    "execution": {
     "iopub.execute_input": "2023-07-06T18:59:38.283243Z",
     "iopub.status.busy": "2023-07-06T18:59:38.282528Z",
     "iopub.status.idle": "2023-07-06T18:59:39.026012Z",
     "shell.execute_reply": "2023-07-06T18:59:39.024881Z"
    },
    "papermill": {
     "duration": 0.774629,
     "end_time": "2023-07-06T18:59:39.028761",
     "exception": false,
     "start_time": "2023-07-06T18:59:38.254132",
     "status": "completed"
    },
    "tags": []
   },
   "outputs": [
    {
     "data": {
      "image/png": "[encoded data removed]",
      "text/plain": [
       "<Figure size 1300x500 with 2 Axes>"
      ]
     },
     "metadata": {},
     "output_type": "display_data"
    }
   ],
   "source": [
    "plt.figure(figsize=(13,5))\n",
    "\n",
    "plt.subplot(1,2,1)\n",
    "plt.title('survived passenger ages')\n",
    "sns.histplot(data=survived_df, x='Age', kde=True, bins=20,  alpha=0.3 );\n",
    "\n",
    "plt.subplot(1,2,2)\n",
    "plt.title('unsurvived passenger ages')\n",
    "sns.histplot(data=unsurvived_df, x='Age', kde=True, bins=20, alpha=0.3 );\n"
   ]
  },
  {
   "cell_type": "code",
   "execution_count": 20,
   "id": "dc01c95e",
   "metadata": {
    "execution": {
     "iopub.execute_input": "2023-07-06T18:59:39.086292Z",
     "iopub.status.busy": "2023-07-06T18:59:39.085589Z",
     "iopub.status.idle": "2023-07-06T18:59:39.095231Z",
     "shell.execute_reply": "2023-07-06T18:59:39.094170Z"
    },
    "papermill": {
     "duration": 0.041451,
     "end_time": "2023-07-06T18:59:39.097771",
     "exception": false,
     "start_time": "2023-07-06T18:59:39.056320",
     "status": "completed"
    },
    "tags": []
   },
   "outputs": [
    {
     "data": {
      "text/plain": [
       "1    0.704545\n",
       "0    0.295455\n",
       "Name: Survived, dtype: float64"
      ]
     },
     "execution_count": 20,
     "metadata": {},
     "output_type": "execute_result"
    }
   ],
   "source": [
    "Infant_passengers = train_df[train_df['Age']<=5]\n",
    "Infant_passengers['Survived'].value_counts(normalize=True)"
   ]
  },
  {
   "cell_type": "code",
   "execution_count": 21,
   "id": "fb44cbf1",
   "metadata": {
    "execution": {
     "iopub.execute_input": "2023-07-06T18:59:39.155567Z",
     "iopub.status.busy": "2023-07-06T18:59:39.155146Z",
     "iopub.status.idle": "2023-07-06T18:59:39.165008Z",
     "shell.execute_reply": "2023-07-06T18:59:39.163977Z"
    },
    "papermill": {
     "duration": 0.041641,
     "end_time": "2023-07-06T18:59:39.167133",
     "exception": false,
     "start_time": "2023-07-06T18:59:39.125492",
     "status": "completed"
    },
    "tags": []
   },
   "outputs": [
    {
     "data": {
      "text/plain": [
       "1    1\n",
       "Name: Survived, dtype: int64"
      ]
     },
     "execution_count": 21,
     "metadata": {},
     "output_type": "execute_result"
    }
   ],
   "source": [
    "Old_passengers = train_df[train_df['Age']==80]\n",
    "Old_passengers['Survived'].value_counts()"
   ]
  },
  {
   "cell_type": "markdown",
   "id": "6d8299c2",
   "metadata": {
    "papermill": {
     "duration": 0.027591,
     "end_time": "2023-07-06T18:59:39.222280",
     "exception": false,
     "start_time": "2023-07-06T18:59:39.194689",
     "status": "completed"
    },
    "tags": []
   },
   "source": [
    "## <b><span style='color:#595959'>|</span> Observations </b> \n",
    "\n",
    "* Pclass=3 had most passengers(484 passengers), however the most of them didn't survive (112 passengers not-survived about `75.8%`).\n",
    "\n",
    "* Most passengers in Pclass=1 survived about `62.9%`. \n",
    "<br>\n",
    "\n",
    "* Infant passengers (Age <=5) had high survival rate, about `70.4%` of infant passengers survived.\n",
    "\n",
    "* There is only one passengers with 80 years old and he survived.\n",
    "\n",
    "* Large number of 15-25 year olds did not survive.\n",
    "\n",
    "* There is only one passengers with 80 years old and he is survived\n",
    "<br>\n",
    "\n",
    "* Female passengers had much better survival rate than males( `74.2%` of female passengers survived but just `18.8%` of males survived.)\n",
    "<br>\n",
    "\n",
    "* Port S had most passengers(630 passengers) but the most of them didn't survive (420 passengers not-survived about `67%`).\n",
    "\n",
    "* The majority of port C passengers survived (86 passengers survived out of 154 about `55.8%`)."
   ]
  },
  {
   "cell_type": "markdown",
   "id": "24b58f3a",
   "metadata": {
    "papermill": {
     "duration": 0.028151,
     "end_time": "2023-07-06T18:59:39.278044",
     "exception": false,
     "start_time": "2023-07-06T18:59:39.249893",
     "status": "completed"
    },
    "tags": []
   },
   "source": [
    "## **<mark style=\"color:#404040;border-radius:5px;opacity:1.0;background-image: url(https://th.bing.com/th/id/R.3be5e39321febd4c1f758691e109c8bd?rik=lkhAzU4ulIuL0Q&riu=http%3a%2f%2fupload.wikimedia.org%2fwikipedia%2fcommons%2f5%2f56%2fRMS_Titanic_2.jpg&ehk=VbIvq0%2b63pXvH%2bl3Ln4tlz%2bwppwyoN%2fUTZDuGVYTHiQ%3d&risl=&pid=ImgRaw&r=0)\"> 2-  Bivariative Analysis</mark>**\n",
    "\n",
    "<br>\n",
    "\n",
    "## <b>I <span style='color:#595959'>|</span> Sex and Age analysis </b> "
   ]
  },
  {
   "cell_type": "code",
   "execution_count": 22,
   "id": "5decd6e8",
   "metadata": {
    "execution": {
     "iopub.execute_input": "2023-07-06T18:59:39.336080Z",
     "iopub.status.busy": "2023-07-06T18:59:39.335686Z",
     "iopub.status.idle": "2023-07-06T18:59:40.839170Z",
     "shell.execute_reply": "2023-07-06T18:59:40.838200Z"
    },
    "papermill": {
     "duration": 1.538031,
     "end_time": "2023-07-06T18:59:40.844492",
     "exception": false,
     "start_time": "2023-07-06T18:59:39.306461",
     "status": "completed"
    },
    "tags": []
   },
   "outputs": [
    {
     "data": {
      "image/png": "[encoded data removed]",
      "text/plain": [
       "<Figure size 1500x1000 with 4 Axes>"
      ]
     },
     "metadata": {},
     "output_type": "display_data"
    }
   ],
   "source": [
    "plt.figure(figsize=(15,10))\n",
    "\n",
    "plt.subplot(2,2,1)\n",
    "plt.title('survived passenger ages')\n",
    "sns.histplot(data=survived_df, x='Age', hue='Sex', kde=True, bins=20,  alpha=0.3 );\n",
    "\n",
    "plt.subplot(2,2,2)\n",
    "plt.title('unsurvived passenger ages')\n",
    "sns.histplot(data=unsurvived_df, x='Age',hue='Sex', kde=True, bins=20, alpha=0.3 );\n",
    "\n",
    "plt.subplot(2,2,3)\n",
    "plt.title('survived passenger ages')\n",
    "sns.boxplot(x=survived_df['Sex'], y=train_df[\"Age\"],palette=\"Set2\");\n",
    "\n",
    "plt.subplot(2,2,4)\n",
    "plt.title('unsurvived passenger ages')\n",
    "sns.boxplot(x=unsurvived_df['Sex'], y=train_df[\"Age\"],palette=\"Set2\");"
   ]
  },
  {
   "cell_type": "code",
   "execution_count": 23,
   "id": "ecc49a66",
   "metadata": {
    "execution": {
     "iopub.execute_input": "2023-07-06T18:59:40.919263Z",
     "iopub.status.busy": "2023-07-06T18:59:40.918544Z",
     "iopub.status.idle": "2023-07-06T18:59:42.645823Z",
     "shell.execute_reply": "2023-07-06T18:59:42.644617Z"
    },
    "papermill": {
     "duration": 1.767398,
     "end_time": "2023-07-06T18:59:42.648128",
     "exception": false,
     "start_time": "2023-07-06T18:59:40.880730",
     "status": "completed"
    },
    "tags": []
   },
   "outputs": [
    {
     "data": {
      "image/png": "[encoded data removed]",
      "text/plain": [
       "<Figure size 731.111x600 with 4 Axes>"
      ]
     },
     "metadata": {},
     "output_type": "display_data"
    }
   ],
   "source": [
    "grid = sns.FacetGrid(train_df, col='Sex', row='Survived', aspect=1.2)\n",
    "grid.map(plt.hist, 'Age', alpha=.5, bins=20)\n",
    "grid.add_legend();"
   ]
  },
  {
   "cell_type": "code",
   "execution_count": 24,
   "id": "9062aa66",
   "metadata": {
    "execution": {
     "iopub.execute_input": "2023-07-06T18:59:42.709903Z",
     "iopub.status.busy": "2023-07-06T18:59:42.709502Z",
     "iopub.status.idle": "2023-07-06T18:59:42.734193Z",
     "shell.execute_reply": "2023-07-06T18:59:42.733056Z"
    },
    "papermill": {
     "duration": 0.058365,
     "end_time": "2023-07-06T18:59:42.736516",
     "exception": false,
     "start_time": "2023-07-06T18:59:42.678151",
     "status": "completed"
    },
    "tags": []
   },
   "outputs": [
    {
     "name": "stdout",
     "output_type": "stream",
     "text": [
      "surviving male passengers \n",
      "\n",
      "     count       mean        std   min   25%   50%   75%   max\n",
      "Age   93.0  27.276022  16.504803  0.42  18.0  28.0  36.0  80.0\n",
      "--------------------------------\n",
      "surviving female passengers \n",
      "\n",
      "     count       mean        std   min   25%   50%   75%   max\n",
      "Age  197.0  28.847716  14.175073  0.75  19.0  28.0  38.0  63.0\n"
     ]
    }
   ],
   "source": [
    "print('surviving male passengers \\n')\n",
    "\n",
    "print(survived_df[survived_df['Sex']=='male'][['Age']].describe().T)\n",
    "print('--------------------------------')\n",
    "print('surviving female passengers \\n')\n",
    "\n",
    "print(survived_df[survived_df['Sex']=='female'][['Age']].describe().T)"
   ]
  },
  {
   "cell_type": "code",
   "execution_count": 25,
   "id": "7558981a",
   "metadata": {
    "execution": {
     "iopub.execute_input": "2023-07-06T18:59:42.799702Z",
     "iopub.status.busy": "2023-07-06T18:59:42.799306Z",
     "iopub.status.idle": "2023-07-06T18:59:42.822614Z",
     "shell.execute_reply": "2023-07-06T18:59:42.821180Z"
    },
    "papermill": {
     "duration": 0.057131,
     "end_time": "2023-07-06T18:59:42.824758",
     "exception": false,
     "start_time": "2023-07-06T18:59:42.767627",
     "status": "completed"
    },
    "tags": []
   },
   "outputs": [
    {
     "name": "stdout",
     "output_type": "stream",
     "text": [
      "non-surviving male passengers \n",
      "\n",
      "     count       mean        std  min    25%   50%    75%   max\n",
      "Age  360.0  31.618056  14.056019  1.0  21.75  29.0  39.25  74.0\n",
      "--------------------------------\n",
      "non-surviving female passengers \n",
      "\n",
      "     count       mean        std  min    25%   50%    75%   max\n",
      "Age   64.0  25.046875  13.618591  2.0  16.75  24.5  33.25  57.0\n"
     ]
    }
   ],
   "source": [
    "print('non-surviving male passengers \\n')\n",
    "\n",
    "print(unsurvived_df[unsurvived_df['Sex']=='male'][['Age']].describe().T)\n",
    "print('--------------------------------')\n",
    "print('non-surviving female passengers \\n')\n",
    "\n",
    "print(unsurvived_df[unsurvived_df['Sex']=='female'][['Age']].describe().T)"
   ]
  },
  {
   "cell_type": "markdown",
   "id": "1c46a36f",
   "metadata": {
    "papermill": {
     "duration": 0.029575,
     "end_time": "2023-07-06T18:59:42.884085",
     "exception": false,
     "start_time": "2023-07-06T18:59:42.854510",
     "status": "completed"
    },
    "tags": []
   },
   "source": [
    "## <b>II <span style='color:#595959'>|</span> Pclass and Age analysis </b> "
   ]
  },
  {
   "cell_type": "code",
   "execution_count": 26,
   "id": "0ed300ef",
   "metadata": {
    "execution": {
     "iopub.execute_input": "2023-07-06T18:59:42.945723Z",
     "iopub.status.busy": "2023-07-06T18:59:42.945325Z",
     "iopub.status.idle": "2023-07-06T18:59:43.436782Z",
     "shell.execute_reply": "2023-07-06T18:59:43.435668Z"
    },
    "papermill": {
     "duration": 0.525249,
     "end_time": "2023-07-06T18:59:43.439288",
     "exception": false,
     "start_time": "2023-07-06T18:59:42.914039",
     "status": "completed"
    },
    "tags": []
   },
   "outputs": [
    {
     "data": {
      "image/png": "[encoded data removed]",
      "text/plain": [
       "<Figure size 1400x600 with 2 Axes>"
      ]
     },
     "metadata": {},
     "output_type": "display_data"
    }
   ],
   "source": [
    "plt.figure(figsize=(14,6))\n",
    "\n",
    "plt.subplot(1,2,1)\n",
    "plt.title('survived passenger ages')\n",
    "sns.boxplot(x=survived_df['Pclass'], y=train_df[\"Age\"],palette=\"Set2\");\n",
    "\n",
    "plt.subplot(1,2,2)\n",
    "plt.title('unsurvived passenger ages')\n",
    "sns.boxplot(x=unsurvived_df['Pclass'], y=train_df[\"Age\"],palette=\"Set2\");\n"
   ]
  },
  {
   "cell_type": "code",
   "execution_count": 27,
   "id": "c32e12d9",
   "metadata": {
    "execution": {
     "iopub.execute_input": "2023-07-06T18:59:43.502543Z",
     "iopub.status.busy": "2023-07-06T18:59:43.502133Z",
     "iopub.status.idle": "2023-07-06T18:59:45.749732Z",
     "shell.execute_reply": "2023-07-06T18:59:45.748447Z"
    },
    "papermill": {
     "duration": 2.282179,
     "end_time": "2023-07-06T18:59:45.752142",
     "exception": false,
     "start_time": "2023-07-06T18:59:43.469963",
     "status": "completed"
    },
    "tags": []
   },
   "outputs": [
    {
     "data": {
      "image/png": "[encoded data removed]",
      "text/plain": [
       "<Figure size 1091.11x600 with 6 Axes>"
      ]
     },
     "metadata": {},
     "output_type": "display_data"
    }
   ],
   "source": [
    "grid = sns.FacetGrid(train_df, col='Pclass', row='Survived', aspect=1.2)\n",
    "grid.map(plt.hist, 'Age', alpha=.5, bins=20)\n",
    "grid.add_legend();"
   ]
  },
  {
   "cell_type": "markdown",
   "id": "c5f5e6f8",
   "metadata": {
    "papermill": {
     "duration": 0.030723,
     "end_time": "2023-07-06T18:59:45.814517",
     "exception": false,
     "start_time": "2023-07-06T18:59:45.783794",
     "status": "completed"
    },
    "tags": []
   },
   "source": [
    "## <b>III <span style='color:#595959'>|</span> Sex and Pclass analysis </b> "
   ]
  },
  {
   "cell_type": "code",
   "execution_count": 28,
   "id": "cc71fd92",
   "metadata": {
    "execution": {
     "iopub.execute_input": "2023-07-06T18:59:45.878239Z",
     "iopub.status.busy": "2023-07-06T18:59:45.877880Z",
     "iopub.status.idle": "2023-07-06T18:59:46.430490Z",
     "shell.execute_reply": "2023-07-06T18:59:46.429329Z"
    },
    "papermill": {
     "duration": 0.587304,
     "end_time": "2023-07-06T18:59:46.432854",
     "exception": false,
     "start_time": "2023-07-06T18:59:45.845550",
     "status": "completed"
    },
    "tags": []
   },
   "outputs": [
    {
     "data": {
      "image/png": "[encoded data removed]",
      "text/plain": [
       "<Figure size 800x400 with 2 Axes>"
      ]
     },
     "metadata": {},
     "output_type": "display_data"
    }
   ],
   "source": [
    "plt.figure(figsize=(8,4))\n",
    "\n",
    "plt.subplot(1,2,1)\n",
    "plt.title('survived passenger ages')\n",
    "plot=sns.countplot(data=survived_df, x='Pclass', hue='Sex',palette=\"Set2\");\n",
    "add_value_labels(plot)\n",
    "\n",
    "plt.subplot(1,2,2)\n",
    "plt.title('unsurvived passenger ages')\n",
    "plot=sns.countplot(data=unsurvived_df, x='Pclass', hue='Sex',palette=\"Set2\");\n",
    "add_value_labels(plot)"
   ]
  },
  {
   "cell_type": "code",
   "execution_count": 29,
   "id": "7c70a91f",
   "metadata": {
    "execution": {
     "iopub.execute_input": "2023-07-06T18:59:46.498914Z",
     "iopub.status.busy": "2023-07-06T18:59:46.498491Z",
     "iopub.status.idle": "2023-07-06T18:59:47.299902Z",
     "shell.execute_reply": "2023-07-06T18:59:47.298618Z"
    },
    "papermill": {
     "duration": 0.837346,
     "end_time": "2023-07-06T18:59:47.302323",
     "exception": false,
     "start_time": "2023-07-06T18:59:46.464977",
     "status": "completed"
    },
    "tags": []
   },
   "outputs": [
    {
     "name": "stderr",
     "output_type": "stream",
     "text": [
      "/Users/pedda/anaconda3/lib/python3.10/site-packages/seaborn/axisgrid.py:712: UserWarning: Using the pointplot function without specifying `order` is likely to produce an incorrect plot.\n",
      "  warnings.warn(warning)\n"
     ]
    },
    {
     "data": {
      "image/png": "[encoded data removed]",
      "text/plain": [
       "<Figure size 731.111x300 with 2 Axes>"
      ]
     },
     "metadata": {},
     "output_type": "display_data"
    }
   ],
   "source": [
    "grid = sns.FacetGrid(train_df, col='Sex', aspect=1.2)\n",
    "grid.map(sns.pointplot,'Pclass', 'Survived')\n",
    "grid.add_legend();"
   ]
  },
  {
   "cell_type": "markdown",
   "id": "229295e0",
   "metadata": {
    "papermill": {
     "duration": 0.032029,
     "end_time": "2023-07-06T18:59:47.366751",
     "exception": false,
     "start_time": "2023-07-06T18:59:47.334722",
     "status": "completed"
    },
    "tags": []
   },
   "source": [
    "## <b><span style='color:#595959'>|</span> Observations </b> \n",
    "\n",
    "* Average age for non-surviving male passengers is 32, And on the other hand non-surviving female passengers is 25 .\n",
    "\n",
    "* Most male passengers aged 20-35 did not survive.\n",
    "<br>\n",
    "\n",
    "\n",
    "* Infant passengers in Pclass=2 and Pclass=3 mostly survived. \n",
    "<br>\n",
    "\n",
    "\n",
    "* Half of the female passengers inside Pclass=3 survive (`50%` of passengers counted 69).\n",
    "* All female passengers inside Pclass=1 survived and about `95` of female passengers inside Pclass=2 survived.\n",
    "* About `87%` of male passengers inside Pclass=3 and Pclass=2 non-survived but about `36.2%` of them survived in Pclass=1."
   ]
  },
  {
   "cell_type": "markdown",
   "id": "90c7d424",
   "metadata": {
    "papermill": {
     "duration": 0.031967,
     "end_time": "2023-07-06T18:59:47.432181",
     "exception": false,
     "start_time": "2023-07-06T18:59:47.400214",
     "status": "completed"
    },
    "tags": []
   },
   "source": [
    "## **<mark style=\"color:#404040;border-radius:5px;opacity:1.0;background-image: url(https://th.bing.com/th/id/R.3be5e39321febd4c1f758691e109c8bd?rik=lkhAzU4ulIuL0Q&riu=http%3a%2f%2fupload.wikimedia.org%2fwikipedia%2fcommons%2f5%2f56%2fRMS_Titanic_2.jpg&ehk=VbIvq0%2b63pXvH%2bl3Ln4tlz%2bwppwyoN%2fUTZDuGVYTHiQ%3d&risl=&pid=ImgRaw&r=0)\"> 3- Multivariative Analysis</mark>**\n",
    "\n",
    "<br>\n",
    "\n",
    "## <b>I <span style='color:#595959'>|</span> Sex, Pclass and Embarked analysis </b> "
   ]
  },
  {
   "cell_type": "code",
   "execution_count": 30,
   "id": "523d8370",
   "metadata": {
    "execution": {
     "iopub.execute_input": "2023-07-06T18:59:47.498642Z",
     "iopub.status.busy": "2023-07-06T18:59:47.498222Z",
     "iopub.status.idle": "2023-07-06T18:59:49.251852Z",
     "shell.execute_reply": "2023-07-06T18:59:49.250626Z"
    },
    "papermill": {
     "duration": 1.790212,
     "end_time": "2023-07-06T18:59:49.254545",
     "exception": false,
     "start_time": "2023-07-06T18:59:47.464333",
     "status": "completed"
    },
    "tags": []
   },
   "outputs": [
    {
     "name": "stderr",
     "output_type": "stream",
     "text": [
      "/Users/pedda/anaconda3/lib/python3.10/site-packages/seaborn/axisgrid.py:712: UserWarning: Using the pointplot function without specifying `order` is likely to produce an incorrect plot.\n",
      "  warnings.warn(warning)\n",
      "/Users/pedda/anaconda3/lib/python3.10/site-packages/seaborn/axisgrid.py:717: UserWarning: Using the pointplot function without specifying `hue_order` is likely to produce an incorrect plot.\n",
      "  warnings.warn(warning)\n"
     ]
    },
    {
     "data": {
      "image/png": "[encoded data removed]",
      "text/plain": [
       "<Figure size 1538x300 with 3 Axes>"
      ]
     },
     "metadata": {},
     "output_type": "display_data"
    }
   ],
   "source": [
    "grid = sns.FacetGrid(train_df, col='Embarked', aspect=1.6)\n",
    "grid.map(sns.pointplot, 'Pclass', 'Survived', 'Sex')\n",
    "grid.add_legend();"
   ]
  },
  {
   "cell_type": "markdown",
   "id": "9b0ccfdf",
   "metadata": {
    "papermill": {
     "duration": 0.034951,
     "end_time": "2023-07-06T18:59:49.323601",
     "exception": false,
     "start_time": "2023-07-06T18:59:49.288650",
     "status": "completed"
    },
    "tags": []
   },
   "source": [
    "## <b>II <span style='color:#595959'>|</span> Sex, Fare and Embarked analysis </b> "
   ]
  },
  {
   "cell_type": "code",
   "execution_count": 31,
   "id": "f9590905",
   "metadata": {
    "execution": {
     "iopub.execute_input": "2023-07-06T18:59:49.391989Z",
     "iopub.status.busy": "2023-07-06T18:59:49.391619Z",
     "iopub.status.idle": "2023-07-06T18:59:49.976179Z",
     "shell.execute_reply": "2023-07-06T18:59:49.974893Z"
    },
    "papermill": {
     "duration": 0.622194,
     "end_time": "2023-07-06T18:59:49.978928",
     "exception": false,
     "start_time": "2023-07-06T18:59:49.356734",
     "status": "completed"
    },
    "tags": []
   },
   "outputs": [
    {
     "data": {
      "image/png": "[encoded data removed]",
      "text/plain": [
       "<Figure size 800x400 with 2 Axes>"
      ]
     },
     "metadata": {},
     "output_type": "display_data"
    }
   ],
   "source": [
    "plt.figure(figsize=(8,4))\n",
    "\n",
    "plt.subplot(1,2,1)\n",
    "plt.title('survived passenger ages')\n",
    "plot=sns.countplot(data=survived_df, x='Embarked', hue='Sex',palette=\"Set2\");\n",
    "add_value_labels(plot)\n",
    "\n",
    "plt.subplot(1,2,2)\n",
    "plt.title('unsurvived passenger ages')\n",
    "plot=sns.countplot(data=unsurvived_df, x='Embarked', hue='Sex',palette=\"Set2\");\n",
    "add_value_labels(plot)"
   ]
  },
  {
   "cell_type": "code",
   "execution_count": 32,
   "id": "9665155e",
   "metadata": {
    "execution": {
     "iopub.execute_input": "2023-07-06T18:59:50.049723Z",
     "iopub.status.busy": "2023-07-06T18:59:50.049312Z",
     "iopub.status.idle": "2023-07-06T18:59:51.777029Z",
     "shell.execute_reply": "2023-07-06T18:59:51.775718Z"
    },
    "papermill": {
     "duration": 1.765847,
     "end_time": "2023-07-06T18:59:51.779464",
     "exception": false,
     "start_time": "2023-07-06T18:59:50.013617",
     "status": "completed"
    },
    "tags": []
   },
   "outputs": [
    {
     "name": "stderr",
     "output_type": "stream",
     "text": [
      "/Users/pedda/anaconda3/lib/python3.10/site-packages/seaborn/axisgrid.py:712: UserWarning: Using the barplot function without specifying `order` is likely to produce an incorrect plot.\n",
      "  warnings.warn(warning)\n",
      "/Users/pedda/anaconda3/lib/python3.10/site-packages/seaborn/axisgrid.py:848: FutureWarning: \n",
      "\n",
      "The `ci` parameter is deprecated. Use `errorbar=None` for the same effect.\n",
      "\n",
      "  func(*plot_args, **plot_kwargs)\n",
      "/Users/pedda/anaconda3/lib/python3.10/site-packages/seaborn/axisgrid.py:848: FutureWarning: \n",
      "\n",
      "The `ci` parameter is deprecated. Use `errorbar=None` for the same effect.\n",
      "\n",
      "  func(*plot_args, **plot_kwargs)\n",
      "/Users/pedda/anaconda3/lib/python3.10/site-packages/seaborn/axisgrid.py:848: FutureWarning: \n",
      "\n",
      "The `ci` parameter is deprecated. Use `errorbar=None` for the same effect.\n",
      "\n",
      "  func(*plot_args, **plot_kwargs)\n",
      "/Users/pedda/anaconda3/lib/python3.10/site-packages/seaborn/axisgrid.py:848: FutureWarning: \n",
      "\n",
      "The `ci` parameter is deprecated. Use `errorbar=None` for the same effect.\n",
      "\n",
      "  func(*plot_args, **plot_kwargs)\n",
      "/Users/pedda/anaconda3/lib/python3.10/site-packages/seaborn/axisgrid.py:848: FutureWarning: \n",
      "\n",
      "The `ci` parameter is deprecated. Use `errorbar=None` for the same effect.\n",
      "\n",
      "  func(*plot_args, **plot_kwargs)\n",
      "/Users/pedda/anaconda3/lib/python3.10/site-packages/seaborn/axisgrid.py:848: FutureWarning: \n",
      "\n",
      "The `ci` parameter is deprecated. Use `errorbar=None` for the same effect.\n",
      "\n",
      "  func(*plot_args, **plot_kwargs)\n"
     ]
    },
    {
     "data": {
      "image/png": "[encoded data removed]",
      "text/plain": [
       "<Figure size 1451.11x600 with 6 Axes>"
      ]
     },
     "metadata": {},
     "output_type": "display_data"
    }
   ],
   "source": [
    "grid = sns.FacetGrid(train_df, col='Embarked', row='Survived', aspect=1.6)\n",
    "grid.map(sns.barplot, 'Sex', 'Fare', alpha=.5, ci=None)\n",
    "grid.add_legend();"
   ]
  },
  {
   "cell_type": "markdown",
   "id": "ee40840c",
   "metadata": {
    "papermill": {
     "duration": 0.033584,
     "end_time": "2023-07-06T18:59:51.846650",
     "exception": false,
     "start_time": "2023-07-06T18:59:51.813066",
     "status": "completed"
    },
    "tags": []
   },
   "source": [
    "## <b><span style='color:#595959'>|</span> Observations </b> \n",
    "\n",
    "* Women on port Q and S have a higher chance of survival. But it's inverse at port C.\n",
    "\n",
    "* Men have a high survival probability on port C, but a low probability on port Q or S.\n",
    "\n",
    "* Most female passengers inside Pclass=3 on port C and S non-survived but most of them survived on port Q.\n",
    "<br>\n",
    " \n",
    " \n",
    "* Higher fare paying passengers had better survival. \n",
    "\n",
    "* Passengers on port Q paid less fare.\n",
    "\n",
    "* Nearly no male survived on port Q. \n",
    "\n",
    "* Femals on port Q (about `37%` of all port Q passengers) Survived, however they paid small fare.\n",
    "\n"
   ]
  },
  {
   "cell_type": "markdown",
   "id": "a91254d8",
   "metadata": {
    "papermill": {
     "duration": 0.03359,
     "end_time": "2023-07-06T18:59:51.913687",
     "exception": false,
     "start_time": "2023-07-06T18:59:51.880097",
     "status": "completed"
    },
    "tags": []
   },
   "source": [
    "# <a id=\"4\"></a>\n",
    "<div style=\"padding: 30px;color:white;margin:10;font-size:170%;text-align:left;display:fill;border-radius:10px;background-color:#F1C40F;overflow:hidden;background-image: url(https://th.bing.com/th/id/R.3be5e39321febd4c1f758691e109c8bd?rik=lkhAzU4ulIuL0Q&riu=http%3a%2f%2fupload.wikimedia.org%2fwikipedia%2fcommons%2f5%2f56%2fRMS_Titanic_2.jpg&ehk=VbIvq0%2b63pXvH%2bl3Ln4tlz%2bwppwyoN%2fUTZDuGVYTHiQ%3d&risl=&pid=ImgRaw&r=0)\"><b><span style='color:#404040'>3 | data preprocessing </span></b> </div>\n",
    "\n",
    "<br>\n",
    "\n",
    "## **<mark style=\"color:#404040;border-radius:5px;opacity:1.0;background-image: url(https://th.bing.com/th/id/R.3be5e39321febd4c1f758691e109c8bd?rik=lkhAzU4ulIuL0Q&riu=http%3a%2f%2fupload.wikimedia.org%2fwikipedia%2fcommons%2f5%2f56%2fRMS_Titanic_2.jpg&ehk=VbIvq0%2b63pXvH%2bl3Ln4tlz%2bwppwyoN%2fUTZDuGVYTHiQ%3d&risl=&pid=ImgRaw&r=0)\"> 1-  Drop unuseful columns </mark>**\n",
    "<br>\n",
    "\n",
    "* Drop `PassengerId` column from the train set, because it won't benefit our model. I won't drop it from the test set, since it's required there for the submission.\n",
    "\n",
    "* Drop `Cabin` column, becouse 77% of its data are missing. And a general rule is that, if more than half of the data in a column is missing, it's better to drop it.\n",
    "\n",
    "* Drop `Ticket` column, becouse there may not be a correlation between Ticket and survival and its high ratio of duplicates."
   ]
  },
  {
   "cell_type": "code",
   "execution_count": 33,
   "id": "d64d5f33",
   "metadata": {
    "execution": {
     "iopub.execute_input": "2023-07-06T18:59:51.985129Z",
     "iopub.status.busy": "2023-07-06T18:59:51.984485Z",
     "iopub.status.idle": "2023-07-06T18:59:51.994416Z",
     "shell.execute_reply": "2023-07-06T18:59:51.993618Z"
    },
    "papermill": {
     "duration": 0.048672,
     "end_time": "2023-07-06T18:59:51.996744",
     "exception": false,
     "start_time": "2023-07-06T18:59:51.948072",
     "status": "completed"
    },
    "tags": []
   },
   "outputs": [],
   "source": [
    "#Drop PassengerId column from the train set\n",
    "train_df.drop(columns='PassengerId', inplace=True)\n",
    "\n",
    "#Drop Cabin column.\n",
    "train_df.drop(columns='Cabin', inplace=True)\n",
    "test_df.drop(columns='Cabin', inplace=True)\n",
    "\n",
    "#Drop Ticket column\n",
    "train_df.drop(columns='Ticket', inplace=True)\n",
    "test_df.drop(columns='Ticket', inplace=True)"
   ]
  },
  {
   "cell_type": "markdown",
   "id": "8b888f1d",
   "metadata": {
    "papermill": {
     "duration": 0.033836,
     "end_time": "2023-07-06T18:59:52.067312",
     "exception": false,
     "start_time": "2023-07-06T18:59:52.033476",
     "status": "completed"
    },
    "tags": []
   },
   "source": [
    "## **<mark style=\"color:#404040;border-radius:5px;opacity:1.0;background-image: url(https://th.bing.com/th/id/R.3be5e39321febd4c1f758691e109c8bd?rik=lkhAzU4ulIuL0Q&riu=http%3a%2f%2fupload.wikimedia.org%2fwikipedia%2fcommons%2f5%2f56%2fRMS_Titanic_2.jpg&ehk=VbIvq0%2b63pXvH%2bl3Ln4tlz%2bwppwyoN%2fUTZDuGVYTHiQ%3d&risl=&pid=ImgRaw&r=0)\"> 2- Dealing with missing values </mark>**\n",
    "<br>\n",
    "\n",
    "* We will guess `Age` missing values using random numbers between mean and standard deviation.\n",
    "<br>\n",
    "\n",
    "* we will fill missing values of `Embarked` columns with mode value. As a reminder, we have to deal with just two missing values."
   ]
  },
  {
   "cell_type": "code",
   "execution_count": 34,
   "id": "422e5b95",
   "metadata": {
    "execution": {
     "iopub.execute_input": "2023-07-06T18:59:52.137970Z",
     "iopub.status.busy": "2023-07-06T18:59:52.137074Z",
     "iopub.status.idle": "2023-07-06T18:59:52.151689Z",
     "shell.execute_reply": "2023-07-06T18:59:52.150610Z"
    },
    "papermill": {
     "duration": 0.052846,
     "end_time": "2023-07-06T18:59:52.154105",
     "exception": false,
     "start_time": "2023-07-06T18:59:52.101259",
     "status": "completed"
    },
    "tags": []
   },
   "outputs": [
    {
     "name": "stderr",
     "output_type": "stream",
     "text": [
      "/var/folders/ms/g5dss8lj7h9dp49v7kvt1hl00000gq/T/ipykernel_3049/3055197449.py:15: SettingWithCopyWarning: \n",
      "A value is trying to be set on a copy of a slice from a DataFrame\n",
      "\n",
      "See the caveats in the documentation: https://pandas.pydata.org/pandas-docs/stable/user_guide/indexing.html#returning-a-view-versus-a-copy\n",
      "  dataset[\"Age\"][dataset[\"Age\"].isna()] = random_age\n",
      "/var/folders/ms/g5dss8lj7h9dp49v7kvt1hl00000gq/T/ipykernel_3049/3055197449.py:15: SettingWithCopyWarning: \n",
      "A value is trying to be set on a copy of a slice from a DataFrame\n",
      "\n",
      "See the caveats in the documentation: https://pandas.pydata.org/pandas-docs/stable/user_guide/indexing.html#returning-a-view-versus-a-copy\n",
      "  dataset[\"Age\"][dataset[\"Age\"].isna()] = random_age\n"
     ]
    }
   ],
   "source": [
    "datasets=[train_df, test_df]\n",
    "\n",
    "for dataset in datasets:\n",
    "    \n",
    "    #Age column\n",
    "    \n",
    "    mean = train_df[\"Age\"].mean()\n",
    "    std = test_df[\"Age\"].std()\n",
    "    nulls = dataset[\"Age\"].isnull().sum()\n",
    "    \n",
    "    # compute random numbers between the mean, std and is_null\n",
    "    random_age = np.random.randint(mean - std, mean + std, size = nulls)\n",
    "    \n",
    "    # fill NaN values in Age column with random values generated\n",
    "    dataset[\"Age\"][dataset[\"Age\"].isna()] = random_age\n",
    "    dataset[\"Age\"] = train_df[\"Age\"].astype(int)\n",
    "    \n",
    "    \n",
    "    \n",
    "    #Embarked column\n",
    "    \n",
    "    dataset['Embarked'].fillna(dataset['Embarked'].mode()[0],inplace=True)"
   ]
  },
  {
   "cell_type": "code",
   "execution_count": 35,
   "id": "85036d38",
   "metadata": {
    "execution": {
     "iopub.execute_input": "2023-07-06T18:59:52.225832Z",
     "iopub.status.busy": "2023-07-06T18:59:52.225467Z",
     "iopub.status.idle": "2023-07-06T18:59:52.232540Z",
     "shell.execute_reply": "2023-07-06T18:59:52.231267Z"
    },
    "papermill": {
     "duration": 0.046495,
     "end_time": "2023-07-06T18:59:52.235195",
     "exception": false,
     "start_time": "2023-07-06T18:59:52.188700",
     "status": "completed"
    },
    "tags": []
   },
   "outputs": [
    {
     "name": "stdout",
     "output_type": "stream",
     "text": [
      "0\n",
      "0\n"
     ]
    }
   ],
   "source": [
    "#check\n",
    "print(train_df['Age'].isna().sum())\n",
    "print(train_df['Embarked'].isna().sum())"
   ]
  },
  {
   "cell_type": "markdown",
   "id": "6443df0d",
   "metadata": {
    "papermill": {
     "duration": 0.03647,
     "end_time": "2023-07-06T18:59:52.306680",
     "exception": false,
     "start_time": "2023-07-06T18:59:52.270210",
     "status": "completed"
    },
    "tags": []
   },
   "source": [
    "## **<mark style=\"color:#404040;border-radius:5px;opacity:1.0;background-image: url(https://th.bing.com/th/id/R.3be5e39321febd4c1f758691e109c8bd?rik=lkhAzU4ulIuL0Q&riu=http%3a%2f%2fupload.wikimedia.org%2fwikipedia%2fcommons%2f5%2f56%2fRMS_Titanic_2.jpg&ehk=VbIvq0%2b63pXvH%2bl3Ln4tlz%2bwppwyoN%2fUTZDuGVYTHiQ%3d&risl=&pid=ImgRaw&r=0)\"> 3- Create new columns</mark>**\n",
    "<br>\n",
    "\n",
    "## <b>I <span style='color:#595959'>|</span> Create Title column </b> "
   ]
  },
  {
   "cell_type": "code",
   "execution_count": 36,
   "id": "160f5b97",
   "metadata": {
    "execution": {
     "iopub.execute_input": "2023-07-06T18:59:52.378453Z",
     "iopub.status.busy": "2023-07-06T18:59:52.377631Z",
     "iopub.status.idle": "2023-07-06T18:59:52.397173Z",
     "shell.execute_reply": "2023-07-06T18:59:52.396004Z"
    },
    "papermill": {
     "duration": 0.058636,
     "end_time": "2023-07-06T18:59:52.399793",
     "exception": false,
     "start_time": "2023-07-06T18:59:52.341157",
     "status": "completed"
    },
    "tags": []
   },
   "outputs": [
    {
     "data": {
      "text/plain": [
       "array([' Mr', ' Mrs', ' Miss', ' Master', ' Don', ' Rev', ' Dr', ' Mme',\n",
       "       ' Ms', ' Major', ' Lady', ' Sir', ' Mlle', ' Col', ' Capt',\n",
       "       ' Countess', ' Jonkheer', ' Dona'], dtype=object)"
      ]
     },
     "execution_count": 36,
     "metadata": {},
     "output_type": "execute_result"
    }
   ],
   "source": [
    "title_list = pd.concat([train_df,test_df])['Name'].apply(lambda x: re.findall(r'[, ]\\w+[.]',x)[0][:-1]).unique()\n",
    "title_list"
   ]
  },
  {
   "cell_type": "code",
   "execution_count": 37,
   "id": "bd33cfd2",
   "metadata": {
    "execution": {
     "iopub.execute_input": "2023-07-06T18:59:52.485641Z",
     "iopub.status.busy": "2023-07-06T18:59:52.484505Z",
     "iopub.status.idle": "2023-07-06T18:59:52.515022Z",
     "shell.execute_reply": "2023-07-06T18:59:52.514159Z"
    },
    "papermill": {
     "duration": 0.074892,
     "end_time": "2023-07-06T18:59:52.517439",
     "exception": false,
     "start_time": "2023-07-06T18:59:52.442547",
     "status": "completed"
    },
    "tags": []
   },
   "outputs": [],
   "source": [
    "# replacing all titles with mr, mrs, miss, master, and boy \n",
    "def replace_titles(x):\n",
    "    title=x['Title'].strip()\n",
    "    \n",
    "    if (x['Age']<13): return 'Boy'\n",
    "    \n",
    "    if title in ['Don', 'Rev', 'Col','Capt','Sir','Major','Jonkheer']: return 'Mr'\n",
    "    \n",
    "    elif title in ['Countess', 'Mme']: return 'Mrs'\n",
    "    \n",
    "    elif title in ['Mlle', 'Ms','Lady','Dona']: return 'Miss'\n",
    "    \n",
    "    elif title =='Dr':\n",
    "        \n",
    "        if x['Sex']=='male': return 'Mr'\n",
    "        else: return 'Mrs'\n",
    "        \n",
    "    else: return title\n",
    "    \n",
    "for dataset in datasets:\n",
    "    \n",
    "    #create a new columns containing the title for each name\n",
    "    dataset['Title'] = dataset['Name'].apply(lambda x: re.findall(r'[, ]\\w+[.]',x)[0][:-1])\n",
    "    \n",
    "    #apply replacing title function to all titles\n",
    "    dataset['Title'] = dataset.apply(replace_titles, axis=1)"
   ]
  },
  {
   "cell_type": "code",
   "execution_count": 38,
   "id": "d0cdee9d",
   "metadata": {
    "execution": {
     "iopub.execute_input": "2023-07-06T18:59:52.588076Z",
     "iopub.status.busy": "2023-07-06T18:59:52.587450Z",
     "iopub.status.idle": "2023-07-06T18:59:52.595540Z",
     "shell.execute_reply": "2023-07-06T18:59:52.593983Z"
    },
    "papermill": {
     "duration": 0.045964,
     "end_time": "2023-07-06T18:59:52.597514",
     "exception": false,
     "start_time": "2023-07-06T18:59:52.551550",
     "status": "completed"
    },
    "scrolled": true,
    "tags": []
   },
   "outputs": [
    {
     "name": "stdout",
     "output_type": "stream",
     "text": [
      "Train data has : ['Mr' 'Mrs' 'Miss' 'Boy' 'Master']\n",
      "\n",
      "Mr        536\n",
      "Miss      154\n",
      "Mrs       128\n",
      "Boy        69\n",
      "Master      4\n",
      "Name: Title, dtype: int64\n"
     ]
    }
   ],
   "source": [
    "print(f'Train data has : {train_df[\"Title\"].unique()}')\n",
    "print()\n",
    "print(train_df[\"Title\"].value_counts())"
   ]
  },
  {
   "cell_type": "markdown",
   "id": "0ede1551",
   "metadata": {
    "papermill": {
     "duration": 0.033975,
     "end_time": "2023-07-06T18:59:52.665562",
     "exception": false,
     "start_time": "2023-07-06T18:59:52.631587",
     "status": "completed"
    },
    "tags": []
   },
   "source": [
    "## <b>II <span style='color:#595959'>|</span> Create FamilyCount column </b> \n",
    "\n",
    "* We can create a `FamilyCount` feature which combines `Parch` (number of parents and children) and `SibSp` (number of siblings and spouses) columns. This will enable us to drop Parch and SibSp from our datasets.\n"
   ]
  },
  {
   "cell_type": "code",
   "execution_count": 39,
   "id": "cdc12098",
   "metadata": {
    "execution": {
     "iopub.execute_input": "2023-07-06T18:59:52.736134Z",
     "iopub.status.busy": "2023-07-06T18:59:52.735745Z",
     "iopub.status.idle": "2023-07-06T18:59:52.742848Z",
     "shell.execute_reply": "2023-07-06T18:59:52.741810Z"
    },
    "papermill": {
     "duration": 0.04522,
     "end_time": "2023-07-06T18:59:52.744904",
     "exception": false,
     "start_time": "2023-07-06T18:59:52.699684",
     "status": "completed"
    },
    "tags": []
   },
   "outputs": [],
   "source": [
    "for dataset in datasets:\n",
    "    \n",
    "    #create FamilyCount column.\n",
    "    dataset['FamilyCount'] = dataset['SibSp'] + dataset['Parch']+1"
   ]
  },
  {
   "cell_type": "code",
   "execution_count": 40,
   "id": "645e1cfd",
   "metadata": {
    "execution": {
     "iopub.execute_input": "2023-07-06T18:59:52.817289Z",
     "iopub.status.busy": "2023-07-06T18:59:52.816262Z",
     "iopub.status.idle": "2023-07-06T18:59:52.824317Z",
     "shell.execute_reply": "2023-07-06T18:59:52.823423Z"
    },
    "papermill": {
     "duration": 0.045884,
     "end_time": "2023-07-06T18:59:52.826365",
     "exception": false,
     "start_time": "2023-07-06T18:59:52.780481",
     "status": "completed"
    },
    "tags": []
   },
   "outputs": [
    {
     "data": {
      "text/plain": [
       "1     537\n",
       "2     161\n",
       "3     102\n",
       "4      29\n",
       "6      22\n",
       "5      15\n",
       "7      12\n",
       "11      7\n",
       "8       6\n",
       "Name: FamilyCount, dtype: int64"
      ]
     },
     "execution_count": 40,
     "metadata": {},
     "output_type": "execute_result"
    }
   ],
   "source": [
    "train_df['FamilyCount'].value_counts()"
   ]
  },
  {
   "cell_type": "markdown",
   "id": "f1fee1fd",
   "metadata": {
    "papermill": {
     "duration": 0.034997,
     "end_time": "2023-07-06T18:59:52.896062",
     "exception": false,
     "start_time": "2023-07-06T18:59:52.861065",
     "status": "completed"
    },
    "tags": []
   },
   "source": [
    "## <b>III <span style='color:#595959'>|</span> Create IsAlone column </b> \n",
    "\n",
    "\n",
    "* Create a `IsAlone` feature which contain two values (0 or 1). 0 when family count is 1 means there is one alone person and 1 when family count is more than 1."
   ]
  },
  {
   "cell_type": "code",
   "execution_count": 41,
   "id": "b1807a18",
   "metadata": {
    "execution": {
     "iopub.execute_input": "2023-07-06T18:59:52.970373Z",
     "iopub.status.busy": "2023-07-06T18:59:52.969667Z",
     "iopub.status.idle": "2023-07-06T18:59:52.979085Z",
     "shell.execute_reply": "2023-07-06T18:59:52.977867Z"
    },
    "papermill": {
     "duration": 0.050719,
     "end_time": "2023-07-06T18:59:52.981904",
     "exception": false,
     "start_time": "2023-07-06T18:59:52.931185",
     "status": "completed"
    },
    "tags": []
   },
   "outputs": [],
   "source": [
    "for dataset in datasets:\n",
    "    \n",
    "    #create IsAlone column.\n",
    "    dataset.loc[dataset['FamilyCount'] > 1, 'IsAlone'] = 0\n",
    "    dataset.loc[dataset['FamilyCount'] == 1, 'IsAlone'] = 1   \n",
    "    dataset['IsAlone'] = dataset['IsAlone'].astype(int)"
   ]
  },
  {
   "cell_type": "code",
   "execution_count": 42,
   "id": "a83f2712",
   "metadata": {
    "execution": {
     "iopub.execute_input": "2023-07-06T18:59:53.054779Z",
     "iopub.status.busy": "2023-07-06T18:59:53.054337Z",
     "iopub.status.idle": "2023-07-06T18:59:53.062611Z",
     "shell.execute_reply": "2023-07-06T18:59:53.061597Z"
    },
    "papermill": {
     "duration": 0.047707,
     "end_time": "2023-07-06T18:59:53.064577",
     "exception": false,
     "start_time": "2023-07-06T18:59:53.016870",
     "status": "completed"
    },
    "tags": []
   },
   "outputs": [
    {
     "data": {
      "text/plain": [
       "1    537\n",
       "0    354\n",
       "Name: IsAlone, dtype: int64"
      ]
     },
     "execution_count": 42,
     "metadata": {},
     "output_type": "execute_result"
    }
   ],
   "source": [
    "train_df['IsAlone'].value_counts()"
   ]
  },
  {
   "cell_type": "code",
   "execution_count": 43,
   "id": "55cbaeb7",
   "metadata": {
    "execution": {
     "iopub.execute_input": "2023-07-06T18:59:53.137842Z",
     "iopub.status.busy": "2023-07-06T18:59:53.136925Z",
     "iopub.status.idle": "2023-07-06T18:59:53.147189Z",
     "shell.execute_reply": "2023-07-06T18:59:53.146046Z"
    },
    "papermill": {
     "duration": 0.049889,
     "end_time": "2023-07-06T18:59:53.149536",
     "exception": false,
     "start_time": "2023-07-06T18:59:53.099647",
     "status": "completed"
    },
    "tags": []
   },
   "outputs": [
    {
     "data": {
      "text/plain": [
       "IsAlone  Survived\n",
       "0        0           175\n",
       "         1           179\n",
       "1        0           374\n",
       "         1           163\n",
       "Name: Survived, dtype: int64"
      ]
     },
     "execution_count": 43,
     "metadata": {},
     "output_type": "execute_result"
    }
   ],
   "source": [
    "train_df.groupby(['IsAlone', 'Survived'])['Survived'].count()"
   ]
  },
  {
   "cell_type": "code",
   "execution_count": 44,
   "id": "9ec4656d",
   "metadata": {
    "execution": {
     "iopub.execute_input": "2023-07-06T18:59:53.221655Z",
     "iopub.status.busy": "2023-07-06T18:59:53.220876Z",
     "iopub.status.idle": "2023-07-06T18:59:53.228340Z",
     "shell.execute_reply": "2023-07-06T18:59:53.227465Z"
    },
    "papermill": {
     "duration": 0.046315,
     "end_time": "2023-07-06T18:59:53.230886",
     "exception": false,
     "start_time": "2023-07-06T18:59:53.184571",
     "status": "completed"
    },
    "tags": []
   },
   "outputs": [],
   "source": [
    "#survived passengers\n",
    "survived_df= train_df[train_df['Survived']==1]\n",
    "\n",
    "#non-survived passengers\n",
    "unsurvived_df= train_df[train_df['Survived']==0]"
   ]
  },
  {
   "cell_type": "code",
   "execution_count": 45,
   "id": "47af2212",
   "metadata": {
    "execution": {
     "iopub.execute_input": "2023-07-06T18:59:53.303102Z",
     "iopub.status.busy": "2023-07-06T18:59:53.302301Z",
     "iopub.status.idle": "2023-07-06T18:59:54.010226Z",
     "shell.execute_reply": "2023-07-06T18:59:54.009379Z"
    },
    "papermill": {
     "duration": 0.746815,
     "end_time": "2023-07-06T18:59:54.012545",
     "exception": false,
     "start_time": "2023-07-06T18:59:53.265730",
     "status": "completed"
    },
    "tags": []
   },
   "outputs": [
    {
     "name": "stderr",
     "output_type": "stream",
     "text": [
      "/Users/pedda/anaconda3/lib/python3.10/site-packages/seaborn/axisgrid.py:712: UserWarning: Using the pointplot function without specifying `order` is likely to produce an incorrect plot.\n",
      "  warnings.warn(warning)\n"
     ]
    },
    {
     "data": {
      "image/png": "[encoded data removed]",
      "text/plain": [
       "<Figure size 731.111x300 with 2 Axes>"
      ]
     },
     "metadata": {},
     "output_type": "display_data"
    }
   ],
   "source": [
    "grid = sns.FacetGrid(train_df, col='Sex', aspect=1.2)\n",
    "grid.map(sns.pointplot,'IsAlone', 'Survived')\n",
    "grid.add_legend();"
   ]
  },
  {
   "cell_type": "code",
   "execution_count": 46,
   "id": "6ec31e6d",
   "metadata": {
    "execution": {
     "iopub.execute_input": "2023-07-06T18:59:54.085849Z",
     "iopub.status.busy": "2023-07-06T18:59:54.085242Z",
     "iopub.status.idle": "2023-07-06T18:59:54.629176Z",
     "shell.execute_reply": "2023-07-06T18:59:54.628100Z"
    },
    "papermill": {
     "duration": 0.583116,
     "end_time": "2023-07-06T18:59:54.631254",
     "exception": false,
     "start_time": "2023-07-06T18:59:54.048138",
     "status": "completed"
    },
    "tags": []
   },
   "outputs": [
    {
     "data": {
      "image/png": "[encoded data removed]",
      "text/plain": [
       "<Figure size 800x400 with 2 Axes>"
      ]
     },
     "metadata": {},
     "output_type": "display_data"
    }
   ],
   "source": [
    "plt.figure(figsize=(8,4))\n",
    "\n",
    "plt.subplot(1,2,1)\n",
    "plt.title('survived passenger ages')\n",
    "plot=sns.countplot(data=survived_df, x='IsAlone', hue='Sex',palette=\"Set2\");\n",
    "add_value_labels(plot)\n",
    "\n",
    "plt.subplot(1,2,2)\n",
    "plt.title('unsurvived passenger ages')\n",
    "plot=sns.countplot(data=unsurvived_df, x='IsAlone', hue='Sex',palette=\"Set2\");\n",
    "add_value_labels(plot)"
   ]
  },
  {
   "cell_type": "markdown",
   "id": "02dfafb6",
   "metadata": {
    "papermill": {
     "duration": 0.038896,
     "end_time": "2023-07-06T18:59:54.705977",
     "exception": false,
     "start_time": "2023-07-06T18:59:54.667081",
     "status": "completed"
    },
    "tags": []
   },
   "source": [
    "## <b><span style='color:#595959'>|</span> Observations </b> \n",
    "\n",
    "* Most of alone men non-survived (About `85%`), on other hand about `72%` of alone women survived. \n",
    "* Almost half of the passengers who are not alone survived(About `50.5%`). \n"
   ]
  },
  {
   "cell_type": "markdown",
   "id": "2e95410c",
   "metadata": {
    "papermill": {
     "duration": 0.035148,
     "end_time": "2023-07-06T18:59:54.776797",
     "exception": false,
     "start_time": "2023-07-06T18:59:54.741649",
     "status": "completed"
    },
    "tags": []
   },
   "source": [
    "you can check this link for [basic feature engineering with the titanic data.](https://triangleinequality.wordpress.com/2013/09/08/basic-feature-engineering-with-the-titanic-data/) \n"
   ]
  },
  {
   "cell_type": "code",
   "execution_count": 47,
   "id": "280f378b",
   "metadata": {
    "execution": {
     "iopub.execute_input": "2023-07-06T18:59:54.849525Z",
     "iopub.status.busy": "2023-07-06T18:59:54.848892Z",
     "iopub.status.idle": "2023-07-06T18:59:54.855949Z",
     "shell.execute_reply": "2023-07-06T18:59:54.854900Z"
    },
    "papermill": {
     "duration": 0.046216,
     "end_time": "2023-07-06T18:59:54.858210",
     "exception": false,
     "start_time": "2023-07-06T18:59:54.811994",
     "status": "completed"
    },
    "tags": []
   },
   "outputs": [],
   "source": [
    "#drop columns\n",
    "for dataset in datasets:\n",
    "    dataset.drop(columns=['SibSp','Parch','Name'], inplace=True)"
   ]
  },
  {
   "cell_type": "code",
   "execution_count": 48,
   "id": "352ba83f",
   "metadata": {
    "execution": {
     "iopub.execute_input": "2023-07-06T18:59:54.930835Z",
     "iopub.status.busy": "2023-07-06T18:59:54.930475Z",
     "iopub.status.idle": "2023-07-06T18:59:54.943406Z",
     "shell.execute_reply": "2023-07-06T18:59:54.942637Z"
    },
    "papermill": {
     "duration": 0.051609,
     "end_time": "2023-07-06T18:59:54.945221",
     "exception": false,
     "start_time": "2023-07-06T18:59:54.893612",
     "status": "completed"
    },
    "tags": []
   },
   "outputs": [
    {
     "data": {
      "text/html": [
       "<div>\n",
       "<style scoped>\n",
       "    .dataframe tbody tr th:only-of-type {\n",
       "        vertical-align: middle;\n",
       "    }\n",
       "\n",
       "    .dataframe tbody tr th {\n",
       "        vertical-align: top;\n",
       "    }\n",
       "\n",
       "    .dataframe thead th {\n",
       "        text-align: right;\n",
       "    }\n",
       "</style>\n",
       "<table border=\"1\" class=\"dataframe\">\n",
       "  <thead>\n",
       "    <tr style=\"text-align: right;\">\n",
       "      <th></th>\n",
       "      <th>Survived</th>\n",
       "      <th>Pclass</th>\n",
       "      <th>Sex</th>\n",
       "      <th>Age</th>\n",
       "      <th>Fare</th>\n",
       "      <th>Embarked</th>\n",
       "      <th>Title</th>\n",
       "      <th>FamilyCount</th>\n",
       "      <th>IsAlone</th>\n",
       "    </tr>\n",
       "  </thead>\n",
       "  <tbody>\n",
       "    <tr>\n",
       "      <th>0</th>\n",
       "      <td>0</td>\n",
       "      <td>3</td>\n",
       "      <td>male</td>\n",
       "      <td>22</td>\n",
       "      <td>7.2500</td>\n",
       "      <td>S</td>\n",
       "      <td>Mr</td>\n",
       "      <td>2</td>\n",
       "      <td>0</td>\n",
       "    </tr>\n",
       "    <tr>\n",
       "      <th>1</th>\n",
       "      <td>1</td>\n",
       "      <td>1</td>\n",
       "      <td>female</td>\n",
       "      <td>38</td>\n",
       "      <td>71.2833</td>\n",
       "      <td>C</td>\n",
       "      <td>Mrs</td>\n",
       "      <td>2</td>\n",
       "      <td>0</td>\n",
       "    </tr>\n",
       "    <tr>\n",
       "      <th>2</th>\n",
       "      <td>1</td>\n",
       "      <td>3</td>\n",
       "      <td>female</td>\n",
       "      <td>26</td>\n",
       "      <td>7.9250</td>\n",
       "      <td>S</td>\n",
       "      <td>Miss</td>\n",
       "      <td>1</td>\n",
       "      <td>1</td>\n",
       "    </tr>\n",
       "    <tr>\n",
       "      <th>3</th>\n",
       "      <td>1</td>\n",
       "      <td>1</td>\n",
       "      <td>female</td>\n",
       "      <td>35</td>\n",
       "      <td>53.1000</td>\n",
       "      <td>S</td>\n",
       "      <td>Mrs</td>\n",
       "      <td>2</td>\n",
       "      <td>0</td>\n",
       "    </tr>\n",
       "    <tr>\n",
       "      <th>4</th>\n",
       "      <td>0</td>\n",
       "      <td>3</td>\n",
       "      <td>male</td>\n",
       "      <td>35</td>\n",
       "      <td>8.0500</td>\n",
       "      <td>S</td>\n",
       "      <td>Mr</td>\n",
       "      <td>1</td>\n",
       "      <td>1</td>\n",
       "    </tr>\n",
       "  </tbody>\n",
       "</table>\n",
       "</div>"
      ],
      "text/plain": [
       "   Survived  Pclass     Sex  Age     Fare Embarked Title  FamilyCount  IsAlone\n",
       "0         0       3    male   22   7.2500        S    Mr            2        0\n",
       "1         1       1  female   38  71.2833        C   Mrs            2        0\n",
       "2         1       3  female   26   7.9250        S  Miss            1        1\n",
       "3         1       1  female   35  53.1000        S   Mrs            2        0\n",
       "4         0       3    male   35   8.0500        S    Mr            1        1"
      ]
     },
     "execution_count": 48,
     "metadata": {},
     "output_type": "execute_result"
    }
   ],
   "source": [
    "train_df.head()"
   ]
  },
  {
   "cell_type": "markdown",
   "id": "dda8a54b",
   "metadata": {
    "papermill": {
     "duration": 0.03545,
     "end_time": "2023-07-06T18:59:55.016032",
     "exception": false,
     "start_time": "2023-07-06T18:59:54.980582",
     "status": "completed"
    },
    "tags": []
   },
   "source": [
    "## **<mark style=\"color:#404040;border-radius:5px;opacity:1.0;background-image: url(https://th.bing.com/th/id/R.3be5e39321febd4c1f758691e109c8bd?rik=lkhAzU4ulIuL0Q&riu=http%3a%2f%2fupload.wikimedia.org%2fwikipedia%2fcommons%2f5%2f56%2fRMS_Titanic_2.jpg&ehk=VbIvq0%2b63pXvH%2bl3Ln4tlz%2bwppwyoN%2fUTZDuGVYTHiQ%3d&risl=&pid=ImgRaw&r=0)\"> 4- Create Categories</mark>**\n",
    "<br>\n",
    "\n",
    "## <b>I <span style='color:#595959'>|</span> Age column</b> \n",
    "Create Age bands and determine correlations with Survived.\n",
    "<br>\n",
    "\n",
    "It is important to place attention on how you form these groups, since you don't want for example that 80% of your data falls into group 1."
   ]
  },
  {
   "cell_type": "code",
   "execution_count": 49,
   "id": "2abdfc67",
   "metadata": {
    "execution": {
     "iopub.execute_input": "2023-07-06T18:59:55.089391Z",
     "iopub.status.busy": "2023-07-06T18:59:55.088690Z",
     "iopub.status.idle": "2023-07-06T18:59:55.109235Z",
     "shell.execute_reply": "2023-07-06T18:59:55.108191Z"
    },
    "papermill": {
     "duration": 0.05984,
     "end_time": "2023-07-06T18:59:55.111551",
     "exception": false,
     "start_time": "2023-07-06T18:59:55.051711",
     "status": "completed"
    },
    "tags": []
   },
   "outputs": [
    {
     "data": {
      "text/html": [
       "<div>\n",
       "<style scoped>\n",
       "    .dataframe tbody tr th:only-of-type {\n",
       "        vertical-align: middle;\n",
       "    }\n",
       "\n",
       "    .dataframe tbody tr th {\n",
       "        vertical-align: top;\n",
       "    }\n",
       "\n",
       "    .dataframe thead th {\n",
       "        text-align: right;\n",
       "    }\n",
       "</style>\n",
       "<table border=\"1\" class=\"dataframe\">\n",
       "  <thead>\n",
       "    <tr style=\"text-align: right;\">\n",
       "      <th></th>\n",
       "      <th>Bands</th>\n",
       "      <th>Survived</th>\n",
       "    </tr>\n",
       "  </thead>\n",
       "  <tbody>\n",
       "    <tr>\n",
       "      <th>0</th>\n",
       "      <td>(-0.08, 16.0]</td>\n",
       "      <td>0.526786</td>\n",
       "    </tr>\n",
       "    <tr>\n",
       "      <th>1</th>\n",
       "      <td>(16.0, 32.0]</td>\n",
       "      <td>0.350763</td>\n",
       "    </tr>\n",
       "    <tr>\n",
       "      <th>2</th>\n",
       "      <td>(32.0, 48.0]</td>\n",
       "      <td>0.379167</td>\n",
       "    </tr>\n",
       "    <tr>\n",
       "      <th>3</th>\n",
       "      <td>(48.0, 64.0]</td>\n",
       "      <td>0.434783</td>\n",
       "    </tr>\n",
       "    <tr>\n",
       "      <th>4</th>\n",
       "      <td>(64.0, 80.0]</td>\n",
       "      <td>0.090909</td>\n",
       "    </tr>\n",
       "  </tbody>\n",
       "</table>\n",
       "</div>"
      ],
      "text/plain": [
       "           Bands  Survived\n",
       "0  (-0.08, 16.0]  0.526786\n",
       "1   (16.0, 32.0]  0.350763\n",
       "2   (32.0, 48.0]  0.379167\n",
       "3   (48.0, 64.0]  0.434783\n",
       "4   (64.0, 80.0]  0.090909"
      ]
     },
     "execution_count": 49,
     "metadata": {},
     "output_type": "execute_result"
    }
   ],
   "source": [
    "train_df['Bands'] = pd.cut(train_df['Age'], 5)\n",
    "train_df[['Bands', 'Survived']].groupby(['Bands'], as_index=False).mean()"
   ]
  },
  {
   "cell_type": "code",
   "execution_count": 50,
   "id": "307c2c7d",
   "metadata": {
    "execution": {
     "iopub.execute_input": "2023-07-06T18:59:55.185715Z",
     "iopub.status.busy": "2023-07-06T18:59:55.185068Z",
     "iopub.status.idle": "2023-07-06T18:59:55.195980Z",
     "shell.execute_reply": "2023-07-06T18:59:55.194878Z"
    },
    "papermill": {
     "duration": 0.050926,
     "end_time": "2023-07-06T18:59:55.198220",
     "exception": false,
     "start_time": "2023-07-06T18:59:55.147294",
     "status": "completed"
    },
    "tags": []
   },
   "outputs": [
    {
     "data": {
      "text/plain": [
       "(16.0, 32.0]     459\n",
       "(32.0, 48.0]     240\n",
       "(-0.08, 16.0]    112\n",
       "(48.0, 64.0]      69\n",
       "(64.0, 80.0]      11\n",
       "Name: Bands, dtype: int64"
      ]
     },
     "execution_count": 50,
     "metadata": {},
     "output_type": "execute_result"
    }
   ],
   "source": [
    "train_df['Bands'].value_counts()"
   ]
  },
  {
   "cell_type": "code",
   "execution_count": 51,
   "id": "03b5d97c",
   "metadata": {
    "execution": {
     "iopub.execute_input": "2023-07-06T18:59:55.272250Z",
     "iopub.status.busy": "2023-07-06T18:59:55.271476Z",
     "iopub.status.idle": "2023-07-06T18:59:55.294013Z",
     "shell.execute_reply": "2023-07-06T18:59:55.293031Z"
    },
    "papermill": {
     "duration": 0.061744,
     "end_time": "2023-07-06T18:59:55.295959",
     "exception": false,
     "start_time": "2023-07-06T18:59:55.234215",
     "status": "completed"
    },
    "tags": []
   },
   "outputs": [
    {
     "data": {
      "text/html": [
       "<div>\n",
       "<style scoped>\n",
       "    .dataframe tbody tr th:only-of-type {\n",
       "        vertical-align: middle;\n",
       "    }\n",
       "\n",
       "    .dataframe tbody tr th {\n",
       "        vertical-align: top;\n",
       "    }\n",
       "\n",
       "    .dataframe thead th {\n",
       "        text-align: right;\n",
       "    }\n",
       "</style>\n",
       "<table border=\"1\" class=\"dataframe\">\n",
       "  <thead>\n",
       "    <tr style=\"text-align: right;\">\n",
       "      <th></th>\n",
       "      <th>Survived</th>\n",
       "      <th>Pclass</th>\n",
       "      <th>Sex</th>\n",
       "      <th>Age</th>\n",
       "      <th>Fare</th>\n",
       "      <th>Embarked</th>\n",
       "      <th>Title</th>\n",
       "      <th>FamilyCount</th>\n",
       "      <th>IsAlone</th>\n",
       "      <th>Bands</th>\n",
       "    </tr>\n",
       "  </thead>\n",
       "  <tbody>\n",
       "    <tr>\n",
       "      <th>0</th>\n",
       "      <td>0</td>\n",
       "      <td>3</td>\n",
       "      <td>male</td>\n",
       "      <td>1</td>\n",
       "      <td>7.2500</td>\n",
       "      <td>S</td>\n",
       "      <td>Mr</td>\n",
       "      <td>2</td>\n",
       "      <td>0</td>\n",
       "      <td>(16.0, 32.0]</td>\n",
       "    </tr>\n",
       "    <tr>\n",
       "      <th>1</th>\n",
       "      <td>1</td>\n",
       "      <td>1</td>\n",
       "      <td>female</td>\n",
       "      <td>2</td>\n",
       "      <td>71.2833</td>\n",
       "      <td>C</td>\n",
       "      <td>Mrs</td>\n",
       "      <td>2</td>\n",
       "      <td>0</td>\n",
       "      <td>(32.0, 48.0]</td>\n",
       "    </tr>\n",
       "    <tr>\n",
       "      <th>2</th>\n",
       "      <td>1</td>\n",
       "      <td>3</td>\n",
       "      <td>female</td>\n",
       "      <td>1</td>\n",
       "      <td>7.9250</td>\n",
       "      <td>S</td>\n",
       "      <td>Miss</td>\n",
       "      <td>1</td>\n",
       "      <td>1</td>\n",
       "      <td>(16.0, 32.0]</td>\n",
       "    </tr>\n",
       "    <tr>\n",
       "      <th>3</th>\n",
       "      <td>1</td>\n",
       "      <td>1</td>\n",
       "      <td>female</td>\n",
       "      <td>2</td>\n",
       "      <td>53.1000</td>\n",
       "      <td>S</td>\n",
       "      <td>Mrs</td>\n",
       "      <td>2</td>\n",
       "      <td>0</td>\n",
       "      <td>(32.0, 48.0]</td>\n",
       "    </tr>\n",
       "    <tr>\n",
       "      <th>4</th>\n",
       "      <td>0</td>\n",
       "      <td>3</td>\n",
       "      <td>male</td>\n",
       "      <td>2</td>\n",
       "      <td>8.0500</td>\n",
       "      <td>S</td>\n",
       "      <td>Mr</td>\n",
       "      <td>1</td>\n",
       "      <td>1</td>\n",
       "      <td>(32.0, 48.0]</td>\n",
       "    </tr>\n",
       "  </tbody>\n",
       "</table>\n",
       "</div>"
      ],
      "text/plain": [
       "   Survived  Pclass     Sex  Age     Fare Embarked Title  FamilyCount  \\\n",
       "0         0       3    male    1   7.2500        S    Mr            2   \n",
       "1         1       1  female    2  71.2833        C   Mrs            2   \n",
       "2         1       3  female    1   7.9250        S  Miss            1   \n",
       "3         1       1  female    2  53.1000        S   Mrs            2   \n",
       "4         0       3    male    2   8.0500        S    Mr            1   \n",
       "\n",
       "   IsAlone         Bands  \n",
       "0        0  (16.0, 32.0]  \n",
       "1        0  (32.0, 48.0]  \n",
       "2        1  (16.0, 32.0]  \n",
       "3        0  (32.0, 48.0]  \n",
       "4        1  (32.0, 48.0]  "
      ]
     },
     "execution_count": 51,
     "metadata": {},
     "output_type": "execute_result"
    }
   ],
   "source": [
    "for dataset in datasets:    \n",
    "    \n",
    "    #create categories\n",
    "    dataset.loc[ dataset['Age'] <= 16, 'Age'] = 0\n",
    "    dataset.loc[(dataset['Age'] > 16) & (dataset['Age'] <= 32), 'Age'] = 1\n",
    "    dataset.loc[(dataset['Age'] > 32) & (dataset['Age'] <= 48), 'Age'] = 2\n",
    "    dataset.loc[(dataset['Age'] > 48) & (dataset['Age'] <= 64), 'Age'] = 3\n",
    "    dataset.loc[ dataset['Age'] > 64, 'Age']\n",
    "\n",
    "train_df.head()"
   ]
  },
  {
   "cell_type": "markdown",
   "id": "4e02513f",
   "metadata": {
    "papermill": {
     "duration": 0.03595,
     "end_time": "2023-07-06T18:59:55.368134",
     "exception": false,
     "start_time": "2023-07-06T18:59:55.332184",
     "status": "completed"
    },
    "tags": []
   },
   "source": [
    "## <b>II <span style='color:#595959'>|</span> Fare column</b> \n",
    "\n",
    "Frist we will check for missing values then we can create bands."
   ]
  },
  {
   "cell_type": "code",
   "execution_count": 52,
   "id": "ce1b02f0",
   "metadata": {
    "execution": {
     "iopub.execute_input": "2023-07-06T18:59:55.444159Z",
     "iopub.status.busy": "2023-07-06T18:59:55.443008Z",
     "iopub.status.idle": "2023-07-06T18:59:55.449745Z",
     "shell.execute_reply": "2023-07-06T18:59:55.448739Z"
    },
    "papermill": {
     "duration": 0.047507,
     "end_time": "2023-07-06T18:59:55.451711",
     "exception": false,
     "start_time": "2023-07-06T18:59:55.404204",
     "status": "completed"
    },
    "tags": []
   },
   "outputs": [
    {
     "name": "stdout",
     "output_type": "stream",
     "text": [
      "0\n",
      "1\n"
     ]
    }
   ],
   "source": [
    "print(train_df['Fare'].isna().sum())\n",
    "print(test_df['Fare'].isna().sum())"
   ]
  },
  {
   "cell_type": "markdown",
   "id": "4cd35180",
   "metadata": {
    "papermill": {
     "duration": 0.036178,
     "end_time": "2023-07-06T18:59:55.524251",
     "exception": false,
     "start_time": "2023-07-06T18:59:55.488073",
     "status": "completed"
    },
    "tags": []
   },
   "source": [
    "* there is only one missing value in test set. So, let's fill it with median."
   ]
  },
  {
   "cell_type": "code",
   "execution_count": 53,
   "id": "7a1fb242",
   "metadata": {
    "execution": {
     "iopub.execute_input": "2023-07-06T18:59:55.599567Z",
     "iopub.status.busy": "2023-07-06T18:59:55.598793Z",
     "iopub.status.idle": "2023-07-06T18:59:55.613966Z",
     "shell.execute_reply": "2023-07-06T18:59:55.612909Z"
    },
    "papermill": {
     "duration": 0.055524,
     "end_time": "2023-07-06T18:59:55.616120",
     "exception": false,
     "start_time": "2023-07-06T18:59:55.560596",
     "status": "completed"
    },
    "tags": []
   },
   "outputs": [
    {
     "data": {
      "text/html": [
       "<div>\n",
       "<style scoped>\n",
       "    .dataframe tbody tr th:only-of-type {\n",
       "        vertical-align: middle;\n",
       "    }\n",
       "\n",
       "    .dataframe tbody tr th {\n",
       "        vertical-align: top;\n",
       "    }\n",
       "\n",
       "    .dataframe thead th {\n",
       "        text-align: right;\n",
       "    }\n",
       "</style>\n",
       "<table border=\"1\" class=\"dataframe\">\n",
       "  <thead>\n",
       "    <tr style=\"text-align: right;\">\n",
       "      <th></th>\n",
       "      <th>PassengerId</th>\n",
       "      <th>Pclass</th>\n",
       "      <th>Sex</th>\n",
       "      <th>Age</th>\n",
       "      <th>Fare</th>\n",
       "      <th>Embarked</th>\n",
       "      <th>Title</th>\n",
       "      <th>FamilyCount</th>\n",
       "      <th>IsAlone</th>\n",
       "    </tr>\n",
       "  </thead>\n",
       "  <tbody>\n",
       "    <tr>\n",
       "      <th>0</th>\n",
       "      <td>892</td>\n",
       "      <td>3</td>\n",
       "      <td>male</td>\n",
       "      <td>1</td>\n",
       "      <td>7.8292</td>\n",
       "      <td>Q</td>\n",
       "      <td>Mr</td>\n",
       "      <td>1</td>\n",
       "      <td>1</td>\n",
       "    </tr>\n",
       "    <tr>\n",
       "      <th>1</th>\n",
       "      <td>893</td>\n",
       "      <td>3</td>\n",
       "      <td>female</td>\n",
       "      <td>2</td>\n",
       "      <td>7.0000</td>\n",
       "      <td>S</td>\n",
       "      <td>Mrs</td>\n",
       "      <td>2</td>\n",
       "      <td>0</td>\n",
       "    </tr>\n",
       "    <tr>\n",
       "      <th>2</th>\n",
       "      <td>894</td>\n",
       "      <td>2</td>\n",
       "      <td>male</td>\n",
       "      <td>1</td>\n",
       "      <td>9.6875</td>\n",
       "      <td>Q</td>\n",
       "      <td>Mr</td>\n",
       "      <td>1</td>\n",
       "      <td>1</td>\n",
       "    </tr>\n",
       "    <tr>\n",
       "      <th>3</th>\n",
       "      <td>895</td>\n",
       "      <td>3</td>\n",
       "      <td>male</td>\n",
       "      <td>2</td>\n",
       "      <td>8.6625</td>\n",
       "      <td>S</td>\n",
       "      <td>Mr</td>\n",
       "      <td>1</td>\n",
       "      <td>1</td>\n",
       "    </tr>\n",
       "    <tr>\n",
       "      <th>4</th>\n",
       "      <td>896</td>\n",
       "      <td>3</td>\n",
       "      <td>female</td>\n",
       "      <td>2</td>\n",
       "      <td>12.2875</td>\n",
       "      <td>S</td>\n",
       "      <td>Mrs</td>\n",
       "      <td>3</td>\n",
       "      <td>0</td>\n",
       "    </tr>\n",
       "  </tbody>\n",
       "</table>\n",
       "</div>"
      ],
      "text/plain": [
       "   PassengerId  Pclass     Sex  Age     Fare Embarked Title  FamilyCount  \\\n",
       "0          892       3    male    1   7.8292        Q    Mr            1   \n",
       "1          893       3  female    2   7.0000        S   Mrs            2   \n",
       "2          894       2    male    1   9.6875        Q    Mr            1   \n",
       "3          895       3    male    2   8.6625        S    Mr            1   \n",
       "4          896       3  female    2  12.2875        S   Mrs            3   \n",
       "\n",
       "   IsAlone  \n",
       "0        1  \n",
       "1        0  \n",
       "2        1  \n",
       "3        1  \n",
       "4        0  "
      ]
     },
     "execution_count": 53,
     "metadata": {},
     "output_type": "execute_result"
    }
   ],
   "source": [
    "test_df['Fare'].fillna(test_df['Fare'].median(), inplace=True)\n",
    "test_df.head()"
   ]
  },
  {
   "cell_type": "code",
   "execution_count": 54,
   "id": "277a4c45",
   "metadata": {
    "execution": {
     "iopub.execute_input": "2023-07-06T18:59:55.691587Z",
     "iopub.status.busy": "2023-07-06T18:59:55.690768Z",
     "iopub.status.idle": "2023-07-06T18:59:55.707165Z",
     "shell.execute_reply": "2023-07-06T18:59:55.706156Z"
    },
    "papermill": {
     "duration": 0.056943,
     "end_time": "2023-07-06T18:59:55.709476",
     "exception": false,
     "start_time": "2023-07-06T18:59:55.652533",
     "status": "completed"
    },
    "tags": []
   },
   "outputs": [
    {
     "data": {
      "text/html": [
       "<div>\n",
       "<style scoped>\n",
       "    .dataframe tbody tr th:only-of-type {\n",
       "        vertical-align: middle;\n",
       "    }\n",
       "\n",
       "    .dataframe tbody tr th {\n",
       "        vertical-align: top;\n",
       "    }\n",
       "\n",
       "    .dataframe thead th {\n",
       "        text-align: right;\n",
       "    }\n",
       "</style>\n",
       "<table border=\"1\" class=\"dataframe\">\n",
       "  <thead>\n",
       "    <tr style=\"text-align: right;\">\n",
       "      <th></th>\n",
       "      <th>Bands</th>\n",
       "      <th>Survived</th>\n",
       "    </tr>\n",
       "  </thead>\n",
       "  <tbody>\n",
       "    <tr>\n",
       "      <th>0</th>\n",
       "      <td>(-0.512, 128.082]</td>\n",
       "      <td>0.368113</td>\n",
       "    </tr>\n",
       "    <tr>\n",
       "      <th>1</th>\n",
       "      <td>(128.082, 256.165]</td>\n",
       "      <td>0.724138</td>\n",
       "    </tr>\n",
       "    <tr>\n",
       "      <th>2</th>\n",
       "      <td>(256.165, 384.247]</td>\n",
       "      <td>0.666667</td>\n",
       "    </tr>\n",
       "    <tr>\n",
       "      <th>3</th>\n",
       "      <td>(384.247, 512.329]</td>\n",
       "      <td>1.000000</td>\n",
       "    </tr>\n",
       "  </tbody>\n",
       "</table>\n",
       "</div>"
      ],
      "text/plain": [
       "                Bands  Survived\n",
       "0   (-0.512, 128.082]  0.368113\n",
       "1  (128.082, 256.165]  0.724138\n",
       "2  (256.165, 384.247]  0.666667\n",
       "3  (384.247, 512.329]  1.000000"
      ]
     },
     "execution_count": 54,
     "metadata": {},
     "output_type": "execute_result"
    }
   ],
   "source": [
    "train_df['Bands'] = pd.cut(train_df['Fare'], 4)\n",
    "train_df[['Bands', 'Survived']].groupby(['Bands'], as_index=False).mean()"
   ]
  },
  {
   "cell_type": "code",
   "execution_count": 55,
   "id": "8c6ac1e4",
   "metadata": {
    "execution": {
     "iopub.execute_input": "2023-07-06T18:59:55.785134Z",
     "iopub.status.busy": "2023-07-06T18:59:55.784141Z",
     "iopub.status.idle": "2023-07-06T18:59:55.795462Z",
     "shell.execute_reply": "2023-07-06T18:59:55.794328Z"
    },
    "papermill": {
     "duration": 0.051445,
     "end_time": "2023-07-06T18:59:55.797610",
     "exception": false,
     "start_time": "2023-07-06T18:59:55.746165",
     "status": "completed"
    },
    "tags": []
   },
   "outputs": [
    {
     "data": {
      "text/plain": [
       "(-0.512, 128.082]     0.957351\n",
       "(128.082, 256.165]    0.032548\n",
       "(256.165, 384.247]    0.006734\n",
       "(384.247, 512.329]    0.003367\n",
       "Name: Bands, dtype: float64"
      ]
     },
     "execution_count": 55,
     "metadata": {},
     "output_type": "execute_result"
    }
   ],
   "source": [
    "train_df['Bands'].value_counts(normalize=True)"
   ]
  },
  {
   "cell_type": "markdown",
   "id": "f0ee39f4",
   "metadata": {
    "papermill": {
     "duration": 0.036458,
     "end_time": "2023-07-06T18:59:55.870770",
     "exception": false,
     "start_time": "2023-07-06T18:59:55.834312",
     "status": "completed"
    },
    "tags": []
   },
   "source": [
    "<div style=\"border-radius:10px;border:#404040 solid;padding: 15px;background-color:#ffffff00;font-size:100%;text-align:left\">\n",
    "For the 'Fare' feature, we can't do the same as with the 'Age' feature because 95% of the values fall into the first category. Fortunately, we can use \"qcut()\" function, that we can use to see, how we can form the categories.\n",
    "</div>\n"
   ]
  },
  {
   "cell_type": "code",
   "execution_count": 56,
   "id": "fdd532ae",
   "metadata": {
    "execution": {
     "iopub.execute_input": "2023-07-06T18:59:55.947299Z",
     "iopub.status.busy": "2023-07-06T18:59:55.946548Z",
     "iopub.status.idle": "2023-07-06T18:59:55.963707Z",
     "shell.execute_reply": "2023-07-06T18:59:55.962680Z"
    },
    "papermill": {
     "duration": 0.058518,
     "end_time": "2023-07-06T18:59:55.966270",
     "exception": false,
     "start_time": "2023-07-06T18:59:55.907752",
     "status": "completed"
    },
    "tags": []
   },
   "outputs": [
    {
     "data": {
      "text/html": [
       "<div>\n",
       "<style scoped>\n",
       "    .dataframe tbody tr th:only-of-type {\n",
       "        vertical-align: middle;\n",
       "    }\n",
       "\n",
       "    .dataframe tbody tr th {\n",
       "        vertical-align: top;\n",
       "    }\n",
       "\n",
       "    .dataframe thead th {\n",
       "        text-align: right;\n",
       "    }\n",
       "</style>\n",
       "<table border=\"1\" class=\"dataframe\">\n",
       "  <thead>\n",
       "    <tr style=\"text-align: right;\">\n",
       "      <th></th>\n",
       "      <th>Bands</th>\n",
       "      <th>Survived</th>\n",
       "    </tr>\n",
       "  </thead>\n",
       "  <tbody>\n",
       "    <tr>\n",
       "      <th>0</th>\n",
       "      <td>(-0.001, 7.91]</td>\n",
       "      <td>0.197309</td>\n",
       "    </tr>\n",
       "    <tr>\n",
       "      <th>1</th>\n",
       "      <td>(7.91, 14.454]</td>\n",
       "      <td>0.303571</td>\n",
       "    </tr>\n",
       "    <tr>\n",
       "      <th>2</th>\n",
       "      <td>(14.454, 31.0]</td>\n",
       "      <td>0.454955</td>\n",
       "    </tr>\n",
       "    <tr>\n",
       "      <th>3</th>\n",
       "      <td>(31.0, 512.329]</td>\n",
       "      <td>0.581081</td>\n",
       "    </tr>\n",
       "  </tbody>\n",
       "</table>\n",
       "</div>"
      ],
      "text/plain": [
       "             Bands  Survived\n",
       "0   (-0.001, 7.91]  0.197309\n",
       "1   (7.91, 14.454]  0.303571\n",
       "2   (14.454, 31.0]  0.454955\n",
       "3  (31.0, 512.329]  0.581081"
      ]
     },
     "execution_count": 56,
     "metadata": {},
     "output_type": "execute_result"
    }
   ],
   "source": [
    "train_df['Bands'] = pd.qcut(train_df['Fare'], 4)\n",
    "train_df[['Bands', 'Survived']].groupby(['Bands'], as_index=False).mean()"
   ]
  },
  {
   "cell_type": "code",
   "execution_count": 57,
   "id": "add53c31",
   "metadata": {
    "execution": {
     "iopub.execute_input": "2023-07-06T18:59:56.044628Z",
     "iopub.status.busy": "2023-07-06T18:59:56.043931Z",
     "iopub.status.idle": "2023-07-06T18:59:56.054780Z",
     "shell.execute_reply": "2023-07-06T18:59:56.053638Z"
    },
    "papermill": {
     "duration": 0.052218,
     "end_time": "2023-07-06T18:59:56.057093",
     "exception": false,
     "start_time": "2023-07-06T18:59:56.004875",
     "status": "completed"
    },
    "tags": []
   },
   "outputs": [
    {
     "data": {
      "text/plain": [
       "(7.91, 14.454]     0.251403\n",
       "(-0.001, 7.91]     0.250281\n",
       "(14.454, 31.0]     0.249158\n",
       "(31.0, 512.329]    0.249158\n",
       "Name: Bands, dtype: float64"
      ]
     },
     "execution_count": 57,
     "metadata": {},
     "output_type": "execute_result"
    }
   ],
   "source": [
    "train_df['Bands'].value_counts(normalize=True)"
   ]
  },
  {
   "cell_type": "markdown",
   "id": "a829a61d",
   "metadata": {
    "papermill": {
     "duration": 0.037672,
     "end_time": "2023-07-06T18:59:56.132386",
     "exception": false,
     "start_time": "2023-07-06T18:59:56.094714",
     "status": "completed"
    },
    "tags": []
   },
   "source": [
    "Now it looks good."
   ]
  },
  {
   "cell_type": "code",
   "execution_count": 58,
   "id": "a688bdb6",
   "metadata": {
    "execution": {
     "iopub.execute_input": "2023-07-06T18:59:56.210553Z",
     "iopub.status.busy": "2023-07-06T18:59:56.209948Z",
     "iopub.status.idle": "2023-07-06T18:59:56.232512Z",
     "shell.execute_reply": "2023-07-06T18:59:56.231279Z"
    },
    "papermill": {
     "duration": 0.064875,
     "end_time": "2023-07-06T18:59:56.234922",
     "exception": false,
     "start_time": "2023-07-06T18:59:56.170047",
     "status": "completed"
    },
    "tags": []
   },
   "outputs": [
    {
     "data": {
      "text/html": [
       "<div>\n",
       "<style scoped>\n",
       "    .dataframe tbody tr th:only-of-type {\n",
       "        vertical-align: middle;\n",
       "    }\n",
       "\n",
       "    .dataframe tbody tr th {\n",
       "        vertical-align: top;\n",
       "    }\n",
       "\n",
       "    .dataframe thead th {\n",
       "        text-align: right;\n",
       "    }\n",
       "</style>\n",
       "<table border=\"1\" class=\"dataframe\">\n",
       "  <thead>\n",
       "    <tr style=\"text-align: right;\">\n",
       "      <th></th>\n",
       "      <th>Survived</th>\n",
       "      <th>Pclass</th>\n",
       "      <th>Sex</th>\n",
       "      <th>Age</th>\n",
       "      <th>Fare</th>\n",
       "      <th>Embarked</th>\n",
       "      <th>Title</th>\n",
       "      <th>FamilyCount</th>\n",
       "      <th>IsAlone</th>\n",
       "      <th>Bands</th>\n",
       "    </tr>\n",
       "  </thead>\n",
       "  <tbody>\n",
       "    <tr>\n",
       "      <th>0</th>\n",
       "      <td>0</td>\n",
       "      <td>3</td>\n",
       "      <td>male</td>\n",
       "      <td>1</td>\n",
       "      <td>0</td>\n",
       "      <td>S</td>\n",
       "      <td>Mr</td>\n",
       "      <td>2</td>\n",
       "      <td>0</td>\n",
       "      <td>(-0.001, 7.91]</td>\n",
       "    </tr>\n",
       "    <tr>\n",
       "      <th>1</th>\n",
       "      <td>1</td>\n",
       "      <td>1</td>\n",
       "      <td>female</td>\n",
       "      <td>2</td>\n",
       "      <td>3</td>\n",
       "      <td>C</td>\n",
       "      <td>Mrs</td>\n",
       "      <td>2</td>\n",
       "      <td>0</td>\n",
       "      <td>(31.0, 512.329]</td>\n",
       "    </tr>\n",
       "    <tr>\n",
       "      <th>2</th>\n",
       "      <td>1</td>\n",
       "      <td>3</td>\n",
       "      <td>female</td>\n",
       "      <td>1</td>\n",
       "      <td>1</td>\n",
       "      <td>S</td>\n",
       "      <td>Miss</td>\n",
       "      <td>1</td>\n",
       "      <td>1</td>\n",
       "      <td>(7.91, 14.454]</td>\n",
       "    </tr>\n",
       "    <tr>\n",
       "      <th>3</th>\n",
       "      <td>1</td>\n",
       "      <td>1</td>\n",
       "      <td>female</td>\n",
       "      <td>2</td>\n",
       "      <td>3</td>\n",
       "      <td>S</td>\n",
       "      <td>Mrs</td>\n",
       "      <td>2</td>\n",
       "      <td>0</td>\n",
       "      <td>(31.0, 512.329]</td>\n",
       "    </tr>\n",
       "    <tr>\n",
       "      <th>4</th>\n",
       "      <td>0</td>\n",
       "      <td>3</td>\n",
       "      <td>male</td>\n",
       "      <td>2</td>\n",
       "      <td>1</td>\n",
       "      <td>S</td>\n",
       "      <td>Mr</td>\n",
       "      <td>1</td>\n",
       "      <td>1</td>\n",
       "      <td>(7.91, 14.454]</td>\n",
       "    </tr>\n",
       "    <tr>\n",
       "      <th>5</th>\n",
       "      <td>0</td>\n",
       "      <td>3</td>\n",
       "      <td>male</td>\n",
       "      <td>1</td>\n",
       "      <td>1</td>\n",
       "      <td>Q</td>\n",
       "      <td>Mr</td>\n",
       "      <td>1</td>\n",
       "      <td>1</td>\n",
       "      <td>(7.91, 14.454]</td>\n",
       "    </tr>\n",
       "    <tr>\n",
       "      <th>6</th>\n",
       "      <td>0</td>\n",
       "      <td>1</td>\n",
       "      <td>male</td>\n",
       "      <td>3</td>\n",
       "      <td>3</td>\n",
       "      <td>S</td>\n",
       "      <td>Mr</td>\n",
       "      <td>1</td>\n",
       "      <td>1</td>\n",
       "      <td>(31.0, 512.329]</td>\n",
       "    </tr>\n",
       "    <tr>\n",
       "      <th>7</th>\n",
       "      <td>0</td>\n",
       "      <td>3</td>\n",
       "      <td>male</td>\n",
       "      <td>0</td>\n",
       "      <td>2</td>\n",
       "      <td>S</td>\n",
       "      <td>Boy</td>\n",
       "      <td>5</td>\n",
       "      <td>0</td>\n",
       "      <td>(14.454, 31.0]</td>\n",
       "    </tr>\n",
       "    <tr>\n",
       "      <th>8</th>\n",
       "      <td>1</td>\n",
       "      <td>3</td>\n",
       "      <td>female</td>\n",
       "      <td>1</td>\n",
       "      <td>1</td>\n",
       "      <td>S</td>\n",
       "      <td>Mrs</td>\n",
       "      <td>3</td>\n",
       "      <td>0</td>\n",
       "      <td>(7.91, 14.454]</td>\n",
       "    </tr>\n",
       "    <tr>\n",
       "      <th>9</th>\n",
       "      <td>1</td>\n",
       "      <td>2</td>\n",
       "      <td>female</td>\n",
       "      <td>0</td>\n",
       "      <td>2</td>\n",
       "      <td>C</td>\n",
       "      <td>Mrs</td>\n",
       "      <td>2</td>\n",
       "      <td>0</td>\n",
       "      <td>(14.454, 31.0]</td>\n",
       "    </tr>\n",
       "  </tbody>\n",
       "</table>\n",
       "</div>"
      ],
      "text/plain": [
       "   Survived  Pclass     Sex  Age  Fare Embarked Title  FamilyCount  IsAlone  \\\n",
       "0         0       3    male    1     0        S    Mr            2        0   \n",
       "1         1       1  female    2     3        C   Mrs            2        0   \n",
       "2         1       3  female    1     1        S  Miss            1        1   \n",
       "3         1       1  female    2     3        S   Mrs            2        0   \n",
       "4         0       3    male    2     1        S    Mr            1        1   \n",
       "5         0       3    male    1     1        Q    Mr            1        1   \n",
       "6         0       1    male    3     3        S    Mr            1        1   \n",
       "7         0       3    male    0     2        S   Boy            5        0   \n",
       "8         1       3  female    1     1        S   Mrs            3        0   \n",
       "9         1       2  female    0     2        C   Mrs            2        0   \n",
       "\n",
       "             Bands  \n",
       "0   (-0.001, 7.91]  \n",
       "1  (31.0, 512.329]  \n",
       "2   (7.91, 14.454]  \n",
       "3  (31.0, 512.329]  \n",
       "4   (7.91, 14.454]  \n",
       "5   (7.91, 14.454]  \n",
       "6  (31.0, 512.329]  \n",
       "7   (14.454, 31.0]  \n",
       "8   (7.91, 14.454]  \n",
       "9   (14.454, 31.0]  "
      ]
     },
     "execution_count": 58,
     "metadata": {},
     "output_type": "execute_result"
    }
   ],
   "source": [
    "for dataset in datasets:\n",
    "    \n",
    "    dataset.loc[ dataset['Fare'] <= 7.91, 'Fare'] = 0\n",
    "    dataset.loc[(dataset['Fare'] > 7.91) & (dataset['Fare'] <= 14.454), 'Fare'] = 1\n",
    "    dataset.loc[(dataset['Fare'] > 14.454) & (dataset['Fare'] <= 31), 'Fare']   = 2\n",
    "    dataset.loc[ dataset['Fare'] > 31, 'Fare'] = 3\n",
    "    dataset['Fare'] = dataset['Fare'].astype(int)\n",
    "    \n",
    "train_df.head(10)"
   ]
  },
  {
   "cell_type": "code",
   "execution_count": 59,
   "id": "d70049b1",
   "metadata": {
    "execution": {
     "iopub.execute_input": "2023-07-06T18:59:56.314042Z",
     "iopub.status.busy": "2023-07-06T18:59:56.313642Z",
     "iopub.status.idle": "2023-07-06T18:59:56.319681Z",
     "shell.execute_reply": "2023-07-06T18:59:56.318629Z"
    },
    "papermill": {
     "duration": 0.04813,
     "end_time": "2023-07-06T18:59:56.321961",
     "exception": false,
     "start_time": "2023-07-06T18:59:56.273831",
     "status": "completed"
    },
    "tags": []
   },
   "outputs": [],
   "source": [
    "#drop Bands column\n",
    "train_df.drop(columns='Bands',inplace=True)"
   ]
  },
  {
   "cell_type": "markdown",
   "id": "8b31b4fb",
   "metadata": {
    "papermill": {
     "duration": 0.037444,
     "end_time": "2023-07-06T18:59:56.396949",
     "exception": false,
     "start_time": "2023-07-06T18:59:56.359505",
     "status": "completed"
    },
    "tags": []
   },
   "source": [
    "## **<mark style=\"color:#404040;border-radius:5px;opacity:1.0;background-image: url(https://th.bing.com/th/id/R.3be5e39321febd4c1f758691e109c8bd?rik=lkhAzU4ulIuL0Q&riu=http%3a%2f%2fupload.wikimedia.org%2fwikipedia%2fcommons%2f5%2f56%2fRMS_Titanic_2.jpg&ehk=VbIvq0%2b63pXvH%2bl3Ln4tlz%2bwppwyoN%2fUTZDuGVYTHiQ%3d&risl=&pid=ImgRaw&r=0)\"> 5- Encode categorical features</mark>**\n",
    "<br>\n",
    "\n",
    " We have three categorical features Sex, Embarked and Title. So, we should convert them ti numeric."
   ]
  },
  {
   "cell_type": "code",
   "execution_count": 60,
   "id": "c615ee01",
   "metadata": {
    "execution": {
     "iopub.execute_input": "2023-07-06T18:59:56.476585Z",
     "iopub.status.busy": "2023-07-06T18:59:56.475764Z",
     "iopub.status.idle": "2023-07-06T18:59:56.488413Z",
     "shell.execute_reply": "2023-07-06T18:59:56.487521Z"
    },
    "papermill": {
     "duration": 0.055243,
     "end_time": "2023-07-06T18:59:56.490657",
     "exception": false,
     "start_time": "2023-07-06T18:59:56.435414",
     "status": "completed"
    },
    "tags": []
   },
   "outputs": [],
   "source": [
    "for dataset in datasets:\n",
    "    \n",
    "    #encode Sex column\n",
    "    dataset['Sex'] = dataset['Sex'].map({'female': 0, 'male': 1}).astype(int)\n",
    "    \n",
    "    #encode Embarked column\n",
    "    dataset['Embarked'] = dataset['Embarked'].map({'S': 0, 'C': 1, 'Q': 2}).astype(int)\n",
    "    \n",
    "    #encode Title column\n",
    "    dataset['Title'] = dataset['Title'].map({\"Mr\": 0, \"Miss\": 1, \"Mrs\": 2, \"Master\": 3, \"Boy\": 4}).astype(int)"
   ]
  },
  {
   "cell_type": "code",
   "execution_count": 61,
   "id": "4d31a541",
   "metadata": {
    "execution": {
     "iopub.execute_input": "2023-07-06T18:59:56.568881Z",
     "iopub.status.busy": "2023-07-06T18:59:56.568151Z",
     "iopub.status.idle": "2023-07-06T18:59:56.579748Z",
     "shell.execute_reply": "2023-07-06T18:59:56.578936Z"
    },
    "papermill": {
     "duration": 0.052912,
     "end_time": "2023-07-06T18:59:56.581685",
     "exception": false,
     "start_time": "2023-07-06T18:59:56.528773",
     "status": "completed"
    },
    "tags": []
   },
   "outputs": [
    {
     "data": {
      "text/html": [
       "<div>\n",
       "<style scoped>\n",
       "    .dataframe tbody tr th:only-of-type {\n",
       "        vertical-align: middle;\n",
       "    }\n",
       "\n",
       "    .dataframe tbody tr th {\n",
       "        vertical-align: top;\n",
       "    }\n",
       "\n",
       "    .dataframe thead th {\n",
       "        text-align: right;\n",
       "    }\n",
       "</style>\n",
       "<table border=\"1\" class=\"dataframe\">\n",
       "  <thead>\n",
       "    <tr style=\"text-align: right;\">\n",
       "      <th></th>\n",
       "      <th>PassengerId</th>\n",
       "      <th>Pclass</th>\n",
       "      <th>Sex</th>\n",
       "      <th>Age</th>\n",
       "      <th>Fare</th>\n",
       "      <th>Embarked</th>\n",
       "      <th>Title</th>\n",
       "      <th>FamilyCount</th>\n",
       "      <th>IsAlone</th>\n",
       "    </tr>\n",
       "  </thead>\n",
       "  <tbody>\n",
       "    <tr>\n",
       "      <th>0</th>\n",
       "      <td>892</td>\n",
       "      <td>3</td>\n",
       "      <td>1</td>\n",
       "      <td>1</td>\n",
       "      <td>0</td>\n",
       "      <td>2</td>\n",
       "      <td>0</td>\n",
       "      <td>1</td>\n",
       "      <td>1</td>\n",
       "    </tr>\n",
       "    <tr>\n",
       "      <th>1</th>\n",
       "      <td>893</td>\n",
       "      <td>3</td>\n",
       "      <td>0</td>\n",
       "      <td>2</td>\n",
       "      <td>0</td>\n",
       "      <td>0</td>\n",
       "      <td>2</td>\n",
       "      <td>2</td>\n",
       "      <td>0</td>\n",
       "    </tr>\n",
       "    <tr>\n",
       "      <th>2</th>\n",
       "      <td>894</td>\n",
       "      <td>2</td>\n",
       "      <td>1</td>\n",
       "      <td>1</td>\n",
       "      <td>1</td>\n",
       "      <td>2</td>\n",
       "      <td>0</td>\n",
       "      <td>1</td>\n",
       "      <td>1</td>\n",
       "    </tr>\n",
       "    <tr>\n",
       "      <th>3</th>\n",
       "      <td>895</td>\n",
       "      <td>3</td>\n",
       "      <td>1</td>\n",
       "      <td>2</td>\n",
       "      <td>1</td>\n",
       "      <td>0</td>\n",
       "      <td>0</td>\n",
       "      <td>1</td>\n",
       "      <td>1</td>\n",
       "    </tr>\n",
       "    <tr>\n",
       "      <th>4</th>\n",
       "      <td>896</td>\n",
       "      <td>3</td>\n",
       "      <td>0</td>\n",
       "      <td>2</td>\n",
       "      <td>1</td>\n",
       "      <td>0</td>\n",
       "      <td>2</td>\n",
       "      <td>3</td>\n",
       "      <td>0</td>\n",
       "    </tr>\n",
       "  </tbody>\n",
       "</table>\n",
       "</div>"
      ],
      "text/plain": [
       "   PassengerId  Pclass  Sex  Age  Fare  Embarked  Title  FamilyCount  IsAlone\n",
       "0          892       3    1    1     0         2      0            1        1\n",
       "1          893       3    0    2     0         0      2            2        0\n",
       "2          894       2    1    1     1         2      0            1        1\n",
       "3          895       3    1    2     1         0      0            1        1\n",
       "4          896       3    0    2     1         0      2            3        0"
      ]
     },
     "execution_count": 61,
     "metadata": {},
     "output_type": "execute_result"
    }
   ],
   "source": [
    "test_df.head()"
   ]
  },
  {
   "cell_type": "code",
   "execution_count": 62,
   "id": "c94860dc",
   "metadata": {
    "execution": {
     "iopub.execute_input": "2023-07-06T18:59:56.659314Z",
     "iopub.status.busy": "2023-07-06T18:59:56.658677Z",
     "iopub.status.idle": "2023-07-06T18:59:56.669851Z",
     "shell.execute_reply": "2023-07-06T18:59:56.668981Z"
    },
    "papermill": {
     "duration": 0.052536,
     "end_time": "2023-07-06T18:59:56.671863",
     "exception": false,
     "start_time": "2023-07-06T18:59:56.619327",
     "status": "completed"
    },
    "tags": []
   },
   "outputs": [
    {
     "data": {
      "text/html": [
       "<div>\n",
       "<style scoped>\n",
       "    .dataframe tbody tr th:only-of-type {\n",
       "        vertical-align: middle;\n",
       "    }\n",
       "\n",
       "    .dataframe tbody tr th {\n",
       "        vertical-align: top;\n",
       "    }\n",
       "\n",
       "    .dataframe thead th {\n",
       "        text-align: right;\n",
       "    }\n",
       "</style>\n",
       "<table border=\"1\" class=\"dataframe\">\n",
       "  <thead>\n",
       "    <tr style=\"text-align: right;\">\n",
       "      <th></th>\n",
       "      <th>Survived</th>\n",
       "      <th>Pclass</th>\n",
       "      <th>Sex</th>\n",
       "      <th>Age</th>\n",
       "      <th>Fare</th>\n",
       "      <th>Embarked</th>\n",
       "      <th>Title</th>\n",
       "      <th>FamilyCount</th>\n",
       "      <th>IsAlone</th>\n",
       "    </tr>\n",
       "  </thead>\n",
       "  <tbody>\n",
       "    <tr>\n",
       "      <th>0</th>\n",
       "      <td>0</td>\n",
       "      <td>3</td>\n",
       "      <td>1</td>\n",
       "      <td>1</td>\n",
       "      <td>0</td>\n",
       "      <td>0</td>\n",
       "      <td>0</td>\n",
       "      <td>2</td>\n",
       "      <td>0</td>\n",
       "    </tr>\n",
       "    <tr>\n",
       "      <th>1</th>\n",
       "      <td>1</td>\n",
       "      <td>1</td>\n",
       "      <td>0</td>\n",
       "      <td>2</td>\n",
       "      <td>3</td>\n",
       "      <td>1</td>\n",
       "      <td>2</td>\n",
       "      <td>2</td>\n",
       "      <td>0</td>\n",
       "    </tr>\n",
       "    <tr>\n",
       "      <th>2</th>\n",
       "      <td>1</td>\n",
       "      <td>3</td>\n",
       "      <td>0</td>\n",
       "      <td>1</td>\n",
       "      <td>1</td>\n",
       "      <td>0</td>\n",
       "      <td>1</td>\n",
       "      <td>1</td>\n",
       "      <td>1</td>\n",
       "    </tr>\n",
       "    <tr>\n",
       "      <th>3</th>\n",
       "      <td>1</td>\n",
       "      <td>1</td>\n",
       "      <td>0</td>\n",
       "      <td>2</td>\n",
       "      <td>3</td>\n",
       "      <td>0</td>\n",
       "      <td>2</td>\n",
       "      <td>2</td>\n",
       "      <td>0</td>\n",
       "    </tr>\n",
       "    <tr>\n",
       "      <th>4</th>\n",
       "      <td>0</td>\n",
       "      <td>3</td>\n",
       "      <td>1</td>\n",
       "      <td>2</td>\n",
       "      <td>1</td>\n",
       "      <td>0</td>\n",
       "      <td>0</td>\n",
       "      <td>1</td>\n",
       "      <td>1</td>\n",
       "    </tr>\n",
       "  </tbody>\n",
       "</table>\n",
       "</div>"
      ],
      "text/plain": [
       "   Survived  Pclass  Sex  Age  Fare  Embarked  Title  FamilyCount  IsAlone\n",
       "0         0       3    1    1     0         0      0            2        0\n",
       "1         1       1    0    2     3         1      2            2        0\n",
       "2         1       3    0    1     1         0      1            1        1\n",
       "3         1       1    0    2     3         0      2            2        0\n",
       "4         0       3    1    2     1         0      0            1        1"
      ]
     },
     "execution_count": 62,
     "metadata": {},
     "output_type": "execute_result"
    }
   ],
   "source": [
    "train_df.head()"
   ]
  },
  {
   "cell_type": "code",
   "execution_count": null,
   "id": "079f012c",
   "metadata": {
    "papermill": {
     "duration": 0.037834,
     "end_time": "2023-07-06T18:59:56.747533",
     "exception": false,
     "start_time": "2023-07-06T18:59:56.709699",
     "status": "completed"
    },
    "tags": []
   },
   "outputs": [],
   "source": []
  },
  {
   "cell_type": "markdown",
   "id": "bfb58510",
   "metadata": {
    "papermill": {
     "duration": 0.037711,
     "end_time": "2023-07-06T18:59:56.823423",
     "exception": false,
     "start_time": "2023-07-06T18:59:56.785712",
     "status": "completed"
    },
    "tags": []
   },
   "source": [
    "# <a id=\"5\"></a>\n",
    "<div style=\"padding: 30px;color:white;margin:10;font-size:170%;text-align:left;display:fill;border-radius:10px;background-color:#F1C40F;overflow:hidden;background-image: url(https://th.bing.com/th/id/R.3be5e39321febd4c1f758691e109c8bd?rik=lkhAzU4ulIuL0Q&riu=http%3a%2f%2fupload.wikimedia.org%2fwikipedia%2fcommons%2f5%2f56%2fRMS_Titanic_2.jpg&ehk=VbIvq0%2b63pXvH%2bl3Ln4tlz%2bwppwyoN%2fUTZDuGVYTHiQ%3d&risl=&pid=ImgRaw&r=0)\"><b><span style='color:#404040'>4 | Modeling </span></b> </div>\n",
    "\n",
    "<br>\n",
    "\n",
    "We have chosen to employ a variety of models, namely **<span style='color:#404040'>SVM</span>** , **<span style='color:#404040'>RandomForest</span>** , **<span style='color:#404040'>KNeighbors Classifier</span>** , **<span style='color:#404040'>Decision Tree Classifier</span>** , **<span style='color:#404040'>Logistic Regression</span>** and **<span style='color:#404040'>Gradient Boosting Classifier</span>**.\n",
    "\n",
    "\n",
    "These algorithms are known for their distinct strengths when dealing with diverse data types and structures.\n",
    "\n",
    "## **<mark style=\"color:#404040;border-radius:5px;opacity:1.0;background-image: url(https://th.bing.com/th/id/R.3be5e39321febd4c1f758691e109c8bd?rik=lkhAzU4ulIuL0Q&riu=http%3a%2f%2fupload.wikimedia.org%2fwikipedia%2fcommons%2f5%2f56%2fRMS_Titanic_2.jpg&ehk=VbIvq0%2b63pXvH%2bl3Ln4tlz%2bwppwyoN%2fUTZDuGVYTHiQ%3d&risl=&pid=ImgRaw&r=0)\"> 1- Model Building</mark>**\n",
    "<br>\n",
    "\n",
    "## <b>I <span style='color:#595959'>|</span> Define models</b> \n"
   ]
  },
  {
   "cell_type": "code",
   "execution_count": 63,
   "id": "d948a48f",
   "metadata": {
    "execution": {
     "iopub.execute_input": "2023-07-06T18:59:56.901617Z",
     "iopub.status.busy": "2023-07-06T18:59:56.900927Z",
     "iopub.status.idle": "2023-07-06T18:59:56.907650Z",
     "shell.execute_reply": "2023-07-06T18:59:56.906848Z"
    },
    "papermill": {
     "duration": 0.048491,
     "end_time": "2023-07-06T18:59:56.909746",
     "exception": false,
     "start_time": "2023-07-06T18:59:56.861255",
     "status": "completed"
    },
    "tags": []
   },
   "outputs": [],
   "source": [
    "X_train = train_df.drop(\"Survived\", axis=1)\n",
    "y_train = train_df[\"Survived\"]\n",
    "X_test  = test_df.drop(\"PassengerId\", axis=1).copy()"
   ]
  },
  {
   "cell_type": "code",
   "execution_count": 64,
   "id": "58cd35a4",
   "metadata": {
    "execution": {
     "iopub.execute_input": "2023-07-06T18:59:56.987576Z",
     "iopub.status.busy": "2023-07-06T18:59:56.987193Z",
     "iopub.status.idle": "2023-07-06T18:59:56.993648Z",
     "shell.execute_reply": "2023-07-06T18:59:56.992249Z"
    },
    "papermill": {
     "duration": 0.048301,
     "end_time": "2023-07-06T18:59:56.995944",
     "exception": false,
     "start_time": "2023-07-06T18:59:56.947643",
     "status": "completed"
    },
    "tags": []
   },
   "outputs": [],
   "source": [
    "Models = [\n",
    "        \n",
    "        (\"SVM\",      SVC()),     #Support Vector Machines\n",
    "               \n",
    "        (\"kNN\",      KNeighborsClassifier(n_neighbors = 3)),    #KNeighborsClassifier\n",
    "\n",
    "        (\"LR_model\", LogisticRegression(random_state=42,n_jobs=-1)),   #Logistic Regression model\n",
    "\n",
    "        (\"DT_model\", DecisionTreeClassifier(random_state=42)),    #Decision tree model\n",
    "\n",
    "        (\"RF_model\", RandomForestClassifier(random_state=42, n_jobs=-1)),   #Random Forest model\n",
    "\n",
    "        (\"GradientBoosting\",GradientBoostingClassifier(max_depth=2,     #GradientBoosting model\n",
    "                                                      n_estimators=100))\n",
    "        ]"
   ]
  },
  {
   "cell_type": "markdown",
   "id": "33fd50f6",
   "metadata": {
    "papermill": {
     "duration": 0.038784,
     "end_time": "2023-07-06T18:59:57.072668",
     "exception": false,
     "start_time": "2023-07-06T18:59:57.033884",
     "status": "completed"
    },
    "tags": []
   },
   "source": [
    "## <b>II <span style='color:#595959'>|</span> Train our models</b> \n"
   ]
  },
  {
   "cell_type": "code",
   "execution_count": 65,
   "id": "513ec902",
   "metadata": {
    "execution": {
     "iopub.execute_input": "2023-07-06T18:59:57.151969Z",
     "iopub.status.busy": "2023-07-06T18:59:57.151567Z",
     "iopub.status.idle": "2023-07-06T18:59:58.713954Z",
     "shell.execute_reply": "2023-07-06T18:59:58.712146Z"
    },
    "papermill": {
     "duration": 1.605766,
     "end_time": "2023-07-06T18:59:58.716570",
     "exception": false,
     "start_time": "2023-07-06T18:59:57.110804",
     "status": "completed"
    },
    "tags": []
   },
   "outputs": [
    {
     "name": "stdout",
     "output_type": "stream",
     "text": [
      "SVM Accuracy Score : 82.716%\n",
      "kNN Accuracy Score : 83.614%\n",
      "LR_model Accuracy Score : 81.818%\n",
      "DT_model Accuracy Score : 88.552%\n",
      "RF_model Accuracy Score : 88.552%\n",
      "GradientBoosting Accuracy Score : 83.838%\n"
     ]
    }
   ],
   "source": [
    "accuracies = {}\n",
    "models = {}\n",
    "model = Models\n",
    "for name,model in Models:\n",
    "    model.fit(X_train, y_train)\n",
    "    models[name] = model\n",
    "    acc = model.score(X_train, y_train)*100\n",
    "    accuracies[name] = acc\n",
    "    print(\"{} Accuracy Score : {:.3f}%\".format(name,acc))"
   ]
  },
  {
   "cell_type": "code",
   "execution_count": 66,
   "id": "4009c8e9",
   "metadata": {
    "execution": {
     "iopub.execute_input": "2023-07-06T18:59:58.795832Z",
     "iopub.status.busy": "2023-07-06T18:59:58.795383Z",
     "iopub.status.idle": "2023-07-06T18:59:58.810229Z",
     "shell.execute_reply": "2023-07-06T18:59:58.809146Z"
    },
    "papermill": {
     "duration": 0.057198,
     "end_time": "2023-07-06T18:59:58.812586",
     "exception": false,
     "start_time": "2023-07-06T18:59:58.755388",
     "status": "completed"
    },
    "tags": []
   },
   "outputs": [
    {
     "data": {
      "text/html": [
       "<div>\n",
       "<style scoped>\n",
       "    .dataframe tbody tr th:only-of-type {\n",
       "        vertical-align: middle;\n",
       "    }\n",
       "\n",
       "    .dataframe tbody tr th {\n",
       "        vertical-align: top;\n",
       "    }\n",
       "\n",
       "    .dataframe thead th {\n",
       "        text-align: right;\n",
       "    }\n",
       "</style>\n",
       "<table border=\"1\" class=\"dataframe\">\n",
       "  <thead>\n",
       "    <tr style=\"text-align: right;\">\n",
       "      <th></th>\n",
       "      <th>Model</th>\n",
       "      <th>Test score</th>\n",
       "    </tr>\n",
       "  </thead>\n",
       "  <tbody>\n",
       "    <tr>\n",
       "      <th>3</th>\n",
       "      <td>DT_model</td>\n",
       "      <td>88.552189</td>\n",
       "    </tr>\n",
       "    <tr>\n",
       "      <th>4</th>\n",
       "      <td>RF_model</td>\n",
       "      <td>88.552189</td>\n",
       "    </tr>\n",
       "    <tr>\n",
       "      <th>5</th>\n",
       "      <td>GradientBoosting</td>\n",
       "      <td>83.838384</td>\n",
       "    </tr>\n",
       "    <tr>\n",
       "      <th>1</th>\n",
       "      <td>kNN</td>\n",
       "      <td>83.613917</td>\n",
       "    </tr>\n",
       "    <tr>\n",
       "      <th>0</th>\n",
       "      <td>SVM</td>\n",
       "      <td>82.716049</td>\n",
       "    </tr>\n",
       "    <tr>\n",
       "      <th>2</th>\n",
       "      <td>LR_model</td>\n",
       "      <td>81.818182</td>\n",
       "    </tr>\n",
       "  </tbody>\n",
       "</table>\n",
       "</div>"
      ],
      "text/plain": [
       "              Model  Test score\n",
       "3          DT_model   88.552189\n",
       "4          RF_model   88.552189\n",
       "5  GradientBoosting   83.838384\n",
       "1               kNN   83.613917\n",
       "0               SVM   82.716049\n",
       "2          LR_model   81.818182"
      ]
     },
     "execution_count": 66,
     "metadata": {},
     "output_type": "execute_result"
    }
   ],
   "source": [
    "models_res = pd.DataFrame(data=accuracies.items())\n",
    "models_res.columns = ['Model','Test score']\n",
    "models_res.sort_values('Test score',ascending=False)"
   ]
  },
  {
   "cell_type": "markdown",
   "id": "6acc62e3",
   "metadata": {
    "papermill": {
     "duration": 0.038647,
     "end_time": "2023-07-06T18:59:58.889553",
     "exception": false,
     "start_time": "2023-07-06T18:59:58.850906",
     "status": "completed"
    },
    "tags": []
   },
   "source": [
    "## <b>III <span style='color:#595959'>|</span> Estimate the performance of our models</b> \n",
    "\n",
    "\n",
    "### **<mark style=\"color:#404040;border-radius:20px;opacity:1.5;background-image: url(https://th.bing.com/th/id/R.3be5e39321febd4c1f758691e109c8bd?rik=lkhAzU4ulIuL0Q&riu=http%3a%2f%2fupload.wikimedia.org%2fwikipedia%2fcommons%2f5%2f56%2fRMS_Titanic_2.jpg&ehk=VbIvq0%2b63pXvH%2bl3Ln4tlz%2bwppwyoN%2fUTZDuGVYTHiQ%3d&risl=&pid=ImgRaw&r=0)\"> Cross-Validation  </mark>**\n",
    "<br>\n",
    "\n",
    "\n",
    "Cross-validation is used to estimate the performance of a model on unseen data. It helps assess how well the model generalizes to unseen data. The basic idea behind cross-validation is to split the available dataset into multiple subsets or folds.\n",
    "\n",
    "<br>\n",
    "\n",
    "<div style=\"border-radius:10px;border:#595959 solid;padding: 15px;background-color:#ffffff00;font-size:100%;text-align:left\">\n",
    "This approach makes the best use of all the data we are given, so it's particularly useful when the sample size is small.</div>\n",
    "\n",
    "<br>\n",
    "The most common type is k-fold cross-validation. In k-fold cross-validation, the data is divided into k equal-sized folds. The model is trained on k-1 folds and tested on the remaining fold.\n",
    "\n",
    "This process is repeated k times, with each fold serving as the test set once. The performance metric is then averaged across all the folds to get an estimate of the model's performance.\n",
    "\n",
    "### **<mark style=\"color:white;border-radius:5px;opacity:1.0;background-image: url(https://th.bing.com/th/id/R.3be5e39321febd4c1f758691e109c8bd?rik=lkhAzU4ulIuL0Q&riu=http%3a%2f%2fupload.wikimedia.org%2fwikipedia%2fcommons%2f5%2f56%2fRMS_Titanic_2.jpg&ehk=VbIvq0%2b63pXvH%2bl3Ln4tlz%2bwppwyoN%2fUTZDuGVYTHiQ%3d&risl=&pid=ImgRaw&r=0)\"> Note that </mark>**\n",
    "\n",
    "Calculate the value of mean and standard deviation of averaged across all the folds and the  best model that have a good mean accracy and a low value of standard deviation. \n",
    "\n"
   ]
  },
  {
   "cell_type": "code",
   "execution_count": 67,
   "id": "baf59402",
   "metadata": {
    "execution": {
     "iopub.execute_input": "2023-07-06T18:59:58.968824Z",
     "iopub.status.busy": "2023-07-06T18:59:58.968418Z",
     "iopub.status.idle": "2023-07-06T19:00:01.927939Z",
     "shell.execute_reply": "2023-07-06T19:00:01.926776Z"
    },
    "papermill": {
     "duration": 3.002361,
     "end_time": "2023-07-06T19:00:01.930574",
     "exception": false,
     "start_time": "2023-07-06T18:59:58.928213",
     "status": "completed"
    },
    "tags": []
   },
   "outputs": [],
   "source": [
    "models_data = {'min_score':{},'max_score':{},'mean_score':{},'std_dev':{}}\n",
    "for name, model in Models:   \n",
    "    \n",
    "    # get cross validation score for each model:\n",
    "    cv_results = cross_val_score(model, X_train, y_train, \n",
    "                                 cv=5, scoring=\"accuracy\" )\n",
    "    \n",
    "    # output:\n",
    "    \n",
    "    #min accuracy.\n",
    "    min_score = round(min(cv_results)*100, 4)\n",
    "    models_data['min_score'][name] = min_score\n",
    "     \n",
    "    #max accuracy.\n",
    "    max_score = round(max(cv_results)*100, 4)\n",
    "    models_data['max_score'][name] = max_score\n",
    "    \n",
    "    #average accuracy.\n",
    "    mean_score = round(np.mean(cv_results)*100, 4)\n",
    "    models_data['mean_score'][name] = mean_score\n",
    "    \n",
    "    #standard deviation of the data to see degree of variance in the results.\n",
    "    std_dev = round(np.std(cv_results), 4)\n",
    "    models_data['std_dev'][name] = std_dev"
   ]
  },
  {
   "cell_type": "code",
   "execution_count": 68,
   "id": "67f4c52d",
   "metadata": {
    "execution": {
     "iopub.execute_input": "2023-07-06T19:00:02.011700Z",
     "iopub.status.busy": "2023-07-06T19:00:02.011277Z",
     "iopub.status.idle": "2023-07-06T19:00:02.024875Z",
     "shell.execute_reply": "2023-07-06T19:00:02.023709Z"
    },
    "papermill": {
     "duration": 0.05749,
     "end_time": "2023-07-06T19:00:02.027153",
     "exception": false,
     "start_time": "2023-07-06T19:00:01.969663",
     "status": "completed"
    },
    "tags": []
   },
   "outputs": [
    {
     "data": {
      "text/html": [
       "<div>\n",
       "<style scoped>\n",
       "    .dataframe tbody tr th:only-of-type {\n",
       "        vertical-align: middle;\n",
       "    }\n",
       "\n",
       "    .dataframe tbody tr th {\n",
       "        vertical-align: top;\n",
       "    }\n",
       "\n",
       "    .dataframe thead th {\n",
       "        text-align: right;\n",
       "    }\n",
       "</style>\n",
       "<table border=\"1\" class=\"dataframe\">\n",
       "  <thead>\n",
       "    <tr style=\"text-align: right;\">\n",
       "      <th></th>\n",
       "      <th>min_score</th>\n",
       "      <th>max_score</th>\n",
       "      <th>mean_score</th>\n",
       "      <th>std_dev</th>\n",
       "    </tr>\n",
       "  </thead>\n",
       "  <tbody>\n",
       "    <tr>\n",
       "      <th>SVM</th>\n",
       "      <td>80.3371</td>\n",
       "      <td>85.3933</td>\n",
       "      <td>82.7142</td>\n",
       "      <td>0.0188</td>\n",
       "    </tr>\n",
       "    <tr>\n",
       "      <th>kNN</th>\n",
       "      <td>72.0670</td>\n",
       "      <td>83.7079</td>\n",
       "      <td>78.9078</td>\n",
       "      <td>0.0404</td>\n",
       "    </tr>\n",
       "    <tr>\n",
       "      <th>LR_model</th>\n",
       "      <td>78.6517</td>\n",
       "      <td>84.2697</td>\n",
       "      <td>81.1449</td>\n",
       "      <td>0.0180</td>\n",
       "    </tr>\n",
       "    <tr>\n",
       "      <th>DT_model</th>\n",
       "      <td>78.7709</td>\n",
       "      <td>85.3933</td>\n",
       "      <td>81.3722</td>\n",
       "      <td>0.0267</td>\n",
       "    </tr>\n",
       "    <tr>\n",
       "      <th>RF_model</th>\n",
       "      <td>77.6536</td>\n",
       "      <td>85.9551</td>\n",
       "      <td>81.0363</td>\n",
       "      <td>0.0284</td>\n",
       "    </tr>\n",
       "    <tr>\n",
       "      <th>GradientBoosting</th>\n",
       "      <td>80.3371</td>\n",
       "      <td>85.3933</td>\n",
       "      <td>82.3784</td>\n",
       "      <td>0.0177</td>\n",
       "    </tr>\n",
       "  </tbody>\n",
       "</table>\n",
       "</div>"
      ],
      "text/plain": [
       "                  min_score  max_score  mean_score  std_dev\n",
       "SVM                 80.3371    85.3933     82.7142   0.0188\n",
       "kNN                 72.0670    83.7079     78.9078   0.0404\n",
       "LR_model            78.6517    84.2697     81.1449   0.0180\n",
       "DT_model            78.7709    85.3933     81.3722   0.0267\n",
       "RF_model            77.6536    85.9551     81.0363   0.0284\n",
       "GradientBoosting    80.3371    85.3933     82.3784   0.0177"
      ]
     },
     "execution_count": 68,
     "metadata": {},
     "output_type": "execute_result"
    }
   ],
   "source": [
    "models_df = pd.DataFrame(models_data)\n",
    "models_df"
   ]
  },
  {
   "cell_type": "markdown",
   "id": "a73bccc2",
   "metadata": {
    "papermill": {
     "duration": 0.038754,
     "end_time": "2023-07-06T19:00:02.105307",
     "exception": false,
     "start_time": "2023-07-06T19:00:02.066553",
     "status": "completed"
    },
    "tags": []
   },
   "source": [
    "## <b>IV <span style='color:#595959'>|</span> Chose the best model</b> \n",
    "\n",
    "We found that `decision tree` model with K-Fold Cross Validation reached a good mean accracy and a lowest value of standard deviation. The value of std is extremely low, which means that our model has a very low variance. The model performed good on all test sets. which mean that our model has no overfitting.\n",
    "\n",
    "## **<mark style=\"color:#404040;border-radius:20px;opacity:1.5;background-image: url(https://th.bing.com/th/id/R.3be5e39321febd4c1f758691e109c8bd?rik=lkhAzU4ulIuL0Q&riu=http%3a%2f%2fupload.wikimedia.org%2fwikipedia%2fcommons%2f5%2f56%2fRMS_Titanic_2.jpg&ehk=VbIvq0%2b63pXvH%2bl3Ln4tlz%2bwppwyoN%2fUTZDuGVYTHiQ%3d&risl=&pid=ImgRaw&r=0)\"> Decision Tree model  </mark>**\n",
    "<br>\n",
    "\n",
    "**<span style='color:#8e9b9a'>Decision tree</span>** builds tree branches and each branch can be considered as an if-else statement. The branches develop by partitioning the dataset into subsets based on most important features. Final classification happens at the leaves of the decision tree.\n",
    "\n",
    "▶ **<span style='color:#8e9b9a'>decision tree common hyperparameters: </span>** max_depth, min_samples_split, min_samples_leaf; max_features.\n",
    "\n",
    "<p style=\"text-align:center; \">\n",
    "<img src=\"https://miro.medium.com/v2/resize:fit:640/format:webp/1*fSlQBEta5GKjNgZGsVTVTA.png\" style='width: 500px; height: 300px;'>\n",
    "</p>\n",
    "\n",
    "\n",
    "### **<span style='color:#8e9b9a'> Advantages of Decision Tree</span>**\n",
    "* Extremely fast at classifying unknown records.\n",
    "* Easy to interpret for small-sized trees.\n",
    "* Their accuracy is comparable to other classification techniques for many simple data sets.\n",
    "* Exclude unimportant features.\n",
    "\n",
    "### **<span style='color:#8e9b9a'> Disadvantages of Decision Tree</span>**\n",
    "* Easy to overfit.\n",
    "* Decision tree models are often biased toward splits on features having a large number of levels.\n",
    "* Small changes in the training data can result in large changes to decision logic.\n",
    "* Large trees can be difficult to interpret and the decisions they make may seem counter-intuitive.\n",
    "\n",
    "[Check it out for more about Decision Tree](https://builtin.com/data-science/classification-tree)."
   ]
  },
  {
   "cell_type": "code",
   "execution_count": 69,
   "id": "357448d6",
   "metadata": {
    "execution": {
     "iopub.execute_input": "2023-07-06T19:00:02.184328Z",
     "iopub.status.busy": "2023-07-06T19:00:02.183964Z",
     "iopub.status.idle": "2023-07-06T19:00:02.197591Z",
     "shell.execute_reply": "2023-07-06T19:00:02.196206Z"
    },
    "papermill": {
     "duration": 0.055732,
     "end_time": "2023-07-06T19:00:02.199824",
     "exception": false,
     "start_time": "2023-07-06T19:00:02.144092",
     "status": "completed"
    },
    "tags": []
   },
   "outputs": [
    {
     "name": "stdout",
     "output_type": "stream",
     "text": [
      "88.55 %\n"
     ]
    }
   ],
   "source": [
    "# Decision Tree\n",
    "DT_model = DecisionTreeClassifier()\n",
    "DT_model.fit(X_train, y_train)\n",
    "\n",
    "acc_decision_tree = round(DT_model.score(X_train, y_train) * 100, 2)\n",
    "print(round(acc_decision_tree,2,), \"%\")"
   ]
  },
  {
   "cell_type": "markdown",
   "id": "f8b92613",
   "metadata": {
    "papermill": {
     "duration": 0.038966,
     "end_time": "2023-07-06T19:00:02.278491",
     "exception": false,
     "start_time": "2023-07-06T19:00:02.239525",
     "status": "completed"
    },
    "tags": []
   },
   "source": [
    "## <b>V <span style='color:#595959'>|</span> Hyperparameter Tuning </b> \n",
    "\n",
    "how to optimize your model built using the previous section using the GridSearchCV.\n",
    "\n",
    "## **<mark style=\"color:#404040;border-radius:20px;opacity:1.5;background-image: url(https://th.bing.com/th/id/R.3be5e39321febd4c1f758691e109c8bd?rik=lkhAzU4ulIuL0Q&riu=http%3a%2f%2fupload.wikimedia.org%2fwikipedia%2fcommons%2f5%2f56%2fRMS_Titanic_2.jpg&ehk=VbIvq0%2b63pXvH%2bl3Ln4tlz%2bwppwyoN%2fUTZDuGVYTHiQ%3d&risl=&pid=ImgRaw&r=0)\"> Grid search  </mark>**\n",
    "<br>\n",
    "Grid search is used for hyperparameter tuning, where a predefined set of hyperparameters is explored to find the combination that yields the best performance. It is often used in conjunction with cross-validation to evaluate the performance.\n",
    "\n",
    "let's tune our model. The first step is creating a range of hyperparameters that we want to evaluate. And Create a `GridSearchCV` model that includes your classifier and hyperparameter grid.\n",
    "\n",
    "\n",
    "\n",
    "[Click here for more](https://towardsdatascience.com/tuning-the-hyperparameters-of-your-machine-learning-model-using-gridsearchcv-7fc2bb76ff27)\n"
   ]
  },
  {
   "cell_type": "code",
   "execution_count": 70,
   "id": "a5a9947c",
   "metadata": {
    "execution": {
     "iopub.execute_input": "2023-07-06T19:00:02.368461Z",
     "iopub.status.busy": "2023-07-06T19:00:02.368048Z",
     "iopub.status.idle": "2023-07-06T19:00:06.622097Z",
     "shell.execute_reply": "2023-07-06T19:00:06.620879Z"
    },
    "papermill": {
     "duration": 4.300822,
     "end_time": "2023-07-06T19:00:06.624411",
     "exception": false,
     "start_time": "2023-07-06T19:00:02.323589",
     "status": "completed"
    },
    "tags": []
   },
   "outputs": [
    {
     "name": "stdout",
     "output_type": "stream",
     "text": [
      "Fitting 5 folds for each of 384 candidates, totalling 1920 fits\n"
     ]
    },
    {
     "data": {
      "text/html": [
       "<style>#sk-container-id-1 {color: black;background-color: white;}#sk-container-id-1 pre{padding: 0;}#sk-container-id-1 div.sk-toggleable {background-color: white;}#sk-container-id-1 label.sk-toggleable__label {cursor: pointer;display: block;width: 100%;margin-bottom: 0;padding: 0.3em;box-sizing: border-box;text-align: center;}#sk-container-id-1 label.sk-toggleable__label-arrow:before {content: \"▸\";float: left;margin-right: 0.25em;color: #696969;}#sk-container-id-1 label.sk-toggleable__label-arrow:hover:before {color: black;}#sk-container-id-1 div.sk-estimator:hover label.sk-toggleable__label-arrow:before {color: black;}#sk-container-id-1 div.sk-toggleable__content {max-height: 0;max-width: 0;overflow: hidden;text-align: left;background-color: #f0f8ff;}#sk-container-id-1 div.sk-toggleable__content pre {margin: 0.2em;color: black;border-radius: 0.25em;background-color: #f0f8ff;}#sk-container-id-1 input.sk-toggleable__control:checked~div.sk-toggleable__content {max-height: 200px;max-width: 100%;overflow: auto;}#sk-container-id-1 input.sk-toggleable__control:checked~label.sk-toggleable__label-arrow:before {content: \"▾\";}#sk-container-id-1 div.sk-estimator input.sk-toggleable__control:checked~label.sk-toggleable__label {background-color: #d4ebff;}#sk-container-id-1 div.sk-label input.sk-toggleable__control:checked~label.sk-toggleable__label {background-color: #d4ebff;}#sk-container-id-1 input.sk-hidden--visually {border: 0;clip: rect(1px 1px 1px 1px);clip: rect(1px, 1px, 1px, 1px);height: 1px;margin: -1px;overflow: hidden;padding: 0;position: absolute;width: 1px;}#sk-container-id-1 div.sk-estimator {font-family: monospace;background-color: #f0f8ff;border: 1px dotted black;border-radius: 0.25em;box-sizing: border-box;margin-bottom: 0.5em;}#sk-container-id-1 div.sk-estimator:hover {background-color: #d4ebff;}#sk-container-id-1 div.sk-parallel-item::after {content: \"\";width: 100%;border-bottom: 1px solid gray;flex-grow: 1;}#sk-container-id-1 div.sk-label:hover label.sk-toggleable__label {background-color: #d4ebff;}#sk-container-id-1 div.sk-serial::before {content: \"\";position: absolute;border-left: 1px solid gray;box-sizing: border-box;top: 0;bottom: 0;left: 50%;z-index: 0;}#sk-container-id-1 div.sk-serial {display: flex;flex-direction: column;align-items: center;background-color: white;padding-right: 0.2em;padding-left: 0.2em;position: relative;}#sk-container-id-1 div.sk-item {position: relative;z-index: 1;}#sk-container-id-1 div.sk-parallel {display: flex;align-items: stretch;justify-content: center;background-color: white;position: relative;}#sk-container-id-1 div.sk-item::before, #sk-container-id-1 div.sk-parallel-item::before {content: \"\";position: absolute;border-left: 1px solid gray;box-sizing: border-box;top: 0;bottom: 0;left: 50%;z-index: -1;}#sk-container-id-1 div.sk-parallel-item {display: flex;flex-direction: column;z-index: 1;position: relative;background-color: white;}#sk-container-id-1 div.sk-parallel-item:first-child::after {align-self: flex-end;width: 50%;}#sk-container-id-1 div.sk-parallel-item:last-child::after {align-self: flex-start;width: 50%;}#sk-container-id-1 div.sk-parallel-item:only-child::after {width: 0;}#sk-container-id-1 div.sk-dashed-wrapped {border: 1px dashed gray;margin: 0 0.4em 0.5em 0.4em;box-sizing: border-box;padding-bottom: 0.4em;background-color: white;}#sk-container-id-1 div.sk-label label {font-family: monospace;font-weight: bold;display: inline-block;line-height: 1.2em;}#sk-container-id-1 div.sk-label-container {text-align: center;}#sk-container-id-1 div.sk-container {/* jupyter's `normalize.less` sets `[hidden] { display: none; }` but bootstrap.min.css set `[hidden] { display: none !important; }` so we also need the `!important` here to be able to override the default hidden behavior on the sphinx rendered scikit-learn.org. See: https://github.com/scikit-learn/scikit-learn/issues/21755 */display: inline-block !important;position: relative;}#sk-container-id-1 div.sk-text-repr-fallback {display: none;}</style><div id=\"sk-container-id-1\" class=\"sk-top-container\"><div class=\"sk-text-repr-fallback\"><pre>GridSearchCV(cv=5, estimator=DecisionTreeClassifier(), n_jobs=-1,\n",
       "             param_grid={&#x27;max_depth&#x27;: range(10, 50, 10),\n",
       "                         &#x27;max_features&#x27;: [&#x27;auto&#x27;, &#x27;sqrt&#x27;],\n",
       "                         &#x27;min_samples_leaf&#x27;: [1, 5, 10, 25, 50, 70],\n",
       "                         &#x27;min_samples_split&#x27;: [2, 4, 10, 12, 16, 18, 25, 35]},\n",
       "             verbose=1)</pre><b>In a Jupyter environment, please rerun this cell to show the HTML representation or trust the notebook. <br />On GitHub, the HTML representation is unable to render, please try loading this page with nbviewer.org.</b></div><div class=\"sk-container\" hidden><div class=\"sk-item sk-dashed-wrapped\"><div class=\"sk-label-container\"><div class=\"sk-label sk-toggleable\"><input class=\"sk-toggleable__control sk-hidden--visually\" id=\"sk-estimator-id-1\" type=\"checkbox\" ><label for=\"sk-estimator-id-1\" class=\"sk-toggleable__label sk-toggleable__label-arrow\">GridSearchCV</label><div class=\"sk-toggleable__content\"><pre>GridSearchCV(cv=5, estimator=DecisionTreeClassifier(), n_jobs=-1,\n",
       "             param_grid={&#x27;max_depth&#x27;: range(10, 50, 10),\n",
       "                         &#x27;max_features&#x27;: [&#x27;auto&#x27;, &#x27;sqrt&#x27;],\n",
       "                         &#x27;min_samples_leaf&#x27;: [1, 5, 10, 25, 50, 70],\n",
       "                         &#x27;min_samples_split&#x27;: [2, 4, 10, 12, 16, 18, 25, 35]},\n",
       "             verbose=1)</pre></div></div></div><div class=\"sk-parallel\"><div class=\"sk-parallel-item\"><div class=\"sk-item\"><div class=\"sk-label-container\"><div class=\"sk-label sk-toggleable\"><input class=\"sk-toggleable__control sk-hidden--visually\" id=\"sk-estimator-id-2\" type=\"checkbox\" ><label for=\"sk-estimator-id-2\" class=\"sk-toggleable__label sk-toggleable__label-arrow\">estimator: DecisionTreeClassifier</label><div class=\"sk-toggleable__content\"><pre>DecisionTreeClassifier()</pre></div></div></div><div class=\"sk-serial\"><div class=\"sk-item\"><div class=\"sk-estimator sk-toggleable\"><input class=\"sk-toggleable__control sk-hidden--visually\" id=\"sk-estimator-id-3\" type=\"checkbox\" ><label for=\"sk-estimator-id-3\" class=\"sk-toggleable__label sk-toggleable__label-arrow\">DecisionTreeClassifier</label><div class=\"sk-toggleable__content\"><pre>DecisionTreeClassifier()</pre></div></div></div></div></div></div></div></div></div></div>"
      ],
      "text/plain": [
       "GridSearchCV(cv=5, estimator=DecisionTreeClassifier(), n_jobs=-1,\n",
       "             param_grid={'max_depth': range(10, 50, 10),\n",
       "                         'max_features': ['auto', 'sqrt'],\n",
       "                         'min_samples_leaf': [1, 5, 10, 25, 50, 70],\n",
       "                         'min_samples_split': [2, 4, 10, 12, 16, 18, 25, 35]},\n",
       "             verbose=1)"
      ]
     },
     "execution_count": 70,
     "metadata": {},
     "output_type": "execute_result"
    }
   ],
   "source": [
    "#our hyperparameter grid\n",
    "params = {\n",
    "    \"max_depth\":range(10,50,10) ,\n",
    "    \"min_samples_leaf\" : [1, 5, 10, 25, 50, 70],\n",
    "    \"min_samples_split\" : [2, 4, 10, 12, 16, 18, 25, 35],\n",
    "    \"max_features\": ['auto', 'sqrt']\n",
    "}\n",
    "model = GridSearchCV(\n",
    "    DT_model,\n",
    "    param_grid=params,\n",
    "    cv=5,\n",
    "    n_jobs=-1,\n",
    "    verbose=1\n",
    ")\n",
    "model.fit(X_train,y_train)"
   ]
  },
  {
   "cell_type": "code",
   "execution_count": 71,
   "id": "e4e1000d",
   "metadata": {
    "execution": {
     "iopub.execute_input": "2023-07-06T19:00:06.704004Z",
     "iopub.status.busy": "2023-07-06T19:00:06.703605Z",
     "iopub.status.idle": "2023-07-06T19:00:06.709825Z",
     "shell.execute_reply": "2023-07-06T19:00:06.708839Z"
    },
    "papermill": {
     "duration": 0.048747,
     "end_time": "2023-07-06T19:00:06.712143",
     "exception": false,
     "start_time": "2023-07-06T19:00:06.663396",
     "status": "completed"
    },
    "tags": []
   },
   "outputs": [
    {
     "name": "stdout",
     "output_type": "stream",
     "text": [
      "{'max_depth': 30, 'max_features': 'sqrt', 'min_samples_leaf': 1, 'min_samples_split': 10}\n",
      "-------------\n",
      "0.829408072311845\n",
      "-------------\n",
      "DecisionTreeClassifier(max_depth=30, max_features='sqrt', min_samples_split=10)\n"
     ]
    }
   ],
   "source": [
    "# Extract best hyperparameters\n",
    "print(model.best_params_)\n",
    "print(\"-------------\")\n",
    "print(model.best_score_)\n",
    "print(\"-------------\")\n",
    "print(model.best_estimator_)"
   ]
  },
  {
   "cell_type": "code",
   "execution_count": 72,
   "id": "892b7a4d",
   "metadata": {
    "execution": {
     "iopub.execute_input": "2023-07-06T19:00:06.792711Z",
     "iopub.status.busy": "2023-07-06T19:00:06.792288Z",
     "iopub.status.idle": "2023-07-06T19:00:06.804395Z",
     "shell.execute_reply": "2023-07-06T19:00:06.803236Z"
    },
    "papermill": {
     "duration": 0.05486,
     "end_time": "2023-07-06T19:00:06.806516",
     "exception": false,
     "start_time": "2023-07-06T19:00:06.751656",
     "status": "completed"
    },
    "tags": []
   },
   "outputs": [
    {
     "name": "stdout",
     "output_type": "stream",
     "text": [
      "86.42 %\n"
     ]
    }
   ],
   "source": [
    "# Random Forest\n",
    "DT_model = model.best_estimator_\n",
    "\n",
    "DT_model.fit(X_train, y_train)\n",
    "\n",
    "acc_decision_tree = round(DT_model.score(X_train, y_train) * 100, 2)\n",
    "print(round(acc_decision_tree,2), \"%\")"
   ]
  },
  {
   "cell_type": "code",
   "execution_count": 73,
   "id": "5d01a3ef",
   "metadata": {
    "execution": {
     "iopub.execute_input": "2023-07-06T19:00:06.887646Z",
     "iopub.status.busy": "2023-07-06T19:00:06.887226Z",
     "iopub.status.idle": "2023-07-06T19:00:07.250834Z",
     "shell.execute_reply": "2023-07-06T19:00:07.249963Z"
    },
    "papermill": {
     "duration": 0.406678,
     "end_time": "2023-07-06T19:00:07.252850",
     "exception": false,
     "start_time": "2023-07-06T19:00:06.846172",
     "status": "completed"
    },
    "tags": []
   },
   "outputs": [
    {
     "data": {
      "image/png": "[encoded data removed]",
      "text/plain": [
       "<Figure size 640x480 with 1 Axes>"
      ]
     },
     "metadata": {},
     "output_type": "display_data"
    }
   ],
   "source": [
    "# Get feature names from training data\n",
    "features = X_train.columns\n",
    "\n",
    "# Extract importances from model\n",
    "importances = model.best_estimator_.feature_importances_\n",
    "\n",
    "# Create a series with feature names and importances\n",
    "feat_imp = pd.Series(importances,index=features).sort_values()\n",
    "\n",
    "# Plot 10 most important features\n",
    "feat_imp.plot(kind='bar')\n",
    "plt.xlabel(\"Gini Importance\")\n",
    "plt.ylabel(\"Feature\")\n",
    "plt.title(\"Feature Importance\");"
   ]
  },
  {
   "cell_type": "markdown",
   "id": "33c1c6a8",
   "metadata": {
    "papermill": {
     "duration": 0.04167,
     "end_time": "2023-07-06T19:00:07.337496",
     "exception": false,
     "start_time": "2023-07-06T19:00:07.295826",
     "status": "completed"
    },
    "tags": []
   },
   "source": [
    "# <a id=\"6\"></a>\n",
    "<div style=\"padding: 30px;color:white;margin:10;font-size:170%;text-align:left;display:fill;border-radius:10px;background-color:#F1C40F;overflow:hidden;background-image: url(https://th.bing.com/th/id/R.3be5e39321febd4c1f758691e109c8bd?rik=lkhAzU4ulIuL0Q&riu=http%3a%2f%2fupload.wikimedia.org%2fwikipedia%2fcommons%2f5%2f56%2fRMS_Titanic_2.jpg&ehk=VbIvq0%2b63pXvH%2bl3Ln4tlz%2bwppwyoN%2fUTZDuGVYTHiQ%3d&risl=&pid=ImgRaw&r=0)\"><b><span style='color:#404040'>5 | Evaluate </span></b> </div>\n",
    "\n",
    "<br>\n",
    "\n",
    "## **<mark style=\"color:#404040;border-radius:5px;opacity:1.0;background-image: url(https://th.bing.com/th/id/R.3be5e39321febd4c1f758691e109c8bd?rik=lkhAzU4ulIuL0Q&riu=http%3a%2f%2fupload.wikimedia.org%2fwikipedia%2fcommons%2f5%2f56%2fRMS_Titanic_2.jpg&ehk=VbIvq0%2b63pXvH%2bl3Ln4tlz%2bwppwyoN%2fUTZDuGVYTHiQ%3d&risl=&pid=ImgRaw&r=0)\"> 1- Confusion Matrix</mark>**\n",
    "<br>\n",
    "\n",
    "**<span style='color:#595959'>Confusion matrix</span>** is a table that summarize the performance of classification models by compared the actual values with predicted values.\n",
    "\n",
    "**It shows:**\n",
    "\n",
    "**<span style='color:#595959'>True Posetive(TP):</span>** correctly prediction as a positive (belong to positive class and predicted as positive)\n",
    "\n",
    "**<span style='color:#595959'>False Positive(FP):</span>** incorrectly prediction as a positive (belong to negative class but predicted as positive)\n",
    "\n",
    "**<span style='color:#595959'>False Negative(FN):</span>** incorrectly prediction as a negative (belong to positive class but predicted as negative)\n",
    "\n",
    "**<span style='color:#595959'>True Negative(TN):</span>** correctly prediction as a negative (belong to negative class and predicted as negative)\n",
    "\n",
    "<br>\n",
    "\n",
    "<div style=\"border-radius:10px;border:#595959 solid;padding: 15px;background-color:#ffffff00;font-size:100%;text-align:left\">\n",
    "note: A good model is one which has high True Posetive(TP) and True Negative(TN) rates\n",
    "</div>\n",
    "\n",
    "<p style=\"text-align:center; \">\n",
    "<img src=\"https://www.researchgate.net/profile/Francois_Waldner/publication/340876219/figure/download/fig4/AS:883619027501056@1587682601588/Illustrative-error-matrix-Shaded-areas-represent-data-that-are-not-available-for.ppm\" style='width: 400px; height: 300px;'>\n",
    "</p>\n"
   ]
  },
  {
   "cell_type": "code",
   "execution_count": 74,
   "id": "948459a6",
   "metadata": {
    "execution": {
     "iopub.execute_input": "2023-07-06T19:00:07.422542Z",
     "iopub.status.busy": "2023-07-06T19:00:07.421951Z",
     "iopub.status.idle": "2023-07-06T19:00:07.610881Z",
     "shell.execute_reply": "2023-07-06T19:00:07.609782Z"
    },
    "papermill": {
     "duration": 0.234328,
     "end_time": "2023-07-06T19:00:07.613129",
     "exception": false,
     "start_time": "2023-07-06T19:00:07.378801",
     "status": "completed"
    },
    "tags": []
   },
   "outputs": [
    {
     "data": {
      "image/png": "[encoded data removed]",
      "text/plain": [
       "<Figure size 800x600 with 1 Axes>"
      ]
     },
     "metadata": {},
     "output_type": "display_data"
    }
   ],
   "source": [
    "# Create a confusion matrix\n",
    "predictions = cross_val_predict(DT_model, X_train, y_train, cv=3)\n",
    "\n",
    "cm = confusion_matrix(y_train, predictions)\n",
    "\n",
    "# Plot confusion matrix using seaborn\n",
    "plt.figure(figsize=(8, 6))\n",
    "sns.heatmap(cm, annot=True, cmap=\"gray_r\", fmt=\"d\", cbar=False)\n",
    "plt.xlabel('Predicted Labels')\n",
    "plt.ylabel('True Labels')\n",
    "plt.title('Confusion Matrix')\n",
    "plt.show()"
   ]
  },
  {
   "cell_type": "markdown",
   "id": "ef23e957",
   "metadata": {
    "papermill": {
     "duration": 0.041602,
     "end_time": "2023-07-06T19:00:07.697555",
     "exception": false,
     "start_time": "2023-07-06T19:00:07.655953",
     "status": "completed"
    },
    "tags": []
   },
   "source": [
    "A confusion matrix gives you a lot of information about how well your model does, but theres a other ways to get even more."
   ]
  },
  {
   "cell_type": "code",
   "execution_count": null,
   "id": "adfc6fcc",
   "metadata": {
    "papermill": {
     "duration": 0.04155,
     "end_time": "2023-07-06T19:00:07.780779",
     "exception": false,
     "start_time": "2023-07-06T19:00:07.739229",
     "status": "completed"
    },
    "tags": []
   },
   "outputs": [],
   "source": []
  },
  {
   "cell_type": "markdown",
   "id": "65b91a75",
   "metadata": {
    "papermill": {
     "duration": 0.041147,
     "end_time": "2023-07-06T19:00:07.862975",
     "exception": false,
     "start_time": "2023-07-06T19:00:07.821828",
     "status": "completed"
    },
    "tags": []
   },
   "source": [
    "## **<mark style=\"color:#404040;border-radius:5px;opacity:1.0;background-image: url(https://th.bing.com/th/id/R.3be5e39321febd4c1f758691e109c8bd?rik=lkhAzU4ulIuL0Q&riu=http%3a%2f%2fupload.wikimedia.org%2fwikipedia%2fcommons%2f5%2f56%2fRMS_Titanic_2.jpg&ehk=VbIvq0%2b63pXvH%2bl3Ln4tlz%2bwppwyoN%2fUTZDuGVYTHiQ%3d&risl=&pid=ImgRaw&r=0)\"> 2- Precision,Recall and F1-Score</mark>**\n",
    "<br>\n",
    "\n",
    "**<span style='color:#595959'>Precision</span>**\n",
    "\n",
    "Precision is a measure of how many of the true positive predictions were actually correct. \n",
    "\n",
    "<p class=\"formulaDsp\">\n",
    "\\[ Precision = \\frac{TP}{TP + FP} \\]\n",
    "</p>\n",
    "\n",
    "**<span style='color:#595959'>Recall</span>**\n",
    "\n",
    "Recall (or Sensitivity) is a measure of how many of the actual positive cases were identified correctly.\n",
    "\n",
    "<p class=\"formulaDsp\">\n",
    "\\[ Recall = \\frac{TP}{TP + FN} \\]\n",
    "</p>\n",
    "\n",
    "**<span style='color:#595959'>F1-Score</span>**\n",
    "\n",
    "The F1 score is the harmonic mean of Precision and Recall and tries to find the balance between precision and recall. \n",
    "\n",
    "* F1-Score is important when the poth precision and recall are equally important and it helps to find a trade-off between recall and precision.\n",
    "\n",
    "<p class=\"formulaDsp\">\n",
    "\\[ F1 Score = \\frac{2 * Precision * Recall}{Precision + Recall} \\]\n",
    "</p>\n"
   ]
  },
  {
   "cell_type": "code",
   "execution_count": 75,
   "id": "8ff255d2",
   "metadata": {
    "execution": {
     "iopub.execute_input": "2023-07-06T19:00:07.948391Z",
     "iopub.status.busy": "2023-07-06T19:00:07.947976Z",
     "iopub.status.idle": "2023-07-06T19:00:07.963794Z",
     "shell.execute_reply": "2023-07-06T19:00:07.962676Z"
    },
    "papermill": {
     "duration": 0.061362,
     "end_time": "2023-07-06T19:00:07.965922",
     "exception": false,
     "start_time": "2023-07-06T19:00:07.904560",
     "status": "completed"
    },
    "tags": []
   },
   "outputs": [
    {
     "name": "stdout",
     "output_type": "stream",
     "text": [
      "Precision: 0.7855\n",
      "Recall: 0.7879\n",
      "F1-score: 0.7853\n"
     ]
    }
   ],
   "source": [
    "# Calculate precision, recall, and F1-score\n",
    "precision = precision_score(y_train,predictions, average='weighted')\n",
    "recall = recall_score(y_train,predictions, average='weighted')\n",
    "f1 = f1_score(y_train,predictions, average='weighted')\n",
    "\n",
    "# Print evaluation metrics\n",
    "print(\"Precision: {:.4f}\".format(precision))\n",
    "print(\"Recall: {:.4f}\".format(recall))\n",
    "print(\"F1-score: {:.4f}\".format(f1))"
   ]
  },
  {
   "cell_type": "markdown",
   "id": "23c9b01b",
   "metadata": {
    "papermill": {
     "duration": 0.041756,
     "end_time": "2023-07-06T19:00:08.050506",
     "exception": false,
     "start_time": "2023-07-06T19:00:08.008750",
     "status": "completed"
    },
    "tags": []
   },
   "source": [
    "* Our model predicts `80%` of the passengers survival correctly (precision). The recall tells us that it predicted the survival of `80%` of the people who actually survived.\n",
    "\n",
    "* F1-score favors classifiers that have a similar precision and recall. So, we have about `80%` F-score. The score is fairly good."
   ]
  },
  {
   "cell_type": "markdown",
   "id": "8db13f80",
   "metadata": {
    "papermill": {
     "duration": 0.041873,
     "end_time": "2023-07-06T19:00:08.135490",
     "exception": false,
     "start_time": "2023-07-06T19:00:08.093617",
     "status": "completed"
    },
    "tags": []
   },
   "source": [
    "## **<mark style=\"color:#404040;border-radius:5px;opacity:1.0;background-image: url(https://th.bing.com/th/id/R.3be5e39321febd4c1f758691e109c8bd?rik=lkhAzU4ulIuL0Q&riu=http%3a%2f%2fupload.wikimedia.org%2fwikipedia%2fcommons%2f5%2f56%2fRMS_Titanic_2.jpg&ehk=VbIvq0%2b63pXvH%2bl3Ln4tlz%2bwppwyoN%2fUTZDuGVYTHiQ%3d&risl=&pid=ImgRaw&r=0)\"> 3- Auc - Roc curve and score</mark>**\n",
    "<br>\n",
    "\n",
    "It tells how much model is capable of distinguishing between classes.\n",
    "Higher the AUC, better the model is at distinguishing between survived and not.\n",
    "\n",
    "▶ **<span style='color:#595959'>ROC curve:</span>** is a graph showing the performance of a classification model at all classification thresholds.\n",
    "\n",
    "<br>\n",
    "\n",
    "<div style=\"border-radius:10px;border:#595959 solid;padding: 15px;background-color:#ffffff00;font-size:100%;text-align:left\">\n",
    "This curve plots two parameters:\n",
    "    True Positive Rate(TPR), False Positive Rate(FPR)\n",
    "</div>\n",
    "\n",
    "<br>\n",
    "\n",
    "▶ **<span style='color:#595959'>AUC</span>**\n",
    "\n",
    "AUC stands for `Area under the ROC Curve` That is, AUC measures the entire two-dimensional area underneath the entire ROC curve (think integral calculus) from (0,0) to (1,1).\n",
    "\n",
    "AUC provides an aggregate measure of performance across all possible classification thresholds. One way of interpreting AUC is as the probability that the model ranks a random positive example more highly than a random negative example.\n",
    "\n",
    "<br>\n",
    "\n",
    "▶ **<span style='color:#595959'> ROC AUC Score:</span>**  is the corresponding score to the ROC AUC Curve. It simply measure the area under the curve, which is called AUC."
   ]
  },
  {
   "cell_type": "code",
   "execution_count": 76,
   "id": "d92829a7",
   "metadata": {
    "execution": {
     "iopub.execute_input": "2023-07-06T19:00:08.222324Z",
     "iopub.status.busy": "2023-07-06T19:00:08.221689Z",
     "iopub.status.idle": "2023-07-06T19:00:08.237841Z",
     "shell.execute_reply": "2023-07-06T19:00:08.236165Z"
    },
    "papermill": {
     "duration": 0.062718,
     "end_time": "2023-07-06T19:00:08.240284",
     "exception": false,
     "start_time": "2023-07-06T19:00:08.177566",
     "status": "completed"
    },
    "tags": []
   },
   "outputs": [
    {
     "name": "stdout",
     "output_type": "stream",
     "text": [
      "ROC-AUC-Score: 0.9303252058500836\n"
     ]
    }
   ],
   "source": [
    "#probabilities of our predictions\n",
    "y_scores = DT_model.predict_proba(X_train) \n",
    "\n",
    "Roc_Auc_Score = roc_auc_score(y_train, y_scores[:,1])\n",
    "print(\"ROC-AUC-Score:\", Roc_Auc_Score)"
   ]
  },
  {
   "cell_type": "markdown",
   "id": "8a4e45fb",
   "metadata": {
    "papermill": {
     "duration": 0.04273,
     "end_time": "2023-07-06T19:00:08.325845",
     "exception": false,
     "start_time": "2023-07-06T19:00:08.283115",
     "status": "completed"
    },
    "tags": []
   },
   "source": [
    "the score is good enough."
   ]
  },
  {
   "cell_type": "code",
   "execution_count": 77,
   "id": "49ce5c5d",
   "metadata": {
    "execution": {
     "iopub.execute_input": "2023-07-06T19:00:08.412213Z",
     "iopub.status.busy": "2023-07-06T19:00:08.411807Z",
     "iopub.status.idle": "2023-07-06T19:00:08.697585Z",
     "shell.execute_reply": "2023-07-06T19:00:08.696446Z"
    },
    "papermill": {
     "duration": 0.332183,
     "end_time": "2023-07-06T19:00:08.700197",
     "exception": false,
     "start_time": "2023-07-06T19:00:08.368014",
     "status": "completed"
    },
    "tags": []
   },
   "outputs": [
    {
     "data": {
      "image/png": "[encoded data removed]",
      "text/plain": [
       "<Figure size 640x480 with 1 Axes>"
      ]
     },
     "metadata": {},
     "output_type": "display_data"
    }
   ],
   "source": [
    "FPR, TPR, thresholds = roc_curve(y_train, y_scores[:,1])\n",
    "\n",
    "plt.plot(FPR, TPR)\n",
    "plt.plot([0, 1], [0, 1], 'g')\n",
    "plt.axis([0, 1, 0, 1])\n",
    "plt.xlabel('False Positive Rate (FPR)')\n",
    "plt.ylabel('True Positive Rate (TPR)')\n",
    "plt.title('Auc - Roc curve',fontsize=15);"
   ]
  },
  {
   "cell_type": "markdown",
   "id": "a2903403",
   "metadata": {
    "papermill": {
     "duration": 0.043215,
     "end_time": "2023-07-06T19:00:08.788665",
     "exception": false,
     "start_time": "2023-07-06T19:00:08.745450",
     "status": "completed"
    },
    "tags": []
   },
   "source": [
    "* Our model should be as far away from green line(purely classifier) as possible. Our model seems to be very good.\n",
    "\n",
    "Now, I think our model is good enough to submit the predictions for the test-set."
   ]
  },
  {
   "cell_type": "markdown",
   "id": "3957414c",
   "metadata": {
    "papermill": {
     "duration": 0.042854,
     "end_time": "2023-07-06T19:00:08.874625",
     "exception": false,
     "start_time": "2023-07-06T19:00:08.831771",
     "status": "completed"
    },
    "tags": []
   },
   "source": [
    "# <a id=\"7\"></a>\n",
    "<div style=\"padding: 30px;color:white;margin:10;font-size:170%;text-align:left;display:fill;border-radius:10px;background-color:#F1C40F;overflow:hidden;background-image: url(https://th.bing.com/th/id/R.3be5e39321febd4c1f758691e109c8bd?rik=lkhAzU4ulIuL0Q&riu=http%3a%2f%2fupload.wikimedia.org%2fwikipedia%2fcommons%2f5%2f56%2fRMS_Titanic_2.jpg&ehk=VbIvq0%2b63pXvH%2bl3Ln4tlz%2bwppwyoN%2fUTZDuGVYTHiQ%3d&risl=&pid=ImgRaw&r=0)\"><b><span style='color:#404040'>6 | Submission </span></b> </div>\n",
    "\n",
    "<br>\n"
   ]
  },
  {
   "cell_type": "code",
   "execution_count": 79,
   "id": "862f6018",
   "metadata": {
    "execution": {
     "iopub.execute_input": "2023-07-06T19:00:08.964976Z",
     "iopub.status.busy": "2023-07-06T19:00:08.964553Z",
     "iopub.status.idle": "2023-07-06T19:00:08.979456Z",
     "shell.execute_reply": "2023-07-06T19:00:08.978064Z"
    },
    "papermill": {
     "duration": 0.064395,
     "end_time": "2023-07-06T19:00:08.982074",
     "exception": false,
     "start_time": "2023-07-06T19:00:08.917679",
     "status": "completed"
    },
    "tags": []
   },
   "outputs": [],
   "source": [
    "#predictions for the test-set.\n",
    "Y_prediction = DT_model.predict(X_test)\n",
    "\n",
    "#submission\n",
    "submission = pd.DataFrame({\n",
    "        \"PassengerId\": test_df[\"PassengerId\"],\n",
    "        \"Survived\": Y_prediction\n",
    "    })\n",
    "submission.to_csv('submission.csv', index=False)"
   ]
  },
  {
   "cell_type": "code",
   "execution_count": null,
   "id": "021af511",
   "metadata": {
    "papermill": {
     "duration": 0.04798,
     "end_time": "2023-07-06T19:00:09.246749",
     "exception": false,
     "start_time": "2023-07-06T19:00:09.198769",
     "status": "completed"
    },
    "tags": []
   },
   "outputs": [],
   "source": []
  }
 ],
 "metadata": {
  "kernelspec": {
   "display_name": "Python 3 (ipykernel)",
   "language": "python",
   "name": "python3"
  },
  "language_info": {
   "codemirror_mode": {
    "name": "ipython",
    "version": 3
   },
   "file_extension": ".py",
   "mimetype": "text/x-python",
   "name": "python",
   "nbconvert_exporter": "python",
   "pygments_lexer": "ipython3",
   "version": "3.10.9"
  },
  "papermill": {
   "default_parameters": {},
   "duration": 49.516484,
   "end_time": "2023-07-06T19:00:11.914666",
   "environment_variables": {},
   "exception": null,
   "input_path": "__notebook__.ipynb",
   "output_path": "__notebook__.ipynb",
   "parameters": {},
   "start_time": "2023-07-06T18:59:22.398182",
   "version": "2.4.0"
  }
 },
 "nbformat": 4,
 "nbformat_minor": 5
}
